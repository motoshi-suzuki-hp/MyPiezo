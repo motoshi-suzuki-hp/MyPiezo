{
 "cells": [
  {
   "cell_type": "code",
   "execution_count": 146,
   "id": "847dc4b2-b33a-4b27-a47c-74103762de9e",
   "metadata": {},
   "outputs": [],
   "source": [
    "import pandas as pd\n",
    "import numpy as np\n",
    "\n",
    "df = pd.read_csv(\"material_piezo_list.csv\",sep=\",\" )"
   ]
  },
  {
   "cell_type": "code",
   "execution_count": 147,
   "id": "e2e9ec09-3970-4f2b-a228-98b165eddc01",
   "metadata": {},
   "outputs": [],
   "source": [
    "df = df.drop(df.columns[0], axis=1)"
   ]
  },
  {
   "cell_type": "code",
   "execution_count": 149,
   "id": "3e34c839-1faa-4a27-ab9c-984f04d2d7ce",
   "metadata": {},
   "outputs": [
    {
     "data": {
      "text/html": [
       "<div>\n",
       "<style scoped>\n",
       "    .dataframe tbody tr th:only-of-type {\n",
       "        vertical-align: middle;\n",
       "    }\n",
       "\n",
       "    .dataframe tbody tr th {\n",
       "        vertical-align: top;\n",
       "    }\n",
       "\n",
       "    .dataframe thead th {\n",
       "        text-align: right;\n",
       "    }\n",
       "</style>\n",
       "<table border=\"1\" class=\"dataframe\">\n",
       "  <thead>\n",
       "    <tr style=\"text-align: right;\">\n",
       "      <th></th>\n",
       "      <th>energy</th>\n",
       "      <th>energy_per_atom</th>\n",
       "      <th>volume</th>\n",
       "      <th>formation_energy_per_atom</th>\n",
       "      <th>nsites</th>\n",
       "      <th>unit_cell_formula</th>\n",
       "      <th>pretty_formula</th>\n",
       "      <th>is_hubbard</th>\n",
       "      <th>elements</th>\n",
       "      <th>nelements</th>\n",
       "      <th>...</th>\n",
       "      <th>cif</th>\n",
       "      <th>total_magnetization</th>\n",
       "      <th>material_id</th>\n",
       "      <th>oxide_type</th>\n",
       "      <th>tags</th>\n",
       "      <th>elasticity</th>\n",
       "      <th>piezo</th>\n",
       "      <th>diel</th>\n",
       "      <th>deprecated</th>\n",
       "      <th>full_formula</th>\n",
       "    </tr>\n",
       "  </thead>\n",
       "  <tbody>\n",
       "    <tr>\n",
       "      <th>0</th>\n",
       "      <td>-4.917780</td>\n",
       "      <td>-2.458890</td>\n",
       "      <td>73.219559</td>\n",
       "      <td>-0.280621</td>\n",
       "      <td>2</td>\n",
       "      <td>{'Ag': 1.0, 'I': 1.0}</td>\n",
       "      <td>AgI</td>\n",
       "      <td>False</td>\n",
       "      <td>['Ag', 'I']</td>\n",
       "      <td>2</td>\n",
       "      <td>...</td>\n",
       "      <td># generated using pymatgen\\ndata_AgI\\n_symmetr...</td>\n",
       "      <td>1.000000e-07</td>\n",
       "      <td>mp-22925</td>\n",
       "      <td>None</td>\n",
       "      <td>['Silver iodide - gamma', 'Silver iodide', \"Si...</td>\n",
       "      <td>{'G_Reuss': 2.0, 'G_VRH': 5.0, 'G_Voigt': 8.0,...</td>\n",
       "      <td>{'eij_max': 0.1584199999999997, 'piezoelectric...</td>\n",
       "      <td>{'e_electronic': [[5.0266240000000115, 0.0, 0....</td>\n",
       "      <td>False</td>\n",
       "      <td>Ag1I1</td>\n",
       "    </tr>\n",
       "    <tr>\n",
       "      <th>1</th>\n",
       "      <td>-4.976932</td>\n",
       "      <td>-2.488466</td>\n",
       "      <td>72.827181</td>\n",
       "      <td>-0.463714</td>\n",
       "      <td>2</td>\n",
       "      <td>{'Cd': 1.0, 'Te': 1.0}</td>\n",
       "      <td>CdTe</td>\n",
       "      <td>False</td>\n",
       "      <td>['Cd', 'Te']</td>\n",
       "      <td>2</td>\n",
       "      <td>...</td>\n",
       "      <td># generated using pymatgen\\ndata_CdTe\\n_symmet...</td>\n",
       "      <td>0.000000e+00</td>\n",
       "      <td>mp-406</td>\n",
       "      <td>None</td>\n",
       "      <td>['Cadmium tellurium - nanocrystalline', 'Cadmi...</td>\n",
       "      <td>{'G_Reuss': 13.0, 'G_VRH': 14.0, 'G_Voigt': 15...</td>\n",
       "      <td>{'eij_max': 0.008396666666666719, 'piezoelectr...</td>\n",
       "      <td>{'e_electronic': [[9.309292000000019, 0.0, 0.0...</td>\n",
       "      <td>False</td>\n",
       "      <td>Cd1Te1</td>\n",
       "    </tr>\n",
       "    <tr>\n",
       "      <th>2</th>\n",
       "      <td>-17.422918</td>\n",
       "      <td>-8.711459</td>\n",
       "      <td>11.918569</td>\n",
       "      <td>-1.395528</td>\n",
       "      <td>2</td>\n",
       "      <td>{'B': 1.0, 'N': 1.0}</td>\n",
       "      <td>BN</td>\n",
       "      <td>False</td>\n",
       "      <td>['B', 'N']</td>\n",
       "      <td>2</td>\n",
       "      <td>...</td>\n",
       "      <td># generated using pymatgen\\ndata_BN\\n_symmetry...</td>\n",
       "      <td>0.000000e+00</td>\n",
       "      <td>mp-1639</td>\n",
       "      <td>None</td>\n",
       "      <td>['High pressure experimental phase', 'Boron ni...</td>\n",
       "      <td>{'G_Reuss': 365.0, 'G_VRH': 374.0, 'G_Voigt': ...</td>\n",
       "      <td>{'eij_max': 0.8967600000000003, 'piezoelectric...</td>\n",
       "      <td>{'e_electronic': [[4.6166129999999885, 0.0, 0....</td>\n",
       "      <td>False</td>\n",
       "      <td>B1N1</td>\n",
       "    </tr>\n",
       "    <tr>\n",
       "      <th>3</th>\n",
       "      <td>-7.018682</td>\n",
       "      <td>-3.509341</td>\n",
       "      <td>40.475671</td>\n",
       "      <td>-1.143116</td>\n",
       "      <td>2</td>\n",
       "      <td>{'Zn': 1.0, 'S': 1.0}</td>\n",
       "      <td>ZnS</td>\n",
       "      <td>False</td>\n",
       "      <td>['Zn', 'S']</td>\n",
       "      <td>2</td>\n",
       "      <td>...</td>\n",
       "      <td># generated using pymatgen\\ndata_ZnS\\n_symmetr...</td>\n",
       "      <td>0.000000e+00</td>\n",
       "      <td>mp-10695</td>\n",
       "      <td>None</td>\n",
       "      <td>['Zinc sulfide (1/1)', 'Sphalerite', 'High pre...</td>\n",
       "      <td>{'G_Reuss': 31.0, 'G_VRH': 33.0, 'G_Voigt': 36...</td>\n",
       "      <td>{'eij_max': 0.05316000000000007, 'piezoelectri...</td>\n",
       "      <td>{'e_electronic': [[5.903599999999994, 0.0, 0.0...</td>\n",
       "      <td>False</td>\n",
       "      <td>Zn1S1</td>\n",
       "    </tr>\n",
       "    <tr>\n",
       "      <th>4</th>\n",
       "      <td>-5.349359</td>\n",
       "      <td>-2.674679</td>\n",
       "      <td>59.145603</td>\n",
       "      <td>-0.473299</td>\n",
       "      <td>2</td>\n",
       "      <td>{'Zn': 1.0, 'Te': 1.0}</td>\n",
       "      <td>ZnTe</td>\n",
       "      <td>False</td>\n",
       "      <td>['Zn', 'Te']</td>\n",
       "      <td>2</td>\n",
       "      <td>...</td>\n",
       "      <td># generated using pymatgen\\ndata_ZnTe\\n_symmet...</td>\n",
       "      <td>0.000000e+00</td>\n",
       "      <td>mp-2176</td>\n",
       "      <td>None</td>\n",
       "      <td>['High pressure experimental phase', 'Zinc tel...</td>\n",
       "      <td>{'G_Reuss': 21.0, 'G_VRH': 22.0, 'G_Voigt': 24...</td>\n",
       "      <td>{'eij_max': 0.11930999999999999, 'piezoelectri...</td>\n",
       "      <td>{'e_electronic': [[9.017235000000003, 0.0, 0.0...</td>\n",
       "      <td>False</td>\n",
       "      <td>Zn1Te1</td>\n",
       "    </tr>\n",
       "    <tr>\n",
       "      <th>...</th>\n",
       "      <td>...</td>\n",
       "      <td>...</td>\n",
       "      <td>...</td>\n",
       "      <td>...</td>\n",
       "      <td>...</td>\n",
       "      <td>...</td>\n",
       "      <td>...</td>\n",
       "      <td>...</td>\n",
       "      <td>...</td>\n",
       "      <td>...</td>\n",
       "      <td>...</td>\n",
       "      <td>...</td>\n",
       "      <td>...</td>\n",
       "      <td>...</td>\n",
       "      <td>...</td>\n",
       "      <td>...</td>\n",
       "      <td>...</td>\n",
       "      <td>...</td>\n",
       "      <td>...</td>\n",
       "      <td>...</td>\n",
       "      <td>...</td>\n",
       "    </tr>\n",
       "    <tr>\n",
       "      <th>800</th>\n",
       "      <td>-94.263380</td>\n",
       "      <td>-7.855282</td>\n",
       "      <td>196.249517</td>\n",
       "      <td>-3.217041</td>\n",
       "      <td>12</td>\n",
       "      <td>{'Si': 4.0, 'O': 8.0}</td>\n",
       "      <td>SiO2</td>\n",
       "      <td>False</td>\n",
       "      <td>['O', 'Si']</td>\n",
       "      <td>2</td>\n",
       "      <td>...</td>\n",
       "      <td># generated using pymatgen\\ndata_SiO2\\n_symmet...</td>\n",
       "      <td>0.000000e+00</td>\n",
       "      <td>mp-557873</td>\n",
       "      <td>oxide</td>\n",
       "      <td>['Silicon oxide']</td>\n",
       "      <td>NaN</td>\n",
       "      <td>NaN</td>\n",
       "      <td>NaN</td>\n",
       "      <td>False</td>\n",
       "      <td>Si4O8</td>\n",
       "    </tr>\n",
       "    <tr>\n",
       "      <th>801</th>\n",
       "      <td>-96.037385</td>\n",
       "      <td>-8.003115</td>\n",
       "      <td>216.202240</td>\n",
       "      <td>-2.936967</td>\n",
       "      <td>12</td>\n",
       "      <td>{'Ti': 3.0, 'Te': 1.0, 'O': 8.0}</td>\n",
       "      <td>Ti3TeO8</td>\n",
       "      <td>False</td>\n",
       "      <td>['Ti', 'Te', 'O']</td>\n",
       "      <td>3</td>\n",
       "      <td>...</td>\n",
       "      <td># generated using pymatgen\\ndata_Ti3TeO8\\n_sym...</td>\n",
       "      <td>1.000000e-07</td>\n",
       "      <td>mp-774922</td>\n",
       "      <td>oxide</td>\n",
       "      <td>[]</td>\n",
       "      <td>{'G_Reuss': 12.0, 'G_VRH': 13.0, 'G_Voigt': 15...</td>\n",
       "      <td>{'eij_max': 0.590581140221522, 'piezoelectric_...</td>\n",
       "      <td>{'e_electronic': [[4.029267223201615, 0.315162...</td>\n",
       "      <td>False</td>\n",
       "      <td>Ti3Te1O8</td>\n",
       "    </tr>\n",
       "    <tr>\n",
       "      <th>802</th>\n",
       "      <td>-65.295890</td>\n",
       "      <td>-5.022761</td>\n",
       "      <td>131.247561</td>\n",
       "      <td>-1.326167</td>\n",
       "      <td>13</td>\n",
       "      <td>{'Te': 1.0, 'H': 6.0, 'O': 6.0}</td>\n",
       "      <td>Te(HO)6</td>\n",
       "      <td>False</td>\n",
       "      <td>['H', 'O', 'Te']</td>\n",
       "      <td>3</td>\n",
       "      <td>...</td>\n",
       "      <td># generated using pymatgen\\ndata_Te(HO)6\\n_sym...</td>\n",
       "      <td>1.200000e-06</td>\n",
       "      <td>mp-625993</td>\n",
       "      <td>hydroxide</td>\n",
       "      <td>[]</td>\n",
       "      <td>NaN</td>\n",
       "      <td>{'eij_max': 0.25468537602062336, 'piezoelectri...</td>\n",
       "      <td>{'e_electronic': [[2.613064781488079, -0.02743...</td>\n",
       "      <td>False</td>\n",
       "      <td>Te1H6O6</td>\n",
       "    </tr>\n",
       "    <tr>\n",
       "      <th>803</th>\n",
       "      <td>-65.432351</td>\n",
       "      <td>-5.033258</td>\n",
       "      <td>133.716708</td>\n",
       "      <td>-1.336664</td>\n",
       "      <td>13</td>\n",
       "      <td>{'Te': 1.0, 'H': 6.0, 'O': 6.0}</td>\n",
       "      <td>Te(HO)6</td>\n",
       "      <td>False</td>\n",
       "      <td>['H', 'O', 'Te']</td>\n",
       "      <td>3</td>\n",
       "      <td>...</td>\n",
       "      <td># generated using pymatgen\\ndata_Te(HO)6\\n_sym...</td>\n",
       "      <td>0.000000e+00</td>\n",
       "      <td>mp-626012</td>\n",
       "      <td>hydroxide</td>\n",
       "      <td>[]</td>\n",
       "      <td>NaN</td>\n",
       "      <td>{'eij_max': 0.26311366296230715, 'piezoelectri...</td>\n",
       "      <td>{'e_electronic': [[2.6398818439256075, -0.0421...</td>\n",
       "      <td>False</td>\n",
       "      <td>Te1H6O6</td>\n",
       "    </tr>\n",
       "    <tr>\n",
       "      <th>804</th>\n",
       "      <td>-66.807717</td>\n",
       "      <td>-5.139055</td>\n",
       "      <td>258.802047</td>\n",
       "      <td>-1.189834</td>\n",
       "      <td>13</td>\n",
       "      <td>{'K': 4.0, 'Mo': 1.0, 'O': 8.0}</td>\n",
       "      <td>K4MoO8</td>\n",
       "      <td>True</td>\n",
       "      <td>['K', 'Mo', 'O']</td>\n",
       "      <td>3</td>\n",
       "      <td>...</td>\n",
       "      <td># generated using pymatgen\\ndata_K4MoO8\\n_symm...</td>\n",
       "      <td>0.000000e+00</td>\n",
       "      <td>mp-705676</td>\n",
       "      <td>ozonide</td>\n",
       "      <td>[]</td>\n",
       "      <td>NaN</td>\n",
       "      <td>{'eij_max': 1.8943903364313384, 'piezoelectric...</td>\n",
       "      <td>{'e_electronic': [[3.377136478949216, -0.09959...</td>\n",
       "      <td>False</td>\n",
       "      <td>K4Mo1O8</td>\n",
       "    </tr>\n",
       "  </tbody>\n",
       "</table>\n",
       "<p>805 rows × 29 columns</p>\n",
       "</div>"
      ],
      "text/plain": [
       "        energy  energy_per_atom      volume  formation_energy_per_atom  \\\n",
       "0    -4.917780        -2.458890   73.219559                  -0.280621   \n",
       "1    -4.976932        -2.488466   72.827181                  -0.463714   \n",
       "2   -17.422918        -8.711459   11.918569                  -1.395528   \n",
       "3    -7.018682        -3.509341   40.475671                  -1.143116   \n",
       "4    -5.349359        -2.674679   59.145603                  -0.473299   \n",
       "..         ...              ...         ...                        ...   \n",
       "800 -94.263380        -7.855282  196.249517                  -3.217041   \n",
       "801 -96.037385        -8.003115  216.202240                  -2.936967   \n",
       "802 -65.295890        -5.022761  131.247561                  -1.326167   \n",
       "803 -65.432351        -5.033258  133.716708                  -1.336664   \n",
       "804 -66.807717        -5.139055  258.802047                  -1.189834   \n",
       "\n",
       "     nsites                 unit_cell_formula pretty_formula  is_hubbard  \\\n",
       "0         2             {'Ag': 1.0, 'I': 1.0}            AgI       False   \n",
       "1         2            {'Cd': 1.0, 'Te': 1.0}           CdTe       False   \n",
       "2         2              {'B': 1.0, 'N': 1.0}             BN       False   \n",
       "3         2             {'Zn': 1.0, 'S': 1.0}            ZnS       False   \n",
       "4         2            {'Zn': 1.0, 'Te': 1.0}           ZnTe       False   \n",
       "..      ...                               ...            ...         ...   \n",
       "800      12             {'Si': 4.0, 'O': 8.0}           SiO2       False   \n",
       "801      12  {'Ti': 3.0, 'Te': 1.0, 'O': 8.0}        Ti3TeO8       False   \n",
       "802      13   {'Te': 1.0, 'H': 6.0, 'O': 6.0}        Te(HO)6       False   \n",
       "803      13   {'Te': 1.0, 'H': 6.0, 'O': 6.0}        Te(HO)6       False   \n",
       "804      13   {'K': 4.0, 'Mo': 1.0, 'O': 8.0}         K4MoO8        True   \n",
       "\n",
       "              elements  nelements  ...  \\\n",
       "0          ['Ag', 'I']          2  ...   \n",
       "1         ['Cd', 'Te']          2  ...   \n",
       "2           ['B', 'N']          2  ...   \n",
       "3          ['Zn', 'S']          2  ...   \n",
       "4         ['Zn', 'Te']          2  ...   \n",
       "..                 ...        ...  ...   \n",
       "800        ['O', 'Si']          2  ...   \n",
       "801  ['Ti', 'Te', 'O']          3  ...   \n",
       "802   ['H', 'O', 'Te']          3  ...   \n",
       "803   ['H', 'O', 'Te']          3  ...   \n",
       "804   ['K', 'Mo', 'O']          3  ...   \n",
       "\n",
       "                                                   cif total_magnetization  \\\n",
       "0    # generated using pymatgen\\ndata_AgI\\n_symmetr...        1.000000e-07   \n",
       "1    # generated using pymatgen\\ndata_CdTe\\n_symmet...        0.000000e+00   \n",
       "2    # generated using pymatgen\\ndata_BN\\n_symmetry...        0.000000e+00   \n",
       "3    # generated using pymatgen\\ndata_ZnS\\n_symmetr...        0.000000e+00   \n",
       "4    # generated using pymatgen\\ndata_ZnTe\\n_symmet...        0.000000e+00   \n",
       "..                                                 ...                 ...   \n",
       "800  # generated using pymatgen\\ndata_SiO2\\n_symmet...        0.000000e+00   \n",
       "801  # generated using pymatgen\\ndata_Ti3TeO8\\n_sym...        1.000000e-07   \n",
       "802  # generated using pymatgen\\ndata_Te(HO)6\\n_sym...        1.200000e-06   \n",
       "803  # generated using pymatgen\\ndata_Te(HO)6\\n_sym...        0.000000e+00   \n",
       "804  # generated using pymatgen\\ndata_K4MoO8\\n_symm...        0.000000e+00   \n",
       "\n",
       "     material_id oxide_type  \\\n",
       "0       mp-22925       None   \n",
       "1         mp-406       None   \n",
       "2        mp-1639       None   \n",
       "3       mp-10695       None   \n",
       "4        mp-2176       None   \n",
       "..           ...        ...   \n",
       "800    mp-557873      oxide   \n",
       "801    mp-774922      oxide   \n",
       "802    mp-625993  hydroxide   \n",
       "803    mp-626012  hydroxide   \n",
       "804    mp-705676    ozonide   \n",
       "\n",
       "                                                  tags  \\\n",
       "0    ['Silver iodide - gamma', 'Silver iodide', \"Si...   \n",
       "1    ['Cadmium tellurium - nanocrystalline', 'Cadmi...   \n",
       "2    ['High pressure experimental phase', 'Boron ni...   \n",
       "3    ['Zinc sulfide (1/1)', 'Sphalerite', 'High pre...   \n",
       "4    ['High pressure experimental phase', 'Zinc tel...   \n",
       "..                                                 ...   \n",
       "800                                  ['Silicon oxide']   \n",
       "801                                                 []   \n",
       "802                                                 []   \n",
       "803                                                 []   \n",
       "804                                                 []   \n",
       "\n",
       "                                            elasticity  \\\n",
       "0    {'G_Reuss': 2.0, 'G_VRH': 5.0, 'G_Voigt': 8.0,...   \n",
       "1    {'G_Reuss': 13.0, 'G_VRH': 14.0, 'G_Voigt': 15...   \n",
       "2    {'G_Reuss': 365.0, 'G_VRH': 374.0, 'G_Voigt': ...   \n",
       "3    {'G_Reuss': 31.0, 'G_VRH': 33.0, 'G_Voigt': 36...   \n",
       "4    {'G_Reuss': 21.0, 'G_VRH': 22.0, 'G_Voigt': 24...   \n",
       "..                                                 ...   \n",
       "800                                                NaN   \n",
       "801  {'G_Reuss': 12.0, 'G_VRH': 13.0, 'G_Voigt': 15...   \n",
       "802                                                NaN   \n",
       "803                                                NaN   \n",
       "804                                                NaN   \n",
       "\n",
       "                                                 piezo  \\\n",
       "0    {'eij_max': 0.1584199999999997, 'piezoelectric...   \n",
       "1    {'eij_max': 0.008396666666666719, 'piezoelectr...   \n",
       "2    {'eij_max': 0.8967600000000003, 'piezoelectric...   \n",
       "3    {'eij_max': 0.05316000000000007, 'piezoelectri...   \n",
       "4    {'eij_max': 0.11930999999999999, 'piezoelectri...   \n",
       "..                                                 ...   \n",
       "800                                                NaN   \n",
       "801  {'eij_max': 0.590581140221522, 'piezoelectric_...   \n",
       "802  {'eij_max': 0.25468537602062336, 'piezoelectri...   \n",
       "803  {'eij_max': 0.26311366296230715, 'piezoelectri...   \n",
       "804  {'eij_max': 1.8943903364313384, 'piezoelectric...   \n",
       "\n",
       "                                                  diel deprecated full_formula  \n",
       "0    {'e_electronic': [[5.0266240000000115, 0.0, 0....      False        Ag1I1  \n",
       "1    {'e_electronic': [[9.309292000000019, 0.0, 0.0...      False       Cd1Te1  \n",
       "2    {'e_electronic': [[4.6166129999999885, 0.0, 0....      False         B1N1  \n",
       "3    {'e_electronic': [[5.903599999999994, 0.0, 0.0...      False        Zn1S1  \n",
       "4    {'e_electronic': [[9.017235000000003, 0.0, 0.0...      False       Zn1Te1  \n",
       "..                                                 ...        ...          ...  \n",
       "800                                                NaN      False        Si4O8  \n",
       "801  {'e_electronic': [[4.029267223201615, 0.315162...      False     Ti3Te1O8  \n",
       "802  {'e_electronic': [[2.613064781488079, -0.02743...      False      Te1H6O6  \n",
       "803  {'e_electronic': [[2.6398818439256075, -0.0421...      False      Te1H6O6  \n",
       "804  {'e_electronic': [[3.377136478949216, -0.09959...      False      K4Mo1O8  \n",
       "\n",
       "[805 rows x 29 columns]"
      ]
     },
     "execution_count": 149,
     "metadata": {},
     "output_type": "execute_result"
    }
   ],
   "source": [
    "df"
   ]
  },
  {
   "cell_type": "code",
   "execution_count": 175,
   "id": "554460b6-26b0-4f57-afb0-50002b1a4da1",
   "metadata": {
    "tags": []
   },
   "outputs": [
    {
     "name": "stdout",
     "output_type": "stream",
     "text": [
      "json_list:<class 'list'>\n"
     ]
    }
   ],
   "source": [
    "import json\n",
    "\n",
    "json_open = open('piezo.json', 'r')\n",
    "json_list = json.load(json_open)\n",
    "\n",
    "print('json_list:{}'.format(type(json_list)))\n",
    "\n",
    "material_id = []\n",
    "for i in range(len(json_list)):\n",
    "    material_id.append(json_list[i]['meta']['material_id'])"
   ]
  },
  {
   "cell_type": "code",
   "execution_count": 176,
   "id": "ad7af82b-fabe-4c1e-9fa4-54f6e68c4c28",
   "metadata": {
    "tags": []
   },
   "outputs": [
    {
     "data": {
      "text/plain": [
       "pandas.core.frame.DataFrame"
      ]
     },
     "execution_count": 176,
     "metadata": {},
     "output_type": "execute_result"
    }
   ],
   "source": [
    "type(material_id)\n",
    "type(df)"
   ]
  },
  {
   "cell_type": "code",
   "execution_count": 177,
   "id": "934df8cb-a393-4866-be71-7aa28bae982e",
   "metadata": {},
   "outputs": [],
   "source": [
    "mi = df['material_id'].to_list()"
   ]
  },
  {
   "cell_type": "code",
   "execution_count": 183,
   "id": "e3b4c672-90e9-4cee-8756-8680a4748a4f",
   "metadata": {},
   "outputs": [
    {
     "data": {
      "text/plain": [
       "'mp-406'"
      ]
     },
     "execution_count": 183,
     "metadata": {},
     "output_type": "execute_result"
    }
   ],
   "source": [
    "mi[1]"
   ]
  },
  {
   "cell_type": "code",
   "execution_count": 179,
   "id": "a1ba7cea-3f43-4d86-ac3d-990dd3071f38",
   "metadata": {},
   "outputs": [
    {
     "data": {
      "text/plain": [
       "941"
      ]
     },
     "execution_count": 179,
     "metadata": {},
     "output_type": "execute_result"
    }
   ],
   "source": [
    "len(material_id)"
   ]
  },
  {
   "cell_type": "code",
   "execution_count": 180,
   "id": "2f27f80c-bca8-4876-8355-6e8564aa6978",
   "metadata": {},
   "outputs": [
    {
     "data": {
      "text/plain": [
       "805"
      ]
     },
     "execution_count": 180,
     "metadata": {},
     "output_type": "execute_result"
    }
   ],
   "source": [
    "len(mi)"
   ]
  },
  {
   "cell_type": "code",
   "execution_count": 181,
   "id": "a1fc6aef-3251-4b3c-9bc4-b8dec1c99a39",
   "metadata": {},
   "outputs": [
    {
     "name": "stdout",
     "output_type": "stream",
     "text": [
      "{'mp-24948', 'mp-764673', 'mp-615152', 'mp-764425', 'mp-767274', 'mp-24942', 'mp-561689', 'mp-762221', 'mp-771637', 'mp-765904', 'mp-776939', 'mp-765254', 'mp-775531', 'mp-626075', 'mp-765867', 'mp-765359', 'mp-766864', 'mp-561926', 'mp-625052', 'mp-770149', 'mp-764697', 'mp-765553', 'mp-765859', 'mp-767069', 'mp-770603', 'mp-767263', 'mp-765877', 'mp-777130', 'mp-770252', 'mp-765334', 'mp-766149', 'mp-766842', 'mp-771797', 'mp-626878', 'mp-763348', 'mp-763498', 'mp-625717', 'mp-763052', 'mp-781958', 'mp-561804', 'mp-25503', 'mp-772012', 'mp-778780', 'mp-773569', 'mp-24864', 'mp-25483', 'mp-765198', 'mp-626902', 'mp-764943', 'mp-774101', 'mp-766949', 'mp-765272', 'mp-559001', 'mp-763136', 'mp-675163', 'mp-774147', 'mp-557733', 'mp-626102', 'mp-779211', 'mp-625081', 'mp-767108', 'mp-765875', 'mp-32479', 'mp-765437', 'mp-780753', 'mp-764716', 'mp-765135', 'mp-763696', 'mp-766941', 'mp-559146', 'mp-626881', 'mp-764144', 'mp-766964', 'mp-761325', 'mp-764895', 'mp-549166', 'mp-774149', 'mp-25119', 'mp-557515', 'mp-767123', 'mp-765444', 'mp-561475', 'mp-774003', 'mp-765436', 'mp-690635', 'mp-765525', 'mp-625056', 'mp-542980', 'mp-765182', 'mp-764320', 'mp-31649', 'mp-767044', 'mp-764312', 'mp-767367', 'mp-614005', 'mp-782714', 'mp-853167', 'mp-31935', 'mp-766115', 'mp-613442', 'mp-12992', 'mp-699343', 'mp-764829', 'mp-853130', 'mp-625953', 'mp-765849', 'mp-557291', 'mp-565669', 'mp-772246', 'mp-763323', 'mp-776563', 'mp-779948', 'mp-849318', 'mp-31928', 'mp-565192', 'mp-764338', 'mp-557739', 'mp-764285', 'mp-767186', 'mp-31785', 'mp-773224', 'mp-766909', 'mp-775985', 'mp-32057', 'mp-763095', 'mp-765532', 'mp-505200', 'mp-24927', 'mp-853165', 'mp-766801', 'mp-24932', 'mp-639402', 'mp-770986', 'mp-766917', 'mp-764698', 'mp-762631'}\n"
     ]
    }
   ],
   "source": [
    "print(set(material_id) ^ set(mi))"
   ]
  },
  {
   "cell_type": "code",
   "execution_count": 182,
   "id": "42e306a7-3b9a-46b9-a5b8-bc88bda8ef8d",
   "metadata": {},
   "outputs": [
    {
     "data": {
      "text/plain": [
       "136"
      ]
     },
     "execution_count": 182,
     "metadata": {},
     "output_type": "execute_result"
    }
   ],
   "source": [
    "len(set(material_id) ^ set(mi))"
   ]
  },
  {
   "cell_type": "code",
   "execution_count": 17,
   "id": "9dd5eda8-64c3-45cf-826e-c6b477feed05",
   "metadata": {},
   "outputs": [
    {
     "data": {
      "text/html": [
       "<div>\n",
       "<style scoped>\n",
       "    .dataframe tbody tr th:only-of-type {\n",
       "        vertical-align: middle;\n",
       "    }\n",
       "\n",
       "    .dataframe tbody tr th {\n",
       "        vertical-align: top;\n",
       "    }\n",
       "\n",
       "    .dataframe thead th {\n",
       "        text-align: right;\n",
       "    }\n",
       "</style>\n",
       "<table border=\"1\" class=\"dataframe\">\n",
       "  <thead>\n",
       "    <tr style=\"text-align: right;\">\n",
       "      <th></th>\n",
       "      <th>energy</th>\n",
       "      <th>energy_per_atom</th>\n",
       "      <th>volume</th>\n",
       "      <th>formation_energy_per_atom</th>\n",
       "      <th>nsites</th>\n",
       "      <th>unit_cell_formula</th>\n",
       "      <th>pretty_formula</th>\n",
       "      <th>is_hubbard</th>\n",
       "      <th>elements</th>\n",
       "      <th>nelements</th>\n",
       "      <th>...</th>\n",
       "      <th>cif</th>\n",
       "      <th>total_magnetization</th>\n",
       "      <th>material_id</th>\n",
       "      <th>oxide_type</th>\n",
       "      <th>tags</th>\n",
       "      <th>elasticity</th>\n",
       "      <th>piezo</th>\n",
       "      <th>diel</th>\n",
       "      <th>deprecated</th>\n",
       "      <th>full_formula</th>\n",
       "    </tr>\n",
       "  </thead>\n",
       "  <tbody>\n",
       "    <tr>\n",
       "      <th>800</th>\n",
       "      <td>-94.263380</td>\n",
       "      <td>-7.855282</td>\n",
       "      <td>196.249517</td>\n",
       "      <td>-3.217041</td>\n",
       "      <td>12</td>\n",
       "      <td>{'Si': 4.0, 'O': 8.0}</td>\n",
       "      <td>SiO2</td>\n",
       "      <td>False</td>\n",
       "      <td>['O', 'Si']</td>\n",
       "      <td>2</td>\n",
       "      <td>...</td>\n",
       "      <td># generated using pymatgen\\ndata_SiO2\\n_symmet...</td>\n",
       "      <td>0.000000e+00</td>\n",
       "      <td>mp-557873</td>\n",
       "      <td>oxide</td>\n",
       "      <td>['Silicon oxide']</td>\n",
       "      <td>NaN</td>\n",
       "      <td>NaN</td>\n",
       "      <td>NaN</td>\n",
       "      <td>False</td>\n",
       "      <td>Si4O8</td>\n",
       "    </tr>\n",
       "    <tr>\n",
       "      <th>801</th>\n",
       "      <td>-96.037385</td>\n",
       "      <td>-8.003115</td>\n",
       "      <td>216.202240</td>\n",
       "      <td>-2.936967</td>\n",
       "      <td>12</td>\n",
       "      <td>{'Ti': 3.0, 'Te': 1.0, 'O': 8.0}</td>\n",
       "      <td>Ti3TeO8</td>\n",
       "      <td>False</td>\n",
       "      <td>['Ti', 'Te', 'O']</td>\n",
       "      <td>3</td>\n",
       "      <td>...</td>\n",
       "      <td># generated using pymatgen\\ndata_Ti3TeO8\\n_sym...</td>\n",
       "      <td>1.000000e-07</td>\n",
       "      <td>mp-774922</td>\n",
       "      <td>oxide</td>\n",
       "      <td>[]</td>\n",
       "      <td>{'G_Reuss': 12.0, 'G_VRH': 13.0, 'G_Voigt': 15...</td>\n",
       "      <td>{'eij_max': 0.590581140221522, 'piezoelectric_...</td>\n",
       "      <td>{'e_electronic': [[4.029267223201615, 0.315162...</td>\n",
       "      <td>False</td>\n",
       "      <td>Ti3Te1O8</td>\n",
       "    </tr>\n",
       "    <tr>\n",
       "      <th>802</th>\n",
       "      <td>-65.295890</td>\n",
       "      <td>-5.022761</td>\n",
       "      <td>131.247561</td>\n",
       "      <td>-1.326167</td>\n",
       "      <td>13</td>\n",
       "      <td>{'Te': 1.0, 'H': 6.0, 'O': 6.0}</td>\n",
       "      <td>Te(HO)6</td>\n",
       "      <td>False</td>\n",
       "      <td>['H', 'O', 'Te']</td>\n",
       "      <td>3</td>\n",
       "      <td>...</td>\n",
       "      <td># generated using pymatgen\\ndata_Te(HO)6\\n_sym...</td>\n",
       "      <td>1.200000e-06</td>\n",
       "      <td>mp-625993</td>\n",
       "      <td>hydroxide</td>\n",
       "      <td>[]</td>\n",
       "      <td>NaN</td>\n",
       "      <td>{'eij_max': 0.25468537602062336, 'piezoelectri...</td>\n",
       "      <td>{'e_electronic': [[2.613064781488079, -0.02743...</td>\n",
       "      <td>False</td>\n",
       "      <td>Te1H6O6</td>\n",
       "    </tr>\n",
       "    <tr>\n",
       "      <th>803</th>\n",
       "      <td>-65.432351</td>\n",
       "      <td>-5.033258</td>\n",
       "      <td>133.716708</td>\n",
       "      <td>-1.336664</td>\n",
       "      <td>13</td>\n",
       "      <td>{'Te': 1.0, 'H': 6.0, 'O': 6.0}</td>\n",
       "      <td>Te(HO)6</td>\n",
       "      <td>False</td>\n",
       "      <td>['H', 'O', 'Te']</td>\n",
       "      <td>3</td>\n",
       "      <td>...</td>\n",
       "      <td># generated using pymatgen\\ndata_Te(HO)6\\n_sym...</td>\n",
       "      <td>0.000000e+00</td>\n",
       "      <td>mp-626012</td>\n",
       "      <td>hydroxide</td>\n",
       "      <td>[]</td>\n",
       "      <td>NaN</td>\n",
       "      <td>{'eij_max': 0.26311366296230715, 'piezoelectri...</td>\n",
       "      <td>{'e_electronic': [[2.6398818439256075, -0.0421...</td>\n",
       "      <td>False</td>\n",
       "      <td>Te1H6O6</td>\n",
       "    </tr>\n",
       "    <tr>\n",
       "      <th>804</th>\n",
       "      <td>-66.807717</td>\n",
       "      <td>-5.139055</td>\n",
       "      <td>258.802047</td>\n",
       "      <td>-1.189834</td>\n",
       "      <td>13</td>\n",
       "      <td>{'K': 4.0, 'Mo': 1.0, 'O': 8.0}</td>\n",
       "      <td>K4MoO8</td>\n",
       "      <td>True</td>\n",
       "      <td>['K', 'Mo', 'O']</td>\n",
       "      <td>3</td>\n",
       "      <td>...</td>\n",
       "      <td># generated using pymatgen\\ndata_K4MoO8\\n_symm...</td>\n",
       "      <td>0.000000e+00</td>\n",
       "      <td>mp-705676</td>\n",
       "      <td>ozonide</td>\n",
       "      <td>[]</td>\n",
       "      <td>NaN</td>\n",
       "      <td>{'eij_max': 1.8943903364313384, 'piezoelectric...</td>\n",
       "      <td>{'e_electronic': [[3.377136478949216, -0.09959...</td>\n",
       "      <td>False</td>\n",
       "      <td>K4Mo1O8</td>\n",
       "    </tr>\n",
       "  </tbody>\n",
       "</table>\n",
       "<p>5 rows × 29 columns</p>\n",
       "</div>"
      ],
      "text/plain": [
       "        energy  energy_per_atom      volume  formation_energy_per_atom  \\\n",
       "800 -94.263380        -7.855282  196.249517                  -3.217041   \n",
       "801 -96.037385        -8.003115  216.202240                  -2.936967   \n",
       "802 -65.295890        -5.022761  131.247561                  -1.326167   \n",
       "803 -65.432351        -5.033258  133.716708                  -1.336664   \n",
       "804 -66.807717        -5.139055  258.802047                  -1.189834   \n",
       "\n",
       "     nsites                 unit_cell_formula pretty_formula  is_hubbard  \\\n",
       "800      12             {'Si': 4.0, 'O': 8.0}           SiO2       False   \n",
       "801      12  {'Ti': 3.0, 'Te': 1.0, 'O': 8.0}        Ti3TeO8       False   \n",
       "802      13   {'Te': 1.0, 'H': 6.0, 'O': 6.0}        Te(HO)6       False   \n",
       "803      13   {'Te': 1.0, 'H': 6.0, 'O': 6.0}        Te(HO)6       False   \n",
       "804      13   {'K': 4.0, 'Mo': 1.0, 'O': 8.0}         K4MoO8        True   \n",
       "\n",
       "              elements  nelements  ...  \\\n",
       "800        ['O', 'Si']          2  ...   \n",
       "801  ['Ti', 'Te', 'O']          3  ...   \n",
       "802   ['H', 'O', 'Te']          3  ...   \n",
       "803   ['H', 'O', 'Te']          3  ...   \n",
       "804   ['K', 'Mo', 'O']          3  ...   \n",
       "\n",
       "                                                   cif total_magnetization  \\\n",
       "800  # generated using pymatgen\\ndata_SiO2\\n_symmet...        0.000000e+00   \n",
       "801  # generated using pymatgen\\ndata_Ti3TeO8\\n_sym...        1.000000e-07   \n",
       "802  # generated using pymatgen\\ndata_Te(HO)6\\n_sym...        1.200000e-06   \n",
       "803  # generated using pymatgen\\ndata_Te(HO)6\\n_sym...        0.000000e+00   \n",
       "804  # generated using pymatgen\\ndata_K4MoO8\\n_symm...        0.000000e+00   \n",
       "\n",
       "     material_id oxide_type               tags  \\\n",
       "800    mp-557873      oxide  ['Silicon oxide']   \n",
       "801    mp-774922      oxide                 []   \n",
       "802    mp-625993  hydroxide                 []   \n",
       "803    mp-626012  hydroxide                 []   \n",
       "804    mp-705676    ozonide                 []   \n",
       "\n",
       "                                            elasticity  \\\n",
       "800                                                NaN   \n",
       "801  {'G_Reuss': 12.0, 'G_VRH': 13.0, 'G_Voigt': 15...   \n",
       "802                                                NaN   \n",
       "803                                                NaN   \n",
       "804                                                NaN   \n",
       "\n",
       "                                                 piezo  \\\n",
       "800                                                NaN   \n",
       "801  {'eij_max': 0.590581140221522, 'piezoelectric_...   \n",
       "802  {'eij_max': 0.25468537602062336, 'piezoelectri...   \n",
       "803  {'eij_max': 0.26311366296230715, 'piezoelectri...   \n",
       "804  {'eij_max': 1.8943903364313384, 'piezoelectric...   \n",
       "\n",
       "                                                  diel deprecated full_formula  \n",
       "800                                                NaN      False        Si4O8  \n",
       "801  {'e_electronic': [[4.029267223201615, 0.315162...      False     Ti3Te1O8  \n",
       "802  {'e_electronic': [[2.613064781488079, -0.02743...      False      Te1H6O6  \n",
       "803  {'e_electronic': [[2.6398818439256075, -0.0421...      False      Te1H6O6  \n",
       "804  {'e_electronic': [[3.377136478949216, -0.09959...      False      K4Mo1O8  \n",
       "\n",
       "[5 rows x 29 columns]"
      ]
     },
     "execution_count": 17,
     "metadata": {},
     "output_type": "execute_result"
    }
   ],
   "source": [
    "df.tail()"
   ]
  },
  {
   "cell_type": "code",
   "execution_count": 20,
   "id": "5970aeae-236d-4cfe-bd64-af18c580e0f9",
   "metadata": {},
   "outputs": [],
   "source": [
    "df_ele = df['elements']"
   ]
  },
  {
   "cell_type": "code",
   "execution_count": 24,
   "id": "feee8f0c-bba1-4b39-b1ff-83ffe57fce9e",
   "metadata": {},
   "outputs": [
    {
     "data": {
      "text/plain": [
       "\"['Ag', 'I']\""
      ]
     },
     "execution_count": 24,
     "metadata": {},
     "output_type": "execute_result"
    }
   ],
   "source": [
    "df_ele[0]"
   ]
  },
  {
   "cell_type": "code",
   "execution_count": 30,
   "id": "03be02cf-2b20-409b-8897-cf9a2f9f8773",
   "metadata": {},
   "outputs": [
    {
     "data": {
      "text/plain": [
       "\"'\""
      ]
     },
     "execution_count": 30,
     "metadata": {},
     "output_type": "execute_result"
    }
   ],
   "source": [
    "df_ele[0][1]"
   ]
  },
  {
   "cell_type": "code",
   "execution_count": 25,
   "id": "5ecbdcfc-9e43-4485-9057-21e9ea7d0411",
   "metadata": {},
   "outputs": [],
   "source": [
    "df_uniCelFor = df['unit_cell_formula']"
   ]
  },
  {
   "cell_type": "code",
   "execution_count": 29,
   "id": "13215b54-2f33-4763-a4e9-06830670f483",
   "metadata": {},
   "outputs": [
    {
     "data": {
      "text/plain": [
       "\"{'Ag': 1.0, 'I': 1.0}\""
      ]
     },
     "execution_count": 29,
     "metadata": {},
     "output_type": "execute_result"
    }
   ],
   "source": [
    "df_uniCelFor[0]"
   ]
  },
  {
   "cell_type": "code",
   "execution_count": null,
   "id": "ea8d0502-836e-482d-a951-4f08c542f95b",
   "metadata": {},
   "outputs": [],
   "source": []
  },
  {
   "cell_type": "code",
   "execution_count": null,
   "id": "656725dd-ec7a-4b65-8f4c-dadb9842d1a3",
   "metadata": {},
   "outputs": [],
   "source": [
    "# import re\n",
    "# find_ele = re.findall(r\"\\'.*\\'\",df_ele[0])"
   ]
  },
  {
   "cell_type": "code",
   "execution_count": 38,
   "id": "9f070b5a-6719-4700-bc43-e4b4a70fd1ae",
   "metadata": {},
   "outputs": [
    {
     "name": "stdout",
     "output_type": "stream",
     "text": [
      "[\"'Ag', 'I'\"]\n"
     ]
    }
   ],
   "source": [
    "# print(find_ele)"
   ]
  },
  {
   "cell_type": "code",
   "execution_count": 47,
   "id": "85ba5b41-9c74-4b90-b4ca-2a201a759845",
   "metadata": {},
   "outputs": [],
   "source": [
    "df_ele0 = df_ele[0]"
   ]
  },
  {
   "cell_type": "code",
   "execution_count": 51,
   "id": "07826ec5-f045-4c0c-97e6-c757a692f95a",
   "metadata": {},
   "outputs": [],
   "source": [
    "df_ele00 = df_ele0.replace(\"'\",\"\")\n",
    "df_ele00 = df_ele00.replace(\",\",\"\")"
   ]
  },
  {
   "cell_type": "code",
   "execution_count": 52,
   "id": "3a8d0764-1189-46a2-8c53-0694abf3210c",
   "metadata": {},
   "outputs": [
    {
     "name": "stdout",
     "output_type": "stream",
     "text": [
      "[Ag I]\n"
     ]
    }
   ],
   "source": [
    "print(df_ele00)"
   ]
  },
  {
   "cell_type": "code",
   "execution_count": 56,
   "id": "0620cb02-3793-4285-9993-a99f39420238",
   "metadata": {},
   "outputs": [],
   "source": [
    "df_ele000 = df_ele00[1:len(df_ele00)-1].split()"
   ]
  },
  {
   "cell_type": "code",
   "execution_count": 58,
   "id": "9baa5758-6caf-4b05-bccd-88a8596f92ee",
   "metadata": {},
   "outputs": [
    {
     "name": "stdout",
     "output_type": "stream",
     "text": [
      "Ag\n"
     ]
    }
   ],
   "source": [
    "print(df_ele000[0])"
   ]
  },
  {
   "cell_type": "code",
   "execution_count": 63,
   "id": "b87f997c-a62c-41b8-a0a7-633c2f0d519b",
   "metadata": {},
   "outputs": [],
   "source": [
    "ele_list = []\n",
    "for ele in df_ele:\n",
    "    ele2 = ele.replace(\"'\",\"\")\n",
    "    ele2 = ele2.replace(\",\",\"\")\n",
    "    ele3 = ele2[1:len(ele2)-1].split()\n",
    "    ele_list.append(ele3)"
   ]
  },
  {
   "cell_type": "code",
   "execution_count": 65,
   "id": "bb8f8448-22ec-4937-89a6-221908590eda",
   "metadata": {},
   "outputs": [
    {
     "name": "stdout",
     "output_type": "stream",
     "text": [
      "[['Ag', 'I'], ['Cd', 'Te'], ['B', 'N'], ['Zn', 'S'], ['Zn', 'Te'], ['Zn', 'O'], ['Zn', 'Se'], ['Be', 'O'], ['Ga', 'N'], ['Cu', 'I'], ['B', 'P'], ['Mg', 'S'], ['Mg', 'Se'], ['Cd', 'S'], ['Mg', 'Te'], ['Al', 'Sb'], ['Cu', 'Cl'], ['Si', 'C'], ['Cu', 'Br'], ['Al', 'N'], ['Cd', 'Se'], ['Ga', 'P'], ['Al', 'As'], ['B', 'As'], ['Be', 'S'], ['In', 'P'], ['Al', 'P'], ['Be', 'Te'], ['Be', 'Se'], ['Ag', 'Br'], ['Li', 'Al', 'Si'], ['Li', 'Zn', 'As'], ['Ho', 'Ni', 'Sb'], ['Nb', 'Sb', 'Ru'], ['Nb', 'Fe', 'Sb'], ['Li', 'Zn', 'N'], ['Tb', 'Ni', 'Sb'], ['Sc', 'Ni', 'Sb'], ['Ti', 'Co', 'Sb'], ['Th', 'Sb', 'Rh'], ['Dy', 'Ni', 'Sb'], ['Th', 'Ni', 'Sn'], ['Tm', 'Ni', 'Sb'], ['Gd', 'Sb', 'Pt'], ['Er', 'Sb', 'Pd'], ['Hf', 'Sn', 'Pd'], ['Sc', 'Sb', 'Pd'], ['Li', 'Zn', 'P'], ['Li', 'Mg', 'Bi'], ['Li', 'Mg', 'As'], ['V', 'Sb', 'Ru'], ['Zr', 'Co', 'Bi'], ['Ta', 'Sb', 'Ru'], ['Tm', 'Sb', 'Pt'], ['Dy', 'Sb', 'Pt'], ['Er', 'Sb', 'Pt'], ['Sc', 'Sb', 'Pt'], ['V', 'Fe', 'Sb'], ['Ho', 'Sb', 'Pt'], ['Bi', 'Gd', 'Ni'], ['Tm', 'Ni', 'Bi'], ['Li', 'Ga', 'Si'], ['Y', 'Ni', 'Sb'], ['Ti', 'Sn', 'Pt'], ['Th', 'Sn', 'Pt'], ['Nd', 'O', 'F'], ['F', 'La', 'O'], ['Pr', 'O', 'F'], ['Li', 'Mg', 'P'], ['Ac', 'O', 'F'], ['Sm', 'O', 'F'], ['Li', 'Mg', 'N'], ['Y', 'O', 'F'], ['Li', 'Cu', 'Sb'], ['Li', 'Ag', 'Sn'], ['N'], ['Si', 'F'], ['F', 'Ge'], ['K', 'Cl', 'O'], ['Cl', 'O', 'Rb'], ['Tl', 'Cl', 'O'], ['Be', 'Au'], ['Cl', 'H', 'N'], ['H', 'Br', 'N'], ['Si', 'As'], ['Sn', 'As'], ['V', 'Cu', 'S'], ['Nb', 'Cu', 'Se'], ['Si', 'Ru'], ['Si', 'Os'], ['N'], ['V', 'Cu', 'Se'], ['Ta', 'Cu', 'S'], ['Nb', 'Cu', 'S'], ['Ta', 'Cu', 'Se'], ['Li', 'Sb', 'S'], ['Li', 'Nb', 'S'], ['Li', 'V', 'S'], ['I', 'Sn'], ['Cs', 'Cl', 'O'], ['Zn', 'S', 'O'], ['Tb', 'In', 'Cu'], ['Na', 'Sb', 'Se'], ['Ta', 'Cu', 'Te'], ['K', 'S', 'Sb'], ['Se', 'Ta', 'Tl'], ['Tl', 'V', 'S'], ['S', 'Ta', 'Tl'], ['Ga', 'As'], ['Er', 'Ni', 'Sb'], ['Zr', 'Ni', 'Sn'], ['Y', 'Sb', 'Pt'], ['Sc', 'Sn', 'Au'], ['Hf', 'Ni', 'Sn'], ['Dy', 'Ni', 'Bi'], ['Y', 'Ni', 'Bi'], ['Gd', 'Ni', 'Sb'], ['Sc', 'Ni', 'Bi'], ['Li', 'Ag', 'Sb'], ['Li', 'Zn', 'Ge'], ['Li', 'Cu', 'Ge'], ['Dy', 'Cu'], ['Ge', 'As'], ['Fe', 'Si'], ['Ge', 'Rh'], ['Ba', 'La', 'Mg', 'Nb', 'O'], ['Ba', 'Li', 'La', 'Te', 'O'], ['Ba', 'La', 'Mg', 'Ta', 'O'], ['Ba', 'La', 'Ta', 'Mn', 'O'], ['Ba', 'Li', 'Pr', 'Te', 'O'], ['Ba', 'Bi', 'La', 'Mg', 'O'], ['Na', 'Ge', 'Pt'], ['Zr', 'S', 'O'], ['Sb', 'Ir', 'S'], ['Hf', 'S', 'O'], ['Co', 'As', 'S'], ['Zr', 'Se', 'O'], ['Mo', 'S', 'Br'], ['Be', 'Te', 'O'], ['Li', 'Cu', 'F'], ['Si', 'O'], ['Si', 'S'], ['Na', 'Cl', 'O'], ['Be', 'Zn', 'O'], ['Li', 'P', 'N'], ['Ca', 'Li', 'O', 'Si'], ['Ca', 'Ge', 'Li', 'O'], ['N', 'Na', 'P'], ['B', 'Li', 'O'], ['Be', 'Si', 'N'], ['Be', 'C', 'N'], ['Mg', 'Si', 'N'], ['Ag', 'Cl', 'O'], ['Ba', 'S'], ['Ca', 'Ge', 'N'], ['Mg', 'Si', 'P'], ['Li', 'Ag', 'F'], ['Co', 'Li', 'O', 'Si'], ['Zn', 'Cl'], ['Ge', 'S'], ['Cd', 'In', 'Se'], ['Cu', 'Hg', 'I'], ['Ag', 'Hg', 'I'], ['Cd', 'In', 'Se'], ['Cu', 'W', 'S'], ['Cu', 'W', 'S'], ['Zn', 'Ge', 'Se'], ['Zn', 'Ge', 'S'], ['Zn', 'In', 'Se'], ['Zn', 'Ga', 'S'], ['Li', 'W', 'S'], ['Li', 'W', 'S'], ['Li', 'Al', 'Te'], ['Ag', 'Er', 'Te'], ['Y', 'Ag', 'Te'], ['Ag', 'Tb', 'Te'], ['Ag', 'Dy', 'Te'], ['Cu', 'B', 'S'], ['Al', 'Ag', 'S'], ['Al', 'Cu', 'S'], ['Al', 'Ag', 'Se'], ['Ga', 'Ag', 'S'], ['V', 'Ag', 'O'], ['V', 'Cu', 'O'], ['Si', 'Ni', 'P'], ['Zn', 'Si', 'As'], ['Ga', 'Cu', 'S'], ['Cd', 'Ge', 'P'], ['Cd', 'Si', 'P'], ['In', 'Li', 'Se'], ['Zn', 'Si', 'P'], ['Li', 'Ge', 'Pb', 'S'], ['Eu', 'Ge', 'Li', 'S'], ['Zn', 'Ge', 'P'], ['Zn', 'Sn', 'P'], ['K', 'V', 'O'], ['K', 'Ag', 'P', 'S'], ['K', 'Cr', 'O'], ['Zn', 'Cu', 'Ge', 'S'], ['Ag', 'Ho', 'Te'], ['Al', 'Cu', 'Se'], ['Ag', 'Ba', 'Ge', 'S'], ['Ba', 'Se'], ['Cd', 'Si', 'As'], ['K', 'Ag', 'As', 'O'], ['Mg', 'Ge', 'P'], ['K', 'Ag', 'Sb', 'S'], ['K', 'Mn', 'O'], ['Cs', 'Ta', 'N'], ['Li', 'Sb', 'S'], ['Ge', 'Se'], ['Cu', 'Hg', 'I'], ['Mg', 'In', 'Te'], ['Mn', 'Cu', 'Sn', 'S'], ['Hg', 'K', 'Se', 'Sn'], ['Ge', 'Mn', 'Te', 'Tl'], ['In', 'Li', 'Te'], ['Li', 'Ga', 'Te'], ['Cu', 'In', 'Te'], ['In', 'Ag', 'S'], ['Al', 'Ag', 'Te'], ['Al', 'Cu', 'Te'], ['Ga', 'Cu', 'Te'], ['Ga', 'Ag', 'Se'], ['Cd', 'Sn', 'P'], ['Ga', 'Ag', 'Te'], ['Ti', 'Cu', 'S'], ['Li', 'Ti', 'S'], ['Al', 'Cu', 'Cl'], ['Ga', 'Cu', 'Cl'], ['Zr', 'Ge', 'O'], ['K', 'Cr', 'O'], ['K', 'O', 'Ta'], ['Rb', 'Nb', 'O'], ['Rb', 'Ta', 'O'], ['K', 'Nb', 'O'], ['Cs', 'O', 'Ta'], ['Cl', 'H', 'K', 'Mn', 'O'], ['B', 'P', 'O'], ['Be', 'S', 'O'], ['B', 'As', 'O'], ['Al', 'As', 'O'], ['Al', 'P', 'O'], ['Li', 'Ge', 'B', 'O'], ['Li', 'Si', 'B', 'O'], ['Ga', 'P', 'O'], ['Fe', 'Li', 'O', 'P'], ['Co', 'Li', 'O', 'P'], ['F', 'Li', 'Mn'], ['Li', 'O', 'P', 'Sn'], ['In', 'P', 'S'], ['Cd', 'In', 'Se'], ['Mn', 'Ga', 'S'], ['Cd', 'Ga', 'Se'], ['Cd', 'Ga', 'S'], ['Al', 'Hg', 'Se'], ['Mn', 'Ga', 'Se'], ['Zn', 'Ga', 'S'], ['Al', 'Cd', 'S'], ['Ga', 'Hg', 'S'], ['Al', 'Cd', 'Se'], ['Ga', 'Hg', 'Se'], ['Sn', 'Hg', 'Se'], ['Li', 'Zn', 'P', 'S'], ['Ga', 'Co', 'S'], ['Zn', 'Ga', 'Se'], ['Zn', 'In', 'Se'], ['Al', 'Hg', 'Te'], ['Al', 'Zn', 'Se'], ['Al', 'Cd', 'Te'], ['In', 'Hg', 'Se'], ['Al', 'Hg', 'S'], ['Al', 'Zn', 'Te'], ['Ga', 'Cu', 'I'], ['Cu', 'P', 'O'], ['Ag', 'Hg', 'I'], ['Ga', 'Hg', 'Te'], ['Zn', 'Ga', 'Te'], ['Cd', 'In', 'Te'], ['In', 'Hg', 'Te'], ['Zn', 'In', 'Te'], ['Cd', 'Ga', 'Te'], ['Cu', 'Li', 'O', 'P'], ['Ba', 'La', 'Mg', 'O', 'Ru'], ['Ba', 'La', 'O', 'Ru', 'Zn'], ['Li', 'Ca', 'U', 'F'], ['Ag', 'H', 'W', 'S', 'N'], ['O', 'Si'], ['Ca', 'F', 'Hf', 'Li'], ['K', 'Zn', 'Sb'], ['Ba', 'Li', 'P'], ['Ba', 'Li', 'As'], ['Sr', 'Li', 'P'], ['Ho', 'H', 'Se'], ['Y', 'H', 'Se'], ['B', 'N'], ['C', 'F', 'K', 'O', 'Sr'], ['C', 'F', 'O', 'Rb', 'Sr'], ['Li', 'Pd'], ['K', 'Zn', 'As'], ['K', 'Ca', 'C', 'O', 'F'], ['Ga', 'Se'], ['Ga', 'Ag'], ['Ba', 'I'], ['K', 'Hf', 'F'], ['Ba', 'Cl'], ['Ba', 'Na', 'P'], ['As', 'Na', 'Sr'], ['Dy', 'In', 'Au'], ['Ba', 'Na', 'Bi'], ['F', 'Rb', 'Th'], ['K', 'U', 'F'], ['F', 'K', 'Th'], ['Si', 'Ni', 'B'], ['Si', 'Pd'], ['Ba', 'I', 'Sr'], ['K', 'Te'], ['Rb', 'Te'], ['Na', 'S'], ['Rb', 'Se'], ['Rb', 'S'], ['K', 'Se'], ['K', 'S'], ['Ca', 'P'], ['Sr', 'P'], ['Na', 'O'], ['Ca', 'H', 'N'], ['Mg', 'O'], ['Be', 'O'], ['B', 'N'], ['Zn', 'O'], ['Al', 'N'], ['Ga', 'N'], ['Cd', 'S'], ['Cu', 'I'], ['Al', 'P'], ['Al', 'As'], ['Ga', 'P'], ['Si', 'C'], ['Co', 'O'], ['Cu', 'H'], ['Sr', 'Hf', 'O'], ['Ti', 'Pb', 'O'], ['Ba', 'Ti', 'O'], ['K', 'Nb', 'O'], ['Li', 'Be', 'Sb'], ['Pt', 'O'], ['H', 'O'], ['Nb', 'N', 'O'], ['Nd', 'Al', 'N', 'O'], ['Zn', 'S'], ['Si', 'C'], ['H', 'Rh', 'Sr'], ['Mg', 'O'], ['Ag', 'I'], ['La', 'N'], ['Cd', 'Te'], ['Mg', 'Te'], ['Cu', 'K', 'Na', 'O'], ['Li', 'Zn', 'Sb'], ['Ca', 'Cl', 'H', 'O'], ['Cd', 'Cl', 'H', 'O'], ['Br', 'Cl'], ['Cd', 'Br'], ['K', 'Sn', 'Sb'], ['Cd', 'I'], ['As', 'K', 'Sn'], ['Bi', 'Cl', 'Te'], ['Na', 'Sn', 'P'], ['Ca', 'Zn', 'S', 'O'], ['Ag', 'I'], ['Sr', 'H', 'Cl', 'O'], ['Li', 'I'], ['In', 'N'], ['Zn', 'S'], ['Cd', 'Se'], ['Zn', 'Se'], ['Ga', 'As'], ['Tm', 'Cu', 'Pb'], ['Pb', 'I'], ['N', 'Na', 'Sn'], ['Ba', 'Cu', 'Fe', 'O', 'Y'], ['Bi', 'O', 'Ti', 'Zn'], ['Bi', 'O', 'Ti', 'Zn'], ['F', 'K', 'O', 'Rb', 'Zr'], ['Cs', 'K', 'Zr', 'O', 'F'], ['K', 'Zr', 'Tl', 'O', 'F'], ['Cs', 'Rb', 'Zr', 'O', 'F'], ['F', 'K', 'Na', 'O', 'Ti'], ['Cs', 'F', 'O', 'Tl', 'Zr'], ['Ga', 'Se', 'Te'], ['Ba', 'Ni', 'O'], ['Na', 'O', 'Pb'], ['O', 'Rh', 'Ta'], ['Ta', 'Al', 'O'], ['Ta', 'Fe', 'O'], ['Ti', 'V', 'O'], ['Nb', 'Rh', 'O'], ['Cd', 'I'], ['Si', 'C'], ['I', 'Pb'], ['Al', 'P', 'O'], ['F', 'H', 'N'], ['Li', 'B', 'H'], ['Cl', 'Cu', 'H', 'O', 'Pb'], ['Cl', 'N', 'Re'], ['I', 'P'], ['Li', 'W', 'O'], ['I', 'Li', 'O'], ['H', 'Na', 'S'], ['H', 'Na', 'O'], ['Sc', 'Cu', 'S'], ['Na', 'C', 'N', 'O'], ['H', 'Li', 'N'], ['H', 'Cl', 'O'], ['Br', 'H', 'O'], ['Al', 'O'], ['Ge', 'Te'], ['Bi', 'Te', 'I'], ['H', 'K', 'S'], ['Bi', 'Te', 'Br'], ['Ca', 'Al', 'Si', 'H'], ['Al', 'Ba', 'H', 'Si'], ['Sr', 'Al', 'Si', 'H'], ['Al', 'Ag', 'S'], ['Tm', 'Cu', 'Se'], ['Er', 'Cu', 'Se'], ['Dy', 'Cu', 'Se'], ['Y', 'Cu', 'Se'], ['Ba', 'Ti', 'O'], ['K', 'N', 'O'], ['K', 'Br', 'O'], ['Cl', 'O', 'Rb'], ['K', 'Nb', 'O'], ['Rb', 'Br', 'O'], ['Cl', 'O', 'Tl'], ['I', 'O', 'Rb'], ['I', 'K', 'O'], ['Ba', 'C', 'O'], ['Rb', 'Ta', 'O'], ['Zr', 'Cl'], ['Mo', 'S'], ['In', 'Se'], ['Cr', 'Ag', 'Se'], ['Cr', 'Ag', 'S'], ['I', 'O', 'Tl'], ['Sb', 'Te', 'Se'], ['Br', 'Cs', 'O'], ['Br', 'O', 'Tl'], ['Cl', 'K', 'O'], ['Cl', 'Cs', 'O'], ['Zn', 'In', 'S'], ['Nb', 'S'], ['Cr', 'Cu', 'Se'], ['Ag', 'N', 'O'], ['Cl', 'Cs', 'Ge'], ['Cl', 'Cu', 'S', 'Te'], ['C', 'F', 'H', 'N'], ['Si', 'C'], ['La', 'N', 'O'], ['Li', 'Mg', 'H'], ['Cd', 'F', 'Na'], ['Zn', 'Sn', 'O'], ['Ag', 'N', 'O'], ['Li', 'Ta', 'O'], ['Ti', 'Mn', 'O'], ['Na', 'Nb', 'O'], ['Al', 'Bi', 'O'], ['Li', 'O', 'U'], ['Fe', 'O', 'Ti'], ['Mn', 'O', 'Sn'], ['Bi', 'O', 'Tm'], ['Sc', 'Bi', 'O'], ['Bi', 'Er', 'O'], ['Ga', 'Bi', 'O'], ['Bi', 'O', 'Y'], ['La', 'Bi', 'O'], ['Li', 'Nb', 'O'], ['Nb', 'S', 'Br'], ['Nb', 'Te', 'I'], ['Ga', 'P', 'O'], ['Fe', 'P', 'O'], ['F', 'Fe', 'Li', 'O'], ['B', 'H', 'K', 'Na'], ['Cu', 'I'], ['Cd', 'I'], ['Mg', 'O'], ['C', 'H', 'O', 'Sm'], ['C', 'H', 'Nd', 'O'], ['C', 'H', 'O', 'Tb'], ['C', 'H', 'La', 'O'], ['C', 'H', 'O', 'Tm'], ['F', 'Fe', 'Li', 'O'], ['Te'], ['Sc', 'F'], ['K', 'N', 'O'], ['N', 'O', 'Rb'], ['Ag', 'I', 'S'], ['Hg', 'Te'], ['Ag', 'B', 'O'], ['Te'], ['Cl', 'Cs', 'Pb'], ['Ge', 'I', 'O', 'Rb'], ['Ge', 'O', 'Sr', 'Te'], ['F', 'Na', 'Th'], ['Si', 'O'], ['Ge', 'O'], ['Ti', 'O'], ['Be', 'F'], ['W', 'N'], ['Si', 'O'], ['S'], ['Ge', 'O'], ['K', 'Be', 'B', 'O', 'F'], ['Si', 'O'], ['B', 'Be', 'F', 'O', 'Rb'], ['B', 'Be', 'Cs', 'F', 'O'], ['Cu', 'Li', 'O', 'Ta'], ['C', 'Lu', 'N'], ['Cs', 'O', 'Te'], ['Al', 'K', 'O', 'S'], ['N', 'O', 'Tl'], ['Cs', 'N', 'O'], ['Ba', 'Co', 'O'], ['Ba', 'Zn', 'O'], ['N', 'O', 'Rb'], ['Ba', 'Mg', 'O'], ['Ba', 'Al', 'B', 'O'], ['O', 'Rb', 'S', 'Tl'], ['Al', 'Ba', 'O', 'Sb'], ['Al', 'B', 'O', 'Sr'], ['Ag', 'I', 'S'], ['Zn', 'Te'], ['Br', 'Hg'], ['O', 'Rb'], ['Na', 'O'], ['N', 'O', 'P'], ['F', 'Mo', 'Na', 'O'], ['Na', 'Ti', 'Bi', 'O'], ['Mn', 'Te', 'O'], ['Li', 'Mn', 'O', 'W'], ['Cd', 'Bi', 'O'], ['Cs', 'Cd', 'N', 'O'], ['Cd', 'K', 'N', 'O'], ['Cd', 'N', 'O', 'Rb'], ['Cd', 'N', 'O', 'Tl'], ['Cl', 'H'], ['B', 'N'], ['Na', 'N', 'O'], ['Na', 'O'], ['H', 'Li', 'N'], ['O', 'Sn'], ['H', 'F'], ['Cl', 'H'], ['Ba', 'Ti', 'O'], ['S', 'O'], ['H', 'I', 'N'], ['Li', 'H', 'S'], ['Li', 'H', 'O'], ['P', 'N'], ['Ga', 'H', 'O'], ['Al', 'H', 'O'], ['H', 'In', 'O'], ['Al', 'H', 'O'], ['H', 'O', 'Y'], ['Ho', 'H', 'O'], ['Dy', 'H', 'O'], ['Ag', 'N', 'O'], ['Br', 'H'], ['Zr', 'Pb', 'O'], ['F', 'Pb'], ['Cs', 'H', 'O'], ['Cs', 'H', 'O'], ['Li', 'Cu', 'S'], ['Sb', 'F'], ['Br', 'F'], ['O', 'Pb'], ['F', 'N', 'P'], ['Rb', 'H', 'F'], ['Sc', 'H', 'O'], ['Ag', 'F', 'Li'], ['Na', 'Cu', 'O'], ['Nb', 'O', 'F'], ['In', 'Cl'], ['Cd', 'Te'], ['Ag', 'S'], ['Ba', 'Ca', 'I'], ['U', 'C', 'O'], ['Br', 'Li', 'Mn'], ['Br', 'Se'], ['Br', 'S'], ['Cr', 'O'], ['S', 'Sr'], ['F', 'Tl'], ['Sn', 'S'], ['Pb', 'S'], ['Hg', 'Br'], ['Hg', 'I'], ['Na', 'Bi', 'S'], ['Ge', 'O', 'Pb'], ['W', 'Cl', 'O'], ['W', 'Br', 'O'], ['Cs', 'I', 'O'], ['O', 'Pb'], ['Cl', 'Cs', 'O'], ['Ba', 'C', 'O'], ['B', 'O'], ['Ge', 'N', 'O'], ['N', 'O', 'Si'], ['Ga', 'In', 'S'], ['C', 'Cl', 'F'], ['Na', 'Pt', 'Se'], ['Rb', 'Se'], ['Cs', 'Se'], ['Rb', 'S'], ['Na', 'Pd', 'S'], ['Na', 'Pt', 'S'], ['Na', 'Ni', 'O'], ['K', 'S'], ['K', 'Se'], ['Ge', 'H', 'Cl'], ['Al', 'O'], ['F', 'Fe', 'Li'], ['Ge', 'N', 'O'], ['Cs', 'F', 'Li'], ['Cl', 'K', 'O'], ['F', 'Li', 'Mn'], ['F', 'Fe', 'Li'], ['B', 'O', 'Tm'], ['B', 'O', 'Sm'], ['B', 'O', 'Y'], ['B', 'Er', 'O'], ['B', 'Dy', 'O'], ['B', 'Ho', 'O'], ['Cs', 'F', 'Li'], ['Au', 'O'], ['Ag', 'O'], ['Pt', 'F'], ['Pd', 'F'], ['Cu', 'O'], ['Ga', 'P', 'S'], ['O', 'Se'], ['Li', 'H', 'S'], ['Hg', 'O', 'Te'], ['Mg', 'H'], ['Co', 'As', 'S'], ['Zr', 'O'], ['Ge', 'Pt', 'Se'], ['Sb', 'Ir', 'S'], ['Hf', 'O'], ['Ga', 'O', 'Ta'], ['Hg', 'O', 'S'], ['Cd', 'O', 'S'], ['Hg', 'O', 'Se'], ['Zn', 'Se', 'O'], ['Cd', 'O', 'Se'], ['Br', 'O'], ['Si', 'O'], ['Zn', 'Cl'], ['Cd', 'P'], ['F', 'O', 'Sb'], ['W', 'N'], ['Rb', 'Co', 'O'], ['Na', 'Ge', 'O'], ['Mg', 'P', 'N'], ['Ba', 'Mg', 'F'], ['Na', 'Si', 'N'], ['Li', 'Si', 'O'], ['Na', 'Si', 'O'], ['Cu', 'Si', 'S'], ['Ba', 'Zn', 'F'], ['Ba', 'Ni', 'F'], ['Rb', 'Pb', 'O'], ['K', 'Pb', 'O'], ['La', 'Ta', 'O'], ['Cs', 'Pb', 'O'], ['Ba', 'F', 'Mn'], ['Br', 'F'], ['Li', 'Si', 'N'], ['Na', 'Ge', 'N'], ['Ge', 'Li', 'O'], ['Rb', 'H', 'O'], ['F', 'H', 'P'], ['H', 'O'], ['Sr', 'Mg', 'H'], ['Eu', 'H', 'Mg'], ['Rb', 'Sn', 'O'], ['O', 'Rb', 'Zr'], ['As', 'O', 'Ta'], ['Ce', 'Cs', 'O'], ['O', 'Sm', 'Ta'], ['O', 'Ta', 'Tm'], ['Ag', 'P', 'S', 'Cl'], ['Si', 'O'], ['O', 'Si'], ['Al', 'As', 'Cs', 'O'], ['P', 'N', 'O'], ['Br', 'H'], ['H', 'N', 'P'], ['B', 'P', 'S'], ['Ba', 'Ag', 'Sn', 'S'], ['Ba', 'Ag', 'Sn', 'Se'], ['Fe', 'P'], ['Cu', 'Li', 'O', 'P'], ['Al', 'P', 'S'], ['O', 'Te'], ['F', 'Sn'], ['Cl', 'Si'], ['Ge', 'F'], ['Te', 'O'], ['F', 'N', 'O'], ['Ag', 'Se'], ['Cs', 'H', 'O'], ['O', 'Si'], ['O', 'Si'], ['Ga', 'P', 'O'], ['Al', 'P', 'O'], ['H', 'O'], ['Br', 'H', 'O'], ['H', 'Na', 'O'], ['Cu', 'I'], ['H', 'K', 'O', 'P', 'S'], ['Li', 'Cu', 'O'], ['Cd', 'H', 'O'], ['As', 'O', 'Ta'], ['Li', 'Fe', 'O', 'F'], ['Ni', 'H', 'O'], ['Cd', 'H', 'O'], ['H', 'Mg', 'O'], ['H', 'Mn', 'O'], ['Ca', 'H', 'O'], ['Fe', 'H', 'O'], ['H', 'Na', 'O'], ['H', 'O', 'Rb'], ['H', 'K', 'O'], ['H', 'Nd', 'O'], ['Cd', 'Cl'], ['Ag', 'F', 'Li'], ['O', 'Os'], ['H', 'Ni', 'O'], ['Ag', 'S'], ['Ag', 'S'], ['K', 'O'], ['Nb', 'Bi', 'O'], ['B', 'Ba', 'Cu', 'O'], ['B', 'Bi', 'Li', 'O'], ['Ni', 'P', 'S'], ['F', 'Li', 'Mn'], ['Ag', 'I', 'S'], ['Ba', 'C', 'O'], ['F', 'O', 'V'], ['B', 'Bi', 'O'], ['Li', 'O', 'V'], ['Li', 'Fe', 'As', 'O'], ['As', 'Na', 'O', 'Sc'], ['As', 'Ga', 'Li', 'O'], ['Al', 'As', 'Li', 'O'], ['Li', 'Sc', 'As', 'O'], ['Bi', 'Li', 'O', 'P'], ['Na', 'O', 'Sb'], ['Hf', 'Sn', 'O'], ['F', 'Na', 'O', 'V'], ['Al', 'P', 'O'], ['As', 'Cs', 'F'], ['O', 'Si'], ['F', 'Li', 'O', 'V'], ['O', 'Si'], ['O', 'Si'], ['F', 'Li', 'O', 'V'], ['Al', 'Be', 'H'], ['K', 'Pr', 'Se', 'Si'], ['Co', 'H', 'O'], ['N', 'O', 'Tl'], ['Ag', 'I', 'S'], ['Ag', 'Au', 'S'], ['B', 'F', 'K'], ['Li', 'S', 'Sb'], ['Bi', 'F', 'Pb'], ['Be', 'F', 'Rb'], ['Ag', 'F', 'Li'], ['V', 'O', 'F'], ['Ca', 'I', 'P'], ['As', 'S', 'Sr'], ['Si', 'P', 'Ru'], ['Fe', 'Si', 'P'], ['Ag', 'S'], ['F', 'N', 'Pr'], ['K', 'N', 'O'], ['Ba', 'La', 'O', 'Ru', 'Zn'], ['Cd', 'H', 'O'], ['K', 'Bi', 'F'], ['Ba', 'F', 'Pr'], ['Co', 'Li', 'O', 'V'], ['Cl', 'K', 'N', 'O', 'Pd'], ['B', 'Co', 'Li', 'O'], ['Li', 'V', 'O'], ['Si', 'P', 'Pt'], ['O', 'Si'], ['O', 'Si'], ['H', 'S'], ['O', 'Si'], ['Ti', 'Te', 'O'], ['H', 'O', 'Te'], ['H', 'O', 'Te'], ['K', 'Mo', 'O']]\n"
     ]
    }
   ],
   "source": [
    "print(ele_list)"
   ]
  },
  {
   "cell_type": "code",
   "execution_count": 66,
   "id": "452498a0-2352-4478-a5ee-04a4ad4f0c62",
   "metadata": {},
   "outputs": [
    {
     "data": {
      "text/plain": [
       "'I'"
      ]
     },
     "execution_count": 66,
     "metadata": {},
     "output_type": "execute_result"
    }
   ],
   "source": [
    "ele_list[0][1]"
   ]
  },
  {
   "cell_type": "code",
   "execution_count": 68,
   "id": "bbd307fa-f510-4a8e-b720-216d1ee73a59",
   "metadata": {},
   "outputs": [
    {
     "data": {
      "text/plain": [
       "805"
      ]
     },
     "execution_count": 68,
     "metadata": {},
     "output_type": "execute_result"
    }
   ],
   "source": [
    "len(ele_list)"
   ]
  },
  {
   "cell_type": "code",
   "execution_count": 73,
   "id": "998ce39d-56cd-48f1-8833-ab57df124c5d",
   "metadata": {},
   "outputs": [
    {
     "name": "stdout",
     "output_type": "stream",
     "text": [
      "['Ag', 'I', 'Cd', 'Te', 'B', 'N', 'Zn', 'S', 'O', 'Se', 'Be', 'Ga', 'Cu', 'P', 'Mg', 'Al', 'Sb', 'Cl', 'Si', 'C', 'Br', 'As', 'In', 'Li', 'Ho', 'Ni', 'Nb', 'Ru', 'Fe', 'Tb', 'Sc', 'Ti', 'Co', 'Th', 'Rh', 'Dy', 'Sn', 'Tm', 'Gd', 'Pt', 'Er', 'Pd', 'Hf', 'Bi', 'V', 'Zr', 'Ta', 'Y', 'Nd', 'F', 'La', 'Pr', 'Ac', 'Sm', 'Ge', 'K', 'Rb', 'Tl', 'Au', 'H', 'Os', 'Cs', 'Na', 'Ba', 'Mn', 'Ir', 'Mo', 'Ca', 'Hg', 'W', 'Pb', 'Eu', 'Cr', 'U', 'Sr', 'Re', 'Lu', 'Ce']\n"
     ]
    }
   ],
   "source": [
    "ele_list_not_double = []\n",
    "\n",
    "for i in range(len(ele_list)):\n",
    "    for s in ele_list[i]:\n",
    "        if s not in ele_list_not_double:\n",
    "            ele_list_not_double.append(s)\n",
    "\n",
    "print(ele_list_not_double)"
   ]
  },
  {
   "cell_type": "code",
   "execution_count": 74,
   "id": "25f5b12c-3b9d-46bb-9277-13ccb7722ea0",
   "metadata": {},
   "outputs": [
    {
     "name": "stdout",
     "output_type": "stream",
     "text": [
      "[53, 38, 39, 58, 34, 70, 47, 113, 340, 61, 18, 40, 58, 64, 27, 48, 44, 42, 56, 22, 25, 31, 24, 99, 6, 24, 19, 8, 17, 4, 11, 17, 13, 6, 5, 9, 29, 9, 3, 16, 7, 8, 8, 30, 18, 14, 24, 11, 4, 81, 14, 5, 1, 4, 37, 55, 31, 15, 5, 85, 2, 26, 41, 42, 17, 2, 4, 14, 21, 11, 18, 2, 6, 4, 15, 1, 1, 1]\n"
     ]
    }
   ],
   "source": [
    "count_list = [0] * len(ele_list_not_double)\n",
    "\n",
    "for i in range(len(ele_list)):\n",
    "    for s in ele_list[i]:\n",
    "        for j in range(len(ele_list_not_double)):\n",
    "            if s == ele_list_not_double[j]:\n",
    "                count_list[j] = count_list[j] + 1\n",
    "                break\n",
    "\n",
    "print(count_list)\n",
    "\n",
    "    "
   ]
  },
  {
   "cell_type": "code",
   "execution_count": 78,
   "id": "3ebb4f0d-cebe-4c6c-89a7-fe82f073ea7f",
   "metadata": {},
   "outputs": [],
   "source": [
    "import matplotlib.pyplot as plt"
   ]
  },
  {
   "cell_type": "code",
   "execution_count": 83,
   "id": "53b63405-500e-4d46-b373-016e130e6861",
   "metadata": {},
   "outputs": [
    {
     "data": {
      "text/plain": [
       "<BarContainer object of 78 artists>"
      ]
     },
     "execution_count": 83,
     "metadata": {},
     "output_type": "execute_result"
    },
    {
     "data": {
      "image/png": "[encoded data removed]",
      "text/plain": [
       "<Figure size 1296x864 with 1 Axes>"
      ]
     },
     "metadata": {
      "needs_background": "light"
     },
     "output_type": "display_data"
    }
   ],
   "source": [
    "plt.figure(figsize=(18,12))\n",
    "lst = list(range(1,len(ele_list_not_double)+1))\n",
    "plt.bar(lst, count_list, tick_label=ele_list_not_double, align=\"center\")"
   ]
  },
  {
   "cell_type": "code",
   "execution_count": 90,
   "id": "9edeff4c-8df6-4cb5-b553-ad4f259a96c5",
   "metadata": {},
   "outputs": [],
   "source": [
    "df_extract = df[['energy','energy_per_atom','volume','formation_energy_per_atom','nsites','nelements','e_above_hull','band_gap','density','total_magnetization','oxide_type','elasticity','piezo','diel']]"
   ]
  },
  {
   "cell_type": "code",
   "execution_count": 92,
   "id": "6ebf37d2-6aa1-4416-84d9-ad94a4b03642",
   "metadata": {},
   "outputs": [
    {
     "data": {
      "text/plain": [
       "0           None\n",
       "1           None\n",
       "2           None\n",
       "3           None\n",
       "4           None\n",
       "         ...    \n",
       "800        oxide\n",
       "801        oxide\n",
       "802    hydroxide\n",
       "803    hydroxide\n",
       "804      ozonide\n",
       "Name: oxide_type, Length: 805, dtype: object"
      ]
     },
     "execution_count": 92,
     "metadata": {},
     "output_type": "execute_result"
    }
   ],
   "source": [
    "df['oxide_type']"
   ]
  },
  {
   "cell_type": "code",
   "execution_count": 95,
   "id": "ffbf8a9e-495f-4a18-902b-abdaa394434a",
   "metadata": {},
   "outputs": [
    {
     "name": "stdout",
     "output_type": "stream",
     "text": [
      "[0, 0, 0, 0, 0, 1, 0, 1, 0, 0, 0, 0, 0, 0, 0, 0, 0, 0, 0, 0, 0, 0, 0, 0, 0, 0, 0, 0, 0, 0, 0, 0, 0, 0, 0, 0, 0, 0, 0, 0, 0, 0, 0, 0, 0, 0, 0, 0, 0, 0, 0, 0, 0, 0, 0, 0, 0, 0, 0, 0, 0, 0, 0, 0, 0, 1, 1, 1, 0, 1, 1, 0, 1, 0, 0, 0, 0, 0, 1, 1, 1, 0, 0, 0, 0, 0, 0, 0, 0, 0, 0, 0, 0, 0, 0, 0, 0, 0, 0, 1, 1, 0, 0, 0, 0, 0, 0, 0, 0, 0, 0, 0, 0, 0, 0, 0, 0, 0, 0, 0, 0, 0, 0, 0, 0, 1, 1, 1, 1, 1, 1, 0, 1, 0, 1, 0, 1, 0, 1, 0, 1, 0, 1, 1, 0, 1, 1, 0, 1, 0, 0, 0, 1, 0, 0, 0, 0, 1, 0, 0, 0, 0, 0, 0, 0, 0, 0, 0, 0, 0, 0, 0, 0, 0, 0, 0, 0, 0, 0, 0, 0, 0, 1, 1, 0, 0, 0, 0, 0, 0, 0, 0, 0, 0, 0, 1, 0, 1, 0, 0, 0, 0, 0, 0, 1, 0, 0, 1, 0, 0, 0, 0, 0, 0, 0, 0, 0, 0, 0, 0, 0, 0, 0, 0, 0, 0, 0, 0, 0, 0, 1, 5, 4, 4, 4, 4, 4, 2, 1, 1, 1, 1, 1, 1, 1, 1, 1, 1, 0, 1, 0, 0, 0, 0, 0, 0, 0, 0, 0, 0, 0, 0, 0, 0, 0, 0, 0, 0, 0, 0, 0, 0, 0, 0, 1, 0, 0, 0, 0, 0, 0, 0, 1, 1, 1, 0, 0, 1, 0, 0, 0, 0, 0, 0, 0, 0, 1, 1, 0, 0, 1, 0, 0, 0, 0, 0, 0, 0, 0, 0, 0, 0, 0, 0, 0, 0, 0, 0, 0, 0, 0, 0, 0, 0, 0, 4, 0, 1, 1, 0, 1, 0, 0, 0, 0, 0, 0, 0, 0, 1, 0, 1, 1, 1, 1, 0, 1, 2, 1, 1, 0, 0, 0, 1, 0, 0, 0, 0, 1, 0, 2, 2, 0, 0, 0, 0, 0, 0, 0, 1, 0, 2, 0, 0, 0, 0, 0, 0, 0, 0, 0, 1, 1, 1, 1, 1, 1, 1, 1, 1, 0, 1, 1, 1, 1, 1, 1, 1, 0, 0, 0, 1, 0, 0, 2, 0, 0, 1, 1, 0, 2, 0, 1, 0, 1, 1, 1, 0, 0, 0, 0, 0, 0, 0, 0, 0, 0, 0, 0, 1, 1, 1, 1, 1, 1, 1, 1, 1, 1, 1, 0, 0, 0, 0, 0, 1, 0, 1, 1, 1, 1, 0, 0, 0, 1, 0, 0, 0, 0, 1, 0, 0, 1, 1, 1, 1, 1, 1, 1, 1, 1, 1, 1, 1, 1, 1, 1, 1, 0, 0, 1, 1, 1, 0, 0, 0, 1, 1, 1, 1, 1, 1, 1, 0, 0, 1, 1, 0, 0, 1, 0, 0, 1, 1, 0, 1, 1, 1, 0, 0, 1, 0, 1, 1, 1, 1, 1, 1, 0, 1, 1, 1, 1, 1, 1, 1, 1, 1, 1, 1, 1, 0, 0, 0, 1, 1, 1, 1, 1, 1, 1, 1, 1, 1, 1, 1, 0, 0, 1, 3, 0, 1, 0, 0, 1, 1, 0, 0, 2, 0, 1, 1, 1, 2, 2, 2, 2, 1, 0, 1, 0, 2, 2, 0, 0, 0, 1, 0, 0, 2, 0, 1, 1, 0, 0, 0, 0, 1, 0, 0, 0, 1, 0, 0, 0, 0, 0, 0, 0, 1, 1, 1, 1, 1, 1, 1, 1, 1, 1, 0, 0, 0, 0, 0, 0, 0, 0, 1, 0, 0, 0, 1, 0, 1, 0, 1, 0, 0, 1, 1, 1, 1, 1, 1, 0, 1, 1, 0, 0, 1, 0, 1, 0, 1, 0, 0, 1, 0, 0, 1, 1, 1, 1, 1, 1, 1, 1, 1, 0, 0, 1, 0, 1, 1, 0, 0, 0, 1, 1, 0, 0, 0, 1, 1, 1, 1, 0, 0, 0, 0, 1, 2, 0, 2, 0, 0, 1, 1, 1, 1, 1, 1, 0, 1, 1, 1, 1, 0, 0, 0, 0, 0, 0, 1, 0, 1, 0, 0, 0, 1, 1, 0, 2, 1, 1, 1, 1, 2, 1, 2, 0, 1, 1, 2, 1, 1, 2, 2, 2, 2, 2, 2, 2, 2, 2, 2, 0, 0, 1, 2, 0, 0, 1, 1, 1, 1, 0, 0, 0, 1, 1, 1, 1, 1, 1, 1, 1, 1, 1, 1, 1, 1, 1, 0, 1, 1, 1, 1, 1, 0, 0, 2, 1, 0, 0, 0, 0, 0, 0, 0, 1, 0, 0, 0, 0, 0, 0, 1, 1, 2, 0, 0, 1, 1, 1, 1, 0, 1, 1, 0, 1, 1, 2, 2, 3]\n"
     ]
    }
   ],
   "source": [
    "oxide_num = []\n",
    "\n",
    "for ox in df['oxide_type']:\n",
    "    if ox == 'None':\n",
    "        oxide_num.append(0)\n",
    "    elif ox == 'oxide':\n",
    "        oxide_num.append(1)\n",
    "    elif ox == 'hydroxide':\n",
    "        oxide_num.append(2)\n",
    "    elif ox == 'ozonide':\n",
    "        oxide_num.append(3)\n",
    "    elif ox == 'peroxide':\n",
    "        oxide_num.append(4)\n",
    "    elif ox == 'superoxide':\n",
    "        oxide_num.append(5)\n",
    "    else:\n",
    "        print('error')\n",
    "\n",
    "print(oxide_num)"
   ]
  },
  {
   "cell_type": "code",
   "execution_count": 96,
   "id": "24f66ce4-92b1-463f-a30e-bb77eb004dee",
   "metadata": {},
   "outputs": [
    {
     "data": {
      "text/plain": [
       "805"
      ]
     },
     "execution_count": 96,
     "metadata": {},
     "output_type": "execute_result"
    }
   ],
   "source": [
    "len(oxide_num)"
   ]
  },
  {
   "cell_type": "code",
   "execution_count": 108,
   "id": "e1182827-2646-4a1b-93e0-6cd3207f876d",
   "metadata": {},
   "outputs": [
    {
     "name": "stdout",
     "output_type": "stream",
     "text": [
      "[0, 0, 0, 0, 0, 1, 0, 1, 0, 0, 0, 0, 0, 0, 0, 0, 0, 0, 0, 0, 0, 0, 0, 0, 0, 0, 0, 0, 0, 0, 0, 0, 0, 0, 0, 0, 0, 0, 0, 0, 0, 0, 0, 0, 0, 0, 0, 0, 0, 0, 0, 0, 0, 0, 0, 0, 0, 0, 0, 0, 0, 0, 0, 0, 0, 1, 1, 1, 0, 1, 1, 0, 1, 0, 0, 0, 0, 0, 1, 1, 1, 0, 0, 0, 0, 0, 0, 0, 0, 0, 0, 0, 0, 0, 0, 0, 0, 0, 0, 1, 1, 0, 0, 0, 0, 0, 0, 0, 0, 0, 0, 0, 0, 0, 0, 0, 0, 0, 0, 0, 0, 0, 0, 0, 0, 1, 1, 1, 1, 1, 1, 0, 1, 0, 1, 0, 1, 0, 1, 0, 1, 0, 1, 1, 0, 1, 1, 0, 1, 0, 0, 0, 1, 0, 0, 0, 0, 1, 0, 0, 0, 0, 0, 0, 0, 0, 0, 0, 0, 0, 0, 0, 0, 0, 0, 0, 0, 0, 0, 0, 0, 0, 1, 1, 0, 0, 0, 0, 0, 0, 0, 0, 0, 0, 0, 1, 0, 1, 0, 0, 0, 0, 0, 0, 1, 0, 0, 1, 0, 0, 0, 0, 0, 0, 0, 0, 0, 0, 0, 0, 0, 0, 0, 0, 0, 0, 0, 0, 0, 0, 1, 1, 1, 1, 1, 1, 1, 1, 1, 1, 1, 1, 1, 1, 1, 1, 1, 1, 0, 1, 0, 0, 0, 0, 0, 0, 0, 0, 0, 0, 0, 0, 0, 0, 0, 0, 0, 0, 0, 0, 0, 0, 0, 0, 1, 0, 0, 0, 0, 0, 0, 0, 1, 1, 1, 0, 0, 1, 0, 0, 0, 0, 0, 0, 0, 0, 1, 1, 0, 0, 1, 0, 0, 0, 0, 0, 0, 0, 0, 0, 0, 0, 0, 0, 0, 0, 0, 0, 0, 0, 0, 0, 0, 0, 0, 1, 0, 1, 1, 0, 1, 0, 0, 0, 0, 0, 0, 0, 0, 1, 0, 1, 1, 1, 1, 0, 1, 1, 1, 1, 0, 0, 0, 1, 0, 0, 0, 0, 1, 0, 1, 1, 0, 0, 0, 0, 0, 0, 0, 1, 0, 1, 0, 0, 0, 0, 0, 0, 0, 0, 0, 1, 1, 1, 1, 1, 1, 1, 1, 1, 0, 1, 1, 1, 1, 1, 1, 1, 0, 0, 0, 1, 0, 0, 1, 0, 0, 1, 1, 0, 1, 0, 1, 0, 1, 1, 1, 0, 0, 0, 0, 0, 0, 0, 0, 0, 0, 0, 0, 1, 1, 1, 1, 1, 1, 1, 1, 1, 1, 1, 0, 0, 0, 0, 0, 1, 0, 1, 1, 1, 1, 0, 0, 0, 1, 0, 0, 0, 0, 1, 0, 0, 1, 1, 1, 1, 1, 1, 1, 1, 1, 1, 1, 1, 1, 1, 1, 1, 0, 0, 1, 1, 1, 0, 0, 0, 1, 1, 1, 1, 1, 1, 1, 0, 0, 1, 1, 0, 0, 1, 0, 0, 1, 1, 0, 1, 1, 1, 0, 0, 1, 0, 1, 1, 1, 1, 1, 1, 0, 1, 1, 1, 1, 1, 1, 1, 1, 1, 1, 1, 1, 0, 0, 0, 1, 1, 1, 1, 1, 1, 1, 1, 1, 1, 1, 1, 0, 0, 1, 1, 0, 1, 0, 0, 1, 1, 0, 0, 1, 0, 1, 1, 1, 1, 1, 1, 1, 1, 0, 1, 0, 1, 1, 0, 0, 0, 1, 0, 0, 1, 0, 1, 1, 0, 0, 0, 0, 1, 0, 0, 0, 1, 0, 0, 0, 0, 0, 0, 0, 1, 1, 1, 1, 1, 1, 1, 1, 1, 1, 0, 0, 0, 0, 0, 0, 0, 0, 1, 0, 0, 0, 1, 0, 1, 0, 1, 0, 0, 1, 1, 1, 1, 1, 1, 0, 1, 1, 0, 0, 1, 0, 1, 0, 1, 0, 0, 1, 0, 0, 1, 1, 1, 1, 1, 1, 1, 1, 1, 0, 0, 1, 0, 1, 1, 0, 0, 0, 1, 1, 0, 0, 0, 1, 1, 1, 1, 0, 0, 0, 0, 1, 1, 0, 1, 0, 0, 1, 1, 1, 1, 1, 1, 0, 1, 1, 1, 1, 0, 0, 0, 0, 0, 0, 1, 0, 1, 0, 0, 0, 1, 1, 0, 1, 1, 1, 1, 1, 1, 1, 1, 0, 1, 1, 1, 1, 1, 1, 1, 1, 1, 1, 1, 1, 1, 1, 1, 0, 0, 1, 1, 0, 0, 1, 1, 1, 1, 0, 0, 0, 1, 1, 1, 1, 1, 1, 1, 1, 1, 1, 1, 1, 1, 1, 0, 1, 1, 1, 1, 1, 0, 0, 1, 1, 0, 0, 0, 0, 0, 0, 0, 1, 0, 0, 0, 0, 0, 0, 1, 1, 1, 0, 0, 1, 1, 1, 1, 0, 1, 1, 0, 1, 1, 1, 1, 1]\n"
     ]
    }
   ],
   "source": [
    "oxide_num2 = []\n",
    "\n",
    "for ox in df['oxide_type']:\n",
    "    if ox == 'None':\n",
    "        oxide_num2.append(0)\n",
    "    else:\n",
    "        oxide_num2.append(1)\n",
    "\n",
    "print(oxide_num2)"
   ]
  },
  {
   "cell_type": "code",
   "execution_count": 115,
   "id": "ba3f3f4e-37f5-42c3-87f9-dcb886fe31f7",
   "metadata": {},
   "outputs": [],
   "source": [
    "df_extract2 = df_extract.drop('oxide_type',axis=1)"
   ]
  },
  {
   "cell_type": "code",
   "execution_count": 116,
   "id": "4cb51112-ae39-4ff1-8ca2-b7264666effa",
   "metadata": {},
   "outputs": [],
   "source": [
    "df_extract2['oxide_num2'] = oxide_num2"
   ]
  },
  {
   "cell_type": "code",
   "execution_count": 119,
   "id": "1da2afa9-7971-4de3-a345-1a1697cd4ed8",
   "metadata": {},
   "outputs": [
    {
     "data": {
      "text/html": [
       "<div>\n",
       "<style scoped>\n",
       "    .dataframe tbody tr th:only-of-type {\n",
       "        vertical-align: middle;\n",
       "    }\n",
       "\n",
       "    .dataframe tbody tr th {\n",
       "        vertical-align: top;\n",
       "    }\n",
       "\n",
       "    .dataframe thead th {\n",
       "        text-align: right;\n",
       "    }\n",
       "</style>\n",
       "<table border=\"1\" class=\"dataframe\">\n",
       "  <thead>\n",
       "    <tr style=\"text-align: right;\">\n",
       "      <th></th>\n",
       "      <th>energy</th>\n",
       "      <th>energy_per_atom</th>\n",
       "      <th>volume</th>\n",
       "      <th>formation_energy_per_atom</th>\n",
       "      <th>nsites</th>\n",
       "      <th>nelements</th>\n",
       "      <th>e_above_hull</th>\n",
       "      <th>band_gap</th>\n",
       "      <th>density</th>\n",
       "      <th>total_magnetization</th>\n",
       "      <th>elasticity</th>\n",
       "      <th>piezo</th>\n",
       "      <th>diel</th>\n",
       "      <th>oxide_num2</th>\n",
       "    </tr>\n",
       "  </thead>\n",
       "  <tbody>\n",
       "    <tr>\n",
       "      <th>0</th>\n",
       "      <td>-4.917780</td>\n",
       "      <td>-2.458890</td>\n",
       "      <td>73.219559</td>\n",
       "      <td>-0.280621</td>\n",
       "      <td>2</td>\n",
       "      <td>2</td>\n",
       "      <td>0.000000</td>\n",
       "      <td>1.7236</td>\n",
       "      <td>5.324386</td>\n",
       "      <td>1.000000e-07</td>\n",
       "      <td>{'G_Reuss': 2.0, 'G_VRH': 5.0, 'G_Voigt': 8.0,...</td>\n",
       "      <td>{'eij_max': 0.1584199999999997, 'piezoelectric...</td>\n",
       "      <td>{'e_electronic': [[5.0266240000000115, 0.0, 0....</td>\n",
       "      <td>0</td>\n",
       "    </tr>\n",
       "    <tr>\n",
       "      <th>1</th>\n",
       "      <td>-4.976932</td>\n",
       "      <td>-2.488466</td>\n",
       "      <td>72.827181</td>\n",
       "      <td>-0.463714</td>\n",
       "      <td>2</td>\n",
       "      <td>2</td>\n",
       "      <td>0.000000</td>\n",
       "      <td>1.2285</td>\n",
       "      <td>5.472512</td>\n",
       "      <td>0.000000e+00</td>\n",
       "      <td>{'G_Reuss': 13.0, 'G_VRH': 14.0, 'G_Voigt': 15...</td>\n",
       "      <td>{'eij_max': 0.008396666666666719, 'piezoelectr...</td>\n",
       "      <td>{'e_electronic': [[9.309292000000019, 0.0, 0.0...</td>\n",
       "      <td>0</td>\n",
       "    </tr>\n",
       "    <tr>\n",
       "      <th>2</th>\n",
       "      <td>-17.422918</td>\n",
       "      <td>-8.711459</td>\n",
       "      <td>11.918569</td>\n",
       "      <td>-1.395528</td>\n",
       "      <td>2</td>\n",
       "      <td>2</td>\n",
       "      <td>0.077321</td>\n",
       "      <td>4.6482</td>\n",
       "      <td>3.457694</td>\n",
       "      <td>0.000000e+00</td>\n",
       "      <td>{'G_Reuss': 365.0, 'G_VRH': 374.0, 'G_Voigt': ...</td>\n",
       "      <td>{'eij_max': 0.8967600000000003, 'piezoelectric...</td>\n",
       "      <td>{'e_electronic': [[4.6166129999999885, 0.0, 0....</td>\n",
       "      <td>0</td>\n",
       "    </tr>\n",
       "    <tr>\n",
       "      <th>3</th>\n",
       "      <td>-7.018682</td>\n",
       "      <td>-3.509341</td>\n",
       "      <td>40.475671</td>\n",
       "      <td>-1.143116</td>\n",
       "      <td>2</td>\n",
       "      <td>2</td>\n",
       "      <td>0.000387</td>\n",
       "      <td>2.3504</td>\n",
       "      <td>3.998930</td>\n",
       "      <td>0.000000e+00</td>\n",
       "      <td>{'G_Reuss': 31.0, 'G_VRH': 33.0, 'G_Voigt': 36...</td>\n",
       "      <td>{'eij_max': 0.05316000000000007, 'piezoelectri...</td>\n",
       "      <td>{'e_electronic': [[5.903599999999994, 0.0, 0.0...</td>\n",
       "      <td>0</td>\n",
       "    </tr>\n",
       "    <tr>\n",
       "      <th>4</th>\n",
       "      <td>-5.349359</td>\n",
       "      <td>-2.674679</td>\n",
       "      <td>59.145603</td>\n",
       "      <td>-0.473299</td>\n",
       "      <td>2</td>\n",
       "      <td>2</td>\n",
       "      <td>0.000000</td>\n",
       "      <td>1.0782</td>\n",
       "      <td>5.418813</td>\n",
       "      <td>0.000000e+00</td>\n",
       "      <td>{'G_Reuss': 21.0, 'G_VRH': 22.0, 'G_Voigt': 24...</td>\n",
       "      <td>{'eij_max': 0.11930999999999999, 'piezoelectri...</td>\n",
       "      <td>{'e_electronic': [[9.017235000000003, 0.0, 0.0...</td>\n",
       "      <td>0</td>\n",
       "    </tr>\n",
       "    <tr>\n",
       "      <th>...</th>\n",
       "      <td>...</td>\n",
       "      <td>...</td>\n",
       "      <td>...</td>\n",
       "      <td>...</td>\n",
       "      <td>...</td>\n",
       "      <td>...</td>\n",
       "      <td>...</td>\n",
       "      <td>...</td>\n",
       "      <td>...</td>\n",
       "      <td>...</td>\n",
       "      <td>...</td>\n",
       "      <td>...</td>\n",
       "      <td>...</td>\n",
       "      <td>...</td>\n",
       "    </tr>\n",
       "    <tr>\n",
       "      <th>800</th>\n",
       "      <td>-94.263380</td>\n",
       "      <td>-7.855282</td>\n",
       "      <td>196.249517</td>\n",
       "      <td>-3.217041</td>\n",
       "      <td>12</td>\n",
       "      <td>2</td>\n",
       "      <td>0.060957</td>\n",
       "      <td>5.4998</td>\n",
       "      <td>2.033581</td>\n",
       "      <td>0.000000e+00</td>\n",
       "      <td>NaN</td>\n",
       "      <td>NaN</td>\n",
       "      <td>NaN</td>\n",
       "      <td>1</td>\n",
       "    </tr>\n",
       "    <tr>\n",
       "      <th>801</th>\n",
       "      <td>-96.037385</td>\n",
       "      <td>-8.003115</td>\n",
       "      <td>216.202240</td>\n",
       "      <td>-2.936967</td>\n",
       "      <td>12</td>\n",
       "      <td>3</td>\n",
       "      <td>0.073418</td>\n",
       "      <td>3.1522</td>\n",
       "      <td>3.066022</td>\n",
       "      <td>1.000000e-07</td>\n",
       "      <td>{'G_Reuss': 12.0, 'G_VRH': 13.0, 'G_Voigt': 15...</td>\n",
       "      <td>{'eij_max': 0.590581140221522, 'piezoelectric_...</td>\n",
       "      <td>{'e_electronic': [[4.029267223201615, 0.315162...</td>\n",
       "      <td>1</td>\n",
       "    </tr>\n",
       "    <tr>\n",
       "      <th>802</th>\n",
       "      <td>-65.295890</td>\n",
       "      <td>-5.022761</td>\n",
       "      <td>131.247561</td>\n",
       "      <td>-1.326167</td>\n",
       "      <td>13</td>\n",
       "      <td>3</td>\n",
       "      <td>0.060358</td>\n",
       "      <td>2.0005</td>\n",
       "      <td>2.905448</td>\n",
       "      <td>1.200000e-06</td>\n",
       "      <td>NaN</td>\n",
       "      <td>{'eij_max': 0.25468537602062336, 'piezoelectri...</td>\n",
       "      <td>{'e_electronic': [[2.613064781488079, -0.02743...</td>\n",
       "      <td>1</td>\n",
       "    </tr>\n",
       "    <tr>\n",
       "      <th>803</th>\n",
       "      <td>-65.432351</td>\n",
       "      <td>-5.033258</td>\n",
       "      <td>133.716708</td>\n",
       "      <td>-1.336664</td>\n",
       "      <td>13</td>\n",
       "      <td>3</td>\n",
       "      <td>0.049861</td>\n",
       "      <td>2.2333</td>\n",
       "      <td>2.851797</td>\n",
       "      <td>0.000000e+00</td>\n",
       "      <td>NaN</td>\n",
       "      <td>{'eij_max': 0.26311366296230715, 'piezoelectri...</td>\n",
       "      <td>{'e_electronic': [[2.6398818439256075, -0.0421...</td>\n",
       "      <td>1</td>\n",
       "    </tr>\n",
       "    <tr>\n",
       "      <th>804</th>\n",
       "      <td>-66.807717</td>\n",
       "      <td>-5.139055</td>\n",
       "      <td>258.802047</td>\n",
       "      <td>-1.189834</td>\n",
       "      <td>13</td>\n",
       "      <td>3</td>\n",
       "      <td>0.481286</td>\n",
       "      <td>0.5756</td>\n",
       "      <td>2.440283</td>\n",
       "      <td>0.000000e+00</td>\n",
       "      <td>NaN</td>\n",
       "      <td>{'eij_max': 1.8943903364313384, 'piezoelectric...</td>\n",
       "      <td>{'e_electronic': [[3.377136478949216, -0.09959...</td>\n",
       "      <td>1</td>\n",
       "    </tr>\n",
       "  </tbody>\n",
       "</table>\n",
       "<p>805 rows × 14 columns</p>\n",
       "</div>"
      ],
      "text/plain": [
       "        energy  energy_per_atom      volume  formation_energy_per_atom  \\\n",
       "0    -4.917780        -2.458890   73.219559                  -0.280621   \n",
       "1    -4.976932        -2.488466   72.827181                  -0.463714   \n",
       "2   -17.422918        -8.711459   11.918569                  -1.395528   \n",
       "3    -7.018682        -3.509341   40.475671                  -1.143116   \n",
       "4    -5.349359        -2.674679   59.145603                  -0.473299   \n",
       "..         ...              ...         ...                        ...   \n",
       "800 -94.263380        -7.855282  196.249517                  -3.217041   \n",
       "801 -96.037385        -8.003115  216.202240                  -2.936967   \n",
       "802 -65.295890        -5.022761  131.247561                  -1.326167   \n",
       "803 -65.432351        -5.033258  133.716708                  -1.336664   \n",
       "804 -66.807717        -5.139055  258.802047                  -1.189834   \n",
       "\n",
       "     nsites  nelements  e_above_hull  band_gap   density  total_magnetization  \\\n",
       "0         2          2      0.000000    1.7236  5.324386         1.000000e-07   \n",
       "1         2          2      0.000000    1.2285  5.472512         0.000000e+00   \n",
       "2         2          2      0.077321    4.6482  3.457694         0.000000e+00   \n",
       "3         2          2      0.000387    2.3504  3.998930         0.000000e+00   \n",
       "4         2          2      0.000000    1.0782  5.418813         0.000000e+00   \n",
       "..      ...        ...           ...       ...       ...                  ...   \n",
       "800      12          2      0.060957    5.4998  2.033581         0.000000e+00   \n",
       "801      12          3      0.073418    3.1522  3.066022         1.000000e-07   \n",
       "802      13          3      0.060358    2.0005  2.905448         1.200000e-06   \n",
       "803      13          3      0.049861    2.2333  2.851797         0.000000e+00   \n",
       "804      13          3      0.481286    0.5756  2.440283         0.000000e+00   \n",
       "\n",
       "                                            elasticity  \\\n",
       "0    {'G_Reuss': 2.0, 'G_VRH': 5.0, 'G_Voigt': 8.0,...   \n",
       "1    {'G_Reuss': 13.0, 'G_VRH': 14.0, 'G_Voigt': 15...   \n",
       "2    {'G_Reuss': 365.0, 'G_VRH': 374.0, 'G_Voigt': ...   \n",
       "3    {'G_Reuss': 31.0, 'G_VRH': 33.0, 'G_Voigt': 36...   \n",
       "4    {'G_Reuss': 21.0, 'G_VRH': 22.0, 'G_Voigt': 24...   \n",
       "..                                                 ...   \n",
       "800                                                NaN   \n",
       "801  {'G_Reuss': 12.0, 'G_VRH': 13.0, 'G_Voigt': 15...   \n",
       "802                                                NaN   \n",
       "803                                                NaN   \n",
       "804                                                NaN   \n",
       "\n",
       "                                                 piezo  \\\n",
       "0    {'eij_max': 0.1584199999999997, 'piezoelectric...   \n",
       "1    {'eij_max': 0.008396666666666719, 'piezoelectr...   \n",
       "2    {'eij_max': 0.8967600000000003, 'piezoelectric...   \n",
       "3    {'eij_max': 0.05316000000000007, 'piezoelectri...   \n",
       "4    {'eij_max': 0.11930999999999999, 'piezoelectri...   \n",
       "..                                                 ...   \n",
       "800                                                NaN   \n",
       "801  {'eij_max': 0.590581140221522, 'piezoelectric_...   \n",
       "802  {'eij_max': 0.25468537602062336, 'piezoelectri...   \n",
       "803  {'eij_max': 0.26311366296230715, 'piezoelectri...   \n",
       "804  {'eij_max': 1.8943903364313384, 'piezoelectric...   \n",
       "\n",
       "                                                  diel  oxide_num2  \n",
       "0    {'e_electronic': [[5.0266240000000115, 0.0, 0....           0  \n",
       "1    {'e_electronic': [[9.309292000000019, 0.0, 0.0...           0  \n",
       "2    {'e_electronic': [[4.6166129999999885, 0.0, 0....           0  \n",
       "3    {'e_electronic': [[5.903599999999994, 0.0, 0.0...           0  \n",
       "4    {'e_electronic': [[9.017235000000003, 0.0, 0.0...           0  \n",
       "..                                                 ...         ...  \n",
       "800                                                NaN           1  \n",
       "801  {'e_electronic': [[4.029267223201615, 0.315162...           1  \n",
       "802  {'e_electronic': [[2.613064781488079, -0.02743...           1  \n",
       "803  {'e_electronic': [[2.6398818439256075, -0.0421...           1  \n",
       "804  {'e_electronic': [[3.377136478949216, -0.09959...           1  \n",
       "\n",
       "[805 rows x 14 columns]"
      ]
     },
     "execution_count": 119,
     "metadata": {},
     "output_type": "execute_result"
    }
   ],
   "source": [
    "df_extract2"
   ]
  },
  {
   "cell_type": "code",
   "execution_count": 144,
   "id": "90100b3b-f83a-47f3-b5f8-1a6dac41437d",
   "metadata": {},
   "outputs": [
    {
     "data": {
      "text/plain": [
       "805"
      ]
     },
     "execution_count": 144,
     "metadata": {},
     "output_type": "execute_result"
    }
   ],
   "source": [
    "len(df_extract2)"
   ]
  },
  {
   "cell_type": "code",
   "execution_count": 186,
   "id": "79630ae8-f8b6-4b1d-b57e-1ff96c094f9a",
   "metadata": {},
   "outputs": [],
   "source": [
    "df_ex3 = df_extract2"
   ]
  },
  {
   "cell_type": "code",
   "execution_count": 193,
   "id": "b56d9681-d43c-48bc-8e37-693088596cab",
   "metadata": {},
   "outputs": [
    {
     "data": {
      "text/html": [
       "<div>\n",
       "<style scoped>\n",
       "    .dataframe tbody tr th:only-of-type {\n",
       "        vertical-align: middle;\n",
       "    }\n",
       "\n",
       "    .dataframe tbody tr th {\n",
       "        vertical-align: top;\n",
       "    }\n",
       "\n",
       "    .dataframe thead th {\n",
       "        text-align: right;\n",
       "    }\n",
       "</style>\n",
       "<table border=\"1\" class=\"dataframe\">\n",
       "  <thead>\n",
       "    <tr style=\"text-align: right;\">\n",
       "      <th></th>\n",
       "      <th>energy</th>\n",
       "      <th>energy_per_atom</th>\n",
       "      <th>volume</th>\n",
       "      <th>formation_energy_per_atom</th>\n",
       "      <th>nsites</th>\n",
       "      <th>nelements</th>\n",
       "      <th>e_above_hull</th>\n",
       "      <th>band_gap</th>\n",
       "      <th>density</th>\n",
       "      <th>total_magnetization</th>\n",
       "      <th>elasticity</th>\n",
       "      <th>piezo</th>\n",
       "      <th>diel</th>\n",
       "      <th>oxide_num2</th>\n",
       "    </tr>\n",
       "  </thead>\n",
       "  <tbody>\n",
       "    <tr>\n",
       "      <th>0</th>\n",
       "      <td>-4.917780</td>\n",
       "      <td>-2.458890</td>\n",
       "      <td>73.219559</td>\n",
       "      <td>-0.280621</td>\n",
       "      <td>2</td>\n",
       "      <td>2</td>\n",
       "      <td>0.000000</td>\n",
       "      <td>1.7236</td>\n",
       "      <td>5.324386</td>\n",
       "      <td>1.000000e-07</td>\n",
       "      <td>{'G_Reuss': 2.0, 'G_VRH': 5.0, 'G_Voigt': 8.0,...</td>\n",
       "      <td>{'eij_max': 0.1584199999999997, 'piezoelectric...</td>\n",
       "      <td>{'e_electronic': [[5.0266240000000115, 0.0, 0....</td>\n",
       "      <td>0</td>\n",
       "    </tr>\n",
       "    <tr>\n",
       "      <th>1</th>\n",
       "      <td>-4.976932</td>\n",
       "      <td>-2.488466</td>\n",
       "      <td>72.827181</td>\n",
       "      <td>-0.463714</td>\n",
       "      <td>2</td>\n",
       "      <td>2</td>\n",
       "      <td>0.000000</td>\n",
       "      <td>1.2285</td>\n",
       "      <td>5.472512</td>\n",
       "      <td>0.000000e+00</td>\n",
       "      <td>{'G_Reuss': 13.0, 'G_VRH': 14.0, 'G_Voigt': 15...</td>\n",
       "      <td>{'eij_max': 0.008396666666666719, 'piezoelectr...</td>\n",
       "      <td>{'e_electronic': [[9.309292000000019, 0.0, 0.0...</td>\n",
       "      <td>0</td>\n",
       "    </tr>\n",
       "    <tr>\n",
       "      <th>2</th>\n",
       "      <td>-17.422918</td>\n",
       "      <td>-8.711459</td>\n",
       "      <td>11.918569</td>\n",
       "      <td>-1.395528</td>\n",
       "      <td>2</td>\n",
       "      <td>2</td>\n",
       "      <td>0.077321</td>\n",
       "      <td>4.6482</td>\n",
       "      <td>3.457694</td>\n",
       "      <td>0.000000e+00</td>\n",
       "      <td>{'G_Reuss': 365.0, 'G_VRH': 374.0, 'G_Voigt': ...</td>\n",
       "      <td>{'eij_max': 0.8967600000000003, 'piezoelectric...</td>\n",
       "      <td>{'e_electronic': [[4.6166129999999885, 0.0, 0....</td>\n",
       "      <td>0</td>\n",
       "    </tr>\n",
       "    <tr>\n",
       "      <th>3</th>\n",
       "      <td>-7.018682</td>\n",
       "      <td>-3.509341</td>\n",
       "      <td>40.475671</td>\n",
       "      <td>-1.143116</td>\n",
       "      <td>2</td>\n",
       "      <td>2</td>\n",
       "      <td>0.000387</td>\n",
       "      <td>2.3504</td>\n",
       "      <td>3.998930</td>\n",
       "      <td>0.000000e+00</td>\n",
       "      <td>{'G_Reuss': 31.0, 'G_VRH': 33.0, 'G_Voigt': 36...</td>\n",
       "      <td>{'eij_max': 0.05316000000000007, 'piezoelectri...</td>\n",
       "      <td>{'e_electronic': [[5.903599999999994, 0.0, 0.0...</td>\n",
       "      <td>0</td>\n",
       "    </tr>\n",
       "    <tr>\n",
       "      <th>4</th>\n",
       "      <td>-5.349359</td>\n",
       "      <td>-2.674679</td>\n",
       "      <td>59.145603</td>\n",
       "      <td>-0.473299</td>\n",
       "      <td>2</td>\n",
       "      <td>2</td>\n",
       "      <td>0.000000</td>\n",
       "      <td>1.0782</td>\n",
       "      <td>5.418813</td>\n",
       "      <td>0.000000e+00</td>\n",
       "      <td>{'G_Reuss': 21.0, 'G_VRH': 22.0, 'G_Voigt': 24...</td>\n",
       "      <td>{'eij_max': 0.11930999999999999, 'piezoelectri...</td>\n",
       "      <td>{'e_electronic': [[9.017235000000003, 0.0, 0.0...</td>\n",
       "      <td>0</td>\n",
       "    </tr>\n",
       "    <tr>\n",
       "      <th>...</th>\n",
       "      <td>...</td>\n",
       "      <td>...</td>\n",
       "      <td>...</td>\n",
       "      <td>...</td>\n",
       "      <td>...</td>\n",
       "      <td>...</td>\n",
       "      <td>...</td>\n",
       "      <td>...</td>\n",
       "      <td>...</td>\n",
       "      <td>...</td>\n",
       "      <td>...</td>\n",
       "      <td>...</td>\n",
       "      <td>...</td>\n",
       "      <td>...</td>\n",
       "    </tr>\n",
       "    <tr>\n",
       "      <th>789</th>\n",
       "      <td>-45.670769</td>\n",
       "      <td>-4.567077</td>\n",
       "      <td>104.922734</td>\n",
       "      <td>-1.391676</td>\n",
       "      <td>10</td>\n",
       "      <td>3</td>\n",
       "      <td>0.000000</td>\n",
       "      <td>1.7067</td>\n",
       "      <td>4.634755</td>\n",
       "      <td>0.000000e+00</td>\n",
       "      <td>{'G_Reuss': 19.0, 'G_VRH': 20.0, 'G_Voigt': 21...</td>\n",
       "      <td>{'eij_max': 0.7163407243191624, 'piezoelectric...</td>\n",
       "      <td>{'e_electronic': [[3.5133973282449373, 0.01496...</td>\n",
       "      <td>1</td>\n",
       "    </tr>\n",
       "    <tr>\n",
       "      <th>790</th>\n",
       "      <td>-46.945925</td>\n",
       "      <td>-4.694593</td>\n",
       "      <td>165.396831</td>\n",
       "      <td>-2.811884</td>\n",
       "      <td>10</td>\n",
       "      <td>3</td>\n",
       "      <td>0.069191</td>\n",
       "      <td>4.7189</td>\n",
       "      <td>5.923920</td>\n",
       "      <td>4.600000e-06</td>\n",
       "      <td>{'G_Reuss': 15.0, 'G_VRH': 18.0, 'G_Voigt': 22...</td>\n",
       "      <td>{'eij_max': 14.017013501451471, 'piezoelectric...</td>\n",
       "      <td>{'e_electronic': [[3.0299479105606992, -0.0151...</td>\n",
       "      <td>0</td>\n",
       "    </tr>\n",
       "    <tr>\n",
       "      <th>795</th>\n",
       "      <td>-72.623566</td>\n",
       "      <td>-6.602142</td>\n",
       "      <td>107.030958</td>\n",
       "      <td>-2.420190</td>\n",
       "      <td>11</td>\n",
       "      <td>3</td>\n",
       "      <td>0.081772</td>\n",
       "      <td>1.2497</td>\n",
       "      <td>3.393073</td>\n",
       "      <td>9.979773e-01</td>\n",
       "      <td>{'G_Reuss': 48.0, 'G_VRH': 54.0, 'G_Voigt': 59...</td>\n",
       "      <td>{'eij_max': 1.8994917616085825, 'piezoelectric...</td>\n",
       "      <td>{'e_electronic': [[6.041102851523904, 0.063105...</td>\n",
       "      <td>1</td>\n",
       "    </tr>\n",
       "    <tr>\n",
       "      <th>796</th>\n",
       "      <td>-71.236068</td>\n",
       "      <td>-5.936339</td>\n",
       "      <td>208.767733</td>\n",
       "      <td>-0.408397</td>\n",
       "      <td>12</td>\n",
       "      <td>3</td>\n",
       "      <td>0.000000</td>\n",
       "      <td>0.5757</td>\n",
       "      <td>5.429212</td>\n",
       "      <td>2.150000e-06</td>\n",
       "      <td>{'G_Reuss': 74.0, 'G_VRH': 80.0, 'G_Voigt': 87...</td>\n",
       "      <td>{'eij_max': 0.4430259279740767, 'piezoelectric...</td>\n",
       "      <td>{'e_electronic': [[18.16271949473503, -0.75299...</td>\n",
       "      <td>0</td>\n",
       "    </tr>\n",
       "    <tr>\n",
       "      <th>801</th>\n",
       "      <td>-96.037385</td>\n",
       "      <td>-8.003115</td>\n",
       "      <td>216.202240</td>\n",
       "      <td>-2.936967</td>\n",
       "      <td>12</td>\n",
       "      <td>3</td>\n",
       "      <td>0.073418</td>\n",
       "      <td>3.1522</td>\n",
       "      <td>3.066022</td>\n",
       "      <td>1.000000e-07</td>\n",
       "      <td>{'G_Reuss': 12.0, 'G_VRH': 13.0, 'G_Voigt': 15...</td>\n",
       "      <td>{'eij_max': 0.590581140221522, 'piezoelectric_...</td>\n",
       "      <td>{'e_electronic': [[4.029267223201615, 0.315162...</td>\n",
       "      <td>1</td>\n",
       "    </tr>\n",
       "  </tbody>\n",
       "</table>\n",
       "<p>482 rows × 14 columns</p>\n",
       "</div>"
      ],
      "text/plain": [
       "        energy  energy_per_atom      volume  formation_energy_per_atom  \\\n",
       "0    -4.917780        -2.458890   73.219559                  -0.280621   \n",
       "1    -4.976932        -2.488466   72.827181                  -0.463714   \n",
       "2   -17.422918        -8.711459   11.918569                  -1.395528   \n",
       "3    -7.018682        -3.509341   40.475671                  -1.143116   \n",
       "4    -5.349359        -2.674679   59.145603                  -0.473299   \n",
       "..         ...              ...         ...                        ...   \n",
       "789 -45.670769        -4.567077  104.922734                  -1.391676   \n",
       "790 -46.945925        -4.694593  165.396831                  -2.811884   \n",
       "795 -72.623566        -6.602142  107.030958                  -2.420190   \n",
       "796 -71.236068        -5.936339  208.767733                  -0.408397   \n",
       "801 -96.037385        -8.003115  216.202240                  -2.936967   \n",
       "\n",
       "     nsites  nelements  e_above_hull  band_gap   density  total_magnetization  \\\n",
       "0         2          2      0.000000    1.7236  5.324386         1.000000e-07   \n",
       "1         2          2      0.000000    1.2285  5.472512         0.000000e+00   \n",
       "2         2          2      0.077321    4.6482  3.457694         0.000000e+00   \n",
       "3         2          2      0.000387    2.3504  3.998930         0.000000e+00   \n",
       "4         2          2      0.000000    1.0782  5.418813         0.000000e+00   \n",
       "..      ...        ...           ...       ...       ...                  ...   \n",
       "789      10          3      0.000000    1.7067  4.634755         0.000000e+00   \n",
       "790      10          3      0.069191    4.7189  5.923920         4.600000e-06   \n",
       "795      11          3      0.081772    1.2497  3.393073         9.979773e-01   \n",
       "796      12          3      0.000000    0.5757  5.429212         2.150000e-06   \n",
       "801      12          3      0.073418    3.1522  3.066022         1.000000e-07   \n",
       "\n",
       "                                            elasticity  \\\n",
       "0    {'G_Reuss': 2.0, 'G_VRH': 5.0, 'G_Voigt': 8.0,...   \n",
       "1    {'G_Reuss': 13.0, 'G_VRH': 14.0, 'G_Voigt': 15...   \n",
       "2    {'G_Reuss': 365.0, 'G_VRH': 374.0, 'G_Voigt': ...   \n",
       "3    {'G_Reuss': 31.0, 'G_VRH': 33.0, 'G_Voigt': 36...   \n",
       "4    {'G_Reuss': 21.0, 'G_VRH': 22.0, 'G_Voigt': 24...   \n",
       "..                                                 ...   \n",
       "789  {'G_Reuss': 19.0, 'G_VRH': 20.0, 'G_Voigt': 21...   \n",
       "790  {'G_Reuss': 15.0, 'G_VRH': 18.0, 'G_Voigt': 22...   \n",
       "795  {'G_Reuss': 48.0, 'G_VRH': 54.0, 'G_Voigt': 59...   \n",
       "796  {'G_Reuss': 74.0, 'G_VRH': 80.0, 'G_Voigt': 87...   \n",
       "801  {'G_Reuss': 12.0, 'G_VRH': 13.0, 'G_Voigt': 15...   \n",
       "\n",
       "                                                 piezo  \\\n",
       "0    {'eij_max': 0.1584199999999997, 'piezoelectric...   \n",
       "1    {'eij_max': 0.008396666666666719, 'piezoelectr...   \n",
       "2    {'eij_max': 0.8967600000000003, 'piezoelectric...   \n",
       "3    {'eij_max': 0.05316000000000007, 'piezoelectri...   \n",
       "4    {'eij_max': 0.11930999999999999, 'piezoelectri...   \n",
       "..                                                 ...   \n",
       "789  {'eij_max': 0.7163407243191624, 'piezoelectric...   \n",
       "790  {'eij_max': 14.017013501451471, 'piezoelectric...   \n",
       "795  {'eij_max': 1.8994917616085825, 'piezoelectric...   \n",
       "796  {'eij_max': 0.4430259279740767, 'piezoelectric...   \n",
       "801  {'eij_max': 0.590581140221522, 'piezoelectric_...   \n",
       "\n",
       "                                                  diel  oxide_num2  \n",
       "0    {'e_electronic': [[5.0266240000000115, 0.0, 0....           0  \n",
       "1    {'e_electronic': [[9.309292000000019, 0.0, 0.0...           0  \n",
       "2    {'e_electronic': [[4.6166129999999885, 0.0, 0....           0  \n",
       "3    {'e_electronic': [[5.903599999999994, 0.0, 0.0...           0  \n",
       "4    {'e_electronic': [[9.017235000000003, 0.0, 0.0...           0  \n",
       "..                                                 ...         ...  \n",
       "789  {'e_electronic': [[3.5133973282449373, 0.01496...           1  \n",
       "790  {'e_electronic': [[3.0299479105606992, -0.0151...           0  \n",
       "795  {'e_electronic': [[6.041102851523904, 0.063105...           1  \n",
       "796  {'e_electronic': [[18.16271949473503, -0.75299...           0  \n",
       "801  {'e_electronic': [[4.029267223201615, 0.315162...           1  \n",
       "\n",
       "[482 rows x 14 columns]"
      ]
     },
     "execution_count": 193,
     "metadata": {},
     "output_type": "execute_result"
    }
   ],
   "source": [
    "df_ex4 = pd.DataFrame(df_ex3.dropna(how='any'))\n",
    "df_ex4"
   ]
  },
  {
   "cell_type": "code",
   "execution_count": 194,
   "id": "88940d76-dd57-4a2c-bef6-5c3c2c800ac3",
   "metadata": {},
   "outputs": [
    {
     "data": {
      "text/plain": [
       "482"
      ]
     },
     "execution_count": 194,
     "metadata": {},
     "output_type": "execute_result"
    }
   ],
   "source": [
    "len(df_ex4)"
   ]
  },
  {
   "cell_type": "code",
   "execution_count": 200,
   "id": "07f3f4a2-4869-4600-8fdf-c37d99b2150c",
   "metadata": {},
   "outputs": [
    {
     "data": {
      "text/plain": [
       "\"{'G_Reuss': 2.0, 'G_VRH': 5.0, 'G_Voigt': 8.0, 'G_Voigt_Reuss_Hill': 5.0, 'K_Reuss': 20.0, 'K_VRH': 20.0, 'K_Voigt': 20.0, 'K_Voigt_Reuss_Hill': 20.0, 'elastic_anisotropy': 11.89, 'elastic_tensor': [[21.0, 19.0, 19.0, 0.0, 0.0, 0.0], [19.0, 21.0, 19.0, 0.0, 0.0, 0.0], [19.0, 19.0, 21.0, 0.0, 0.0, 0.0], [0.0, 0.0, 0.0, 12.0, 0.0, 0.0], [0.0, 0.0, 0.0, 0.0, 12.0, 0.0], [0.0, 0.0, 0.0, 0.0, 0.0, 12.0]], 'homogeneous_poisson': 0.38, 'poisson_ratio': 0.38, 'universal_anisotropy': 11.89, 'elastic_tensor_original': [[21.289792549945684, 19.20984945176344, 19.20984945176344, 0.0, 0.0, 0.0], [19.20984945176344, 21.289792549945684, 19.20984945176344, 0.0, 0.0, 0.0], [19.20984945176344, 19.20984945176344, 21.289792549945684, 0.0, 0.0, 0.0], [0.0, 0.0, 0.0, 12.29415806091515, 0.0, 0.0], [0.0, 0.0, 0.0, 0.0, 12.29415806091515, 0.0], [0.0, 0.0, 0.0, 0.0, 0.0, 12.29415806091515]], 'compliance_tensor': [[326.1, -154.7, -154.7, -0.0, 0.0, 0.0], [-154.7, 326.1, -154.7, 0.0, -0.0, -0.0], [-154.7, -154.7, 326.1, 0.0, 0.0, -0.0], [-0.0, 0.0, 0.0, 81.3, 0.0, 0.0], [0.0, -0.0, 0.0, 0.0, 81.3, 0.0], [0.0, -0.0, -0.0, 0.0, 0.0, 81.3]], 'warnings': [], 'nsites': 2}\""
      ]
     },
     "execution_count": 200,
     "metadata": {},
     "output_type": "execute_result"
    }
   ],
   "source": [
    "df_ex4['elasticity'][0]"
   ]
  },
  {
   "cell_type": "code",
   "execution_count": 201,
   "id": "bed01858-efe8-4cdb-b77c-788ce6c2ea62",
   "metadata": {},
   "outputs": [
    {
     "data": {
      "text/plain": [
       "str"
      ]
     },
     "execution_count": 201,
     "metadata": {},
     "output_type": "execute_result"
    }
   ],
   "source": [
    "type(df_ex4['elasticity'][0])"
   ]
  },
  {
   "cell_type": "code",
   "execution_count": null,
   "id": "6d1a3059-67ad-4fa9-a86d-2a48ef429197",
   "metadata": {},
   "outputs": [],
   "source": []
  },
  {
   "cell_type": "code",
   "execution_count": null,
   "id": "3930d125-4d71-4901-940d-d2e8d1c26aad",
   "metadata": {},
   "outputs": [],
   "source": []
  },
  {
   "cell_type": "code",
   "execution_count": null,
   "id": "511f66ad-3ffd-408f-993f-f2cdef0fd55c",
   "metadata": {},
   "outputs": [],
   "source": []
  },
  {
   "cell_type": "code",
   "execution_count": null,
   "id": "b28724e9-d4b4-404c-96cd-4e0bcf8991e4",
   "metadata": {},
   "outputs": [],
   "source": []
  },
  {
   "cell_type": "code",
   "execution_count": null,
   "id": "9addb4d1-8cbd-4d72-a688-8fe5f8b11452",
   "metadata": {},
   "outputs": [],
   "source": []
  },
  {
   "cell_type": "code",
   "execution_count": null,
   "id": "d4a2f999-1bfb-4e38-986a-2bc54a62b47d",
   "metadata": {},
   "outputs": [],
   "source": []
  },
  {
   "cell_type": "code",
   "execution_count": null,
   "id": "0b4685a3-3981-4f76-9dd0-2adf8832f6d7",
   "metadata": {},
   "outputs": [],
   "source": []
  },
  {
   "cell_type": "code",
   "execution_count": null,
   "id": "6c63acd0-3604-44e5-8eb7-6d7954f803a5",
   "metadata": {},
   "outputs": [],
   "source": []
  },
  {
   "cell_type": "code",
   "execution_count": null,
   "id": "4b018dcb-45a4-478f-ae91-aa8733db46a3",
   "metadata": {},
   "outputs": [],
   "source": []
  },
  {
   "cell_type": "code",
   "execution_count": null,
   "id": "9b89f12e-a482-4a49-9e7e-462ff3ebf76c",
   "metadata": {},
   "outputs": [],
   "source": []
  },
  {
   "cell_type": "code",
   "execution_count": null,
   "id": "56a2a51f-0559-44c2-8ddd-9351c4c00af1",
   "metadata": {},
   "outputs": [],
   "source": []
  },
  {
   "cell_type": "code",
   "execution_count": 187,
   "id": "cfc63bcd-c8bc-45a3-a871-a5476a44f9bb",
   "metadata": {},
   "outputs": [
    {
     "data": {
      "text/plain": [
       "\"{'eij_max': 0.1584199999999997, 'piezoelectric_tensor': [[0.0, 0.0, 0.0, -0.1584199999999997, 0.0, 0.0], [0.0, 0.0, 0.0, 0.0, -0.1584199999999997, 0.0], [0.0, 0.0, 0.0, 0.0, 0.0, -0.1584199999999997]], 'v_max': [1.0, 0.0, 0.0]}\""
      ]
     },
     "execution_count": 187,
     "metadata": {},
     "output_type": "execute_result"
    }
   ],
   "source": [
    "df_extract2['piezo'][0]"
   ]
  },
  {
   "cell_type": "code",
   "execution_count": 141,
   "id": "5bfb02f6-490d-4055-ab0d-f51a7ddc377e",
   "metadata": {},
   "outputs": [
    {
     "name": "stdout",
     "output_type": "stream",
     "text": [
      "*0.1584199999999997* *[[0.0, 0.0, 0.0, -0.1584199999999997, 0.0, 0.0], [0.0, 0.0, 0.0, 0.0, -0.1584199999999997, 0.0], [0.0, 0.0, 0.0, 0.0, 0.0, -0.1584199999999997]]* *[1.0, 0.0, 0.0]*\n"
     ]
    }
   ],
   "source": [
    "ex20 = df_extract2['piezo'][0]\n",
    "ex20 = ex20.replace(\"{'eij_max': \",\"*\")\n",
    "ex20 = ex20.replace(\", 'piezoelectric_tensor': \",\"* *\")\n",
    "ex20 = ex20.replace(\", 'v_max': \",\"* *\")\n",
    "ex20 = ex20.replace(\"}\",\"*\")\n",
    "print(ex20)"
   ]
  },
  {
   "cell_type": "code",
   "execution_count": 136,
   "id": "b8e22aec-5daa-4f69-b43e-abbe431a11dd",
   "metadata": {},
   "outputs": [
    {
     "name": "stdout",
     "output_type": "stream",
     "text": [
      "['0.1584199999999997', '[[0.0, 0.0, 0.0, -0.1584199999999997, 0.0, 0.0], [0.0, 0.0, 0.0, 0.0, -0.1584199999999997, 0.0], [0.0, 0.0, 0.0, 0.0, 0.0, -0.1584199999999997]]', '[1.0, 0.0, 0.0]']\n"
     ]
    }
   ],
   "source": [
    "ex20 = ex20[1:len(ex20)-1].split(\"* *\")\n",
    "print(ex20)"
   ]
  },
  {
   "cell_type": "code",
   "execution_count": 137,
   "id": "51cf07ca-3fc7-4d31-b702-5e2e7652b1d3",
   "metadata": {},
   "outputs": [
    {
     "data": {
      "text/plain": [
       "'0.1584199999999997'"
      ]
     },
     "execution_count": 137,
     "metadata": {},
     "output_type": "execute_result"
    }
   ],
   "source": [
    "ex20[0]"
   ]
  },
  {
   "cell_type": "code",
   "execution_count": 145,
   "id": "6bf1298c-703a-46fc-a495-7e9fbdd2378e",
   "metadata": {},
   "outputs": [
    {
     "data": {
      "text/plain": [
       "0      {'eij_max': 0.1584199999999997, 'piezoelectric...\n",
       "1      {'eij_max': 0.008396666666666719, 'piezoelectr...\n",
       "2      {'eij_max': 0.8967600000000003, 'piezoelectric...\n",
       "3      {'eij_max': 0.05316000000000007, 'piezoelectri...\n",
       "4      {'eij_max': 0.11930999999999999, 'piezoelectri...\n",
       "                             ...                        \n",
       "800                                                  NaN\n",
       "801    {'eij_max': 0.590581140221522, 'piezoelectric_...\n",
       "802    {'eij_max': 0.25468537602062336, 'piezoelectri...\n",
       "803    {'eij_max': 0.26311366296230715, 'piezoelectri...\n",
       "804    {'eij_max': 1.8943903364313384, 'piezoelectric...\n",
       "Name: piezo, Length: 805, dtype: object"
      ]
     },
     "execution_count": 145,
     "metadata": {},
     "output_type": "execute_result"
    }
   ],
   "source": [
    "df['piezo']"
   ]
  },
  {
   "cell_type": "code",
   "execution_count": 143,
   "id": "e2d30ae6-592a-4b8f-9cf4-cc589edc8dd3",
   "metadata": {},
   "outputs": [
    {
     "ename": "AttributeError",
     "evalue": "'float' object has no attribute 'replace'",
     "output_type": "error",
     "traceback": [
      "\u001b[1;31m---------------------------------------------------------------------------\u001b[0m",
      "\u001b[1;31mAttributeError\u001b[0m                            Traceback (most recent call last)",
      "Input \u001b[1;32mIn [143]\u001b[0m, in \u001b[0;36m<cell line: 5>\u001b[1;34m()\u001b[0m\n\u001b[0;32m      5\u001b[0m \u001b[38;5;28;01mfor\u001b[39;00m i \u001b[38;5;129;01min\u001b[39;00m \u001b[38;5;28mrange\u001b[39m(\u001b[38;5;28mlen\u001b[39m(df_extract2)):\n\u001b[0;32m      6\u001b[0m     ex20 \u001b[38;5;241m=\u001b[39m df_extract2[\u001b[38;5;124m'\u001b[39m\u001b[38;5;124mpiezo\u001b[39m\u001b[38;5;124m'\u001b[39m][i]\n\u001b[1;32m----> 7\u001b[0m     ex20 \u001b[38;5;241m=\u001b[39m \u001b[43mex20\u001b[49m\u001b[38;5;241;43m.\u001b[39;49m\u001b[43mreplace\u001b[49m(\u001b[38;5;124m\"\u001b[39m\u001b[38;5;124m{\u001b[39m\u001b[38;5;124m'\u001b[39m\u001b[38;5;124meij_max\u001b[39m\u001b[38;5;124m'\u001b[39m\u001b[38;5;124m: \u001b[39m\u001b[38;5;124m\"\u001b[39m,\u001b[38;5;124m\"\u001b[39m\u001b[38;5;124m*\u001b[39m\u001b[38;5;124m\"\u001b[39m)\n\u001b[0;32m      8\u001b[0m     ex20 \u001b[38;5;241m=\u001b[39m ex20\u001b[38;5;241m.\u001b[39mreplace(\u001b[38;5;124m\"\u001b[39m\u001b[38;5;124m, \u001b[39m\u001b[38;5;124m'\u001b[39m\u001b[38;5;124mpiezoelectric_tensor\u001b[39m\u001b[38;5;124m'\u001b[39m\u001b[38;5;124m: \u001b[39m\u001b[38;5;124m\"\u001b[39m,\u001b[38;5;124m\"\u001b[39m\u001b[38;5;124m* *\u001b[39m\u001b[38;5;124m\"\u001b[39m)\n\u001b[0;32m      9\u001b[0m     ex20 \u001b[38;5;241m=\u001b[39m ex20\u001b[38;5;241m.\u001b[39mreplace(\u001b[38;5;124m\"\u001b[39m\u001b[38;5;124m, \u001b[39m\u001b[38;5;124m'\u001b[39m\u001b[38;5;124mv_max\u001b[39m\u001b[38;5;124m'\u001b[39m\u001b[38;5;124m: \u001b[39m\u001b[38;5;124m\"\u001b[39m,\u001b[38;5;124m\"\u001b[39m\u001b[38;5;124m* *\u001b[39m\u001b[38;5;124m\"\u001b[39m)\n",
      "\u001b[1;31mAttributeError\u001b[0m: 'float' object has no attribute 'replace'"
     ]
    }
   ],
   "source": [
    "G_Reuss = []\n",
    "G_VRH = []\n",
    "G_Voigt = []\n",
    "\n",
    "for i in range(len(df_extract2)):\n",
    "    ex20 = df['piezo'][i]\n",
    "    ex20 = ex20.replace(\"{'eij_max': \",\"*\")\n",
    "    ex20 = ex20.replace(\", 'piezoelectric_tensor': \",\"* *\")\n",
    "    ex20 = ex20.replace(\", 'v_max': \",\"* *\")\n",
    "    ex20 = ex20.replace(\"}\",\"*\")\n",
    "    ex20 = ex20[1:len(ex20)-1].split(\"* *\")\n",
    "    G_Reuss.append(ex20[0])\n",
    "    G_VRH.append(ex20[1])\n",
    "    G_Voigt.append(ex20[2])\n",
    "    \n",
    "print(G_Reuss)\n",
    "print(G_VRH)\n",
    "print(G_Voigt)"
   ]
  },
  {
   "cell_type": "code",
   "execution_count": null,
   "id": "63028ff1-de66-4de2-b183-b23717e77d24",
   "metadata": {},
   "outputs": [],
   "source": []
  },
  {
   "cell_type": "code",
   "execution_count": null,
   "id": "8d46cd0b-bbd6-43c5-945d-487efb586882",
   "metadata": {},
   "outputs": [],
   "source": []
  },
  {
   "cell_type": "code",
   "execution_count": null,
   "id": "7efaaf32-4bc4-4e03-9638-177b491c9ef8",
   "metadata": {},
   "outputs": [],
   "source": []
  },
  {
   "cell_type": "code",
   "execution_count": null,
   "id": "bdcb1a9c-239c-4ffc-ab3d-bcd99db0148c",
   "metadata": {},
   "outputs": [],
   "source": []
  },
  {
   "cell_type": "code",
   "execution_count": null,
   "id": "faacfb62-39f5-4861-94c2-b3a664293f71",
   "metadata": {},
   "outputs": [],
   "source": []
  },
  {
   "cell_type": "code",
   "execution_count": null,
   "id": "78265f31-c6f8-4c0a-a783-7df7c2e151d1",
   "metadata": {},
   "outputs": [],
   "source": []
  },
  {
   "cell_type": "code",
   "execution_count": null,
   "id": "6f95a7cb-6fcd-4a01-bc2d-98033badef56",
   "metadata": {},
   "outputs": [],
   "source": []
  }
 ],
 "metadata": {
  "kernelspec": {
   "display_name": "Python 3 (ipykernel)",
   "language": "python",
   "name": "python3"
  },
  "language_info": {
   "codemirror_mode": {
    "name": "ipython",
    "version": 3
   },
   "file_extension": ".py",
   "mimetype": "text/x-python",
   "name": "python",
   "nbconvert_exporter": "python",
   "pygments_lexer": "ipython3",
   "version": "3.9.12"
  }
 },
 "nbformat": 4,
 "nbformat_minor": 5
}

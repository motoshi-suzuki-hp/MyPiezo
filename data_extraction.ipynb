{
 "cells": [
  {
   "cell_type": "code",
   "execution_count": 2,
   "id": "9976e4e9-8d79-4bb3-94aa-a53c6d0b2c98",
   "metadata": {},
   "outputs": [
    {
     "name": "stdout",
     "output_type": "stream",
     "text": [
      "json_list:<class 'list'>\n"
     ]
    }
   ],
   "source": [
    "import json\n",
    "\n",
    "json_open = open('piezo.json', 'r')\n",
    "json_list = json.load(json_open)\n",
    "\n",
    "print('json_list:{}'.format(type(json_list)))\n",
    "\n",
    "material_formula = []\n",
    "for i in range(len(json_list)):\n",
    "    material_formula.append(json_list[i]['meta']['formula'])"
   ]
  },
  {
   "cell_type": "code",
   "execution_count": 3,
   "id": "ff756881-f0ea-4d89-bfcf-c34f91aeefd2",
   "metadata": {},
   "outputs": [
    {
     "name": "stdout",
     "output_type": "stream",
     "text": [
      "['AgI', 'CdTe', 'BN', 'ZnS', 'ZnTe', 'ZnO', 'ZnSe', 'BeO', 'GaN', 'CuI', 'BP', 'CoO', 'MgS', 'MgSe', 'CdS', 'MgTe', 'AlSb', 'CuCl', 'SiC', 'CuBr', 'AlN', 'CdSe', 'GaP', 'AlAs', 'BAs', 'BeS', 'InP', 'AlP', 'BeTe', 'BeSe', 'AgBr', 'LiAlSi', 'LiZnAs', 'HoNiSb', 'NbSbRu', 'NbFeSb', 'LiZnN', 'TbNiSb', 'ScNiSb', 'TiCoSb', 'ThSbRh', 'DyNiSb', 'ThNiSn', 'TmNiSb', 'GdSbPt', 'ErSbPd', 'HfSnPd', 'ScSbPd', 'LiZnP', 'LiMgBi', 'LiMgAs', 'VSbRu', 'ZrCoBi', 'TaSbRu', 'TmSbPt', 'DySbPt', 'ErSbPt', 'ScSbPt', 'VFeSb', 'HoSbPt', 'GdNiBi', 'TmNiBi', 'LiGaSi', 'YNiSb', 'TiSnPt', 'ThSnPt', 'NdOF', 'LaOF', 'PrOF', 'LiMgP', 'AcOF', 'SmOF', 'LiMgN', 'YOF', 'Li2CuSb', 'Li2AgSn', 'N2', 'SiF4', 'GeF4', 'KClO4', 'RbClO4', 'TlClO4', 'Be5Au', 'H4NCl', 'H4BrN', 'Si3As4', 'Sn3As4', 'VCu3S4', 'NbCu3Se4', 'SiRu', 'SiOs', 'N2', 'VCu3Se4', 'TaCu3S4', 'NbCu3S4', 'TaCu3Se4', 'Li3SbS4', 'Li3NbS4', 'Li3VS4', 'SnI4', 'CsClO4', 'ZnSO4', 'TbInCu4', 'Na3SbSe4', 'TaCu3Te4', 'K3SbS4', 'TaTl3Se4', 'Tl3VS4', 'TaTl3S4', 'GaAs', 'ErNiSb', 'ZrNiSn', 'YSbPt', 'ScSnAu', 'HfNiSn', 'DyNiBi', 'YNiBi', 'GdNiSb', 'ScNiBi', 'Li2AgSb', 'Li2ZnGe', 'Li2CuGe', 'DyCu5', 'Ge3As4', 'CsLiMoO4', 'FeSi', 'GeRh', 'BaLaMgNbO6', 'BaLiLaTeO6', 'BaLaMgTaO6', 'BaLaTaMnO6', 'BaLiPrTeO6', 'BaLaMgBiO6', 'Na3(GePt)4', 'ZrSO', 'SbIrS', 'HfSO', 'CoAsS', 'ZrSeO', 'MoSBr', 'Be4TeO7', 'Li4CuF7', 'SiO2', 'SiS2', 'NaClO4', 'Li2MnF4', 'BeZnO2', 'LiPN2', 'Li2CaSiO4', 'Li2CaGeO4', 'NaPN2', 'LiBO2', 'BeSiN2', 'BeCN2', 'MgSiN2', 'AgClO4', 'BaS3', 'CaGeN2', 'MgSiP2', 'Li2MnSiO4', 'LiAgF2', 'Li2FeSiO4', 'Li2CoSiO4', 'ZnCl2', 'GeS2', 'Cd(InSe2)2', 'Cu2HgI4', 'Ag2HgI4', 'Cd(InSe2)2', 'Cu2WS4', 'Cu2WS4', 'Zn2GeSe4', 'Zn2GeS4', 'Zn(InSe2)2', 'Zn(GaS2)2', 'Li2WS4', 'Li2WS4', 'LiAlTe2', 'ErAgTe2', 'YAgTe2', 'TbAgTe2', 'DyAgTe2', 'CuBS2', 'AlAgS2', 'AlCuS2', 'AlAgSe2', 'GaAgS2', 'VAg3O4', 'VCu3O4', 'Si3NiP4', 'ZnSiAs2', 'GaCuS2', 'CdGeP2', 'CdSiP2', 'LiInSe2', 'ZnSiP2', 'Li2GePbS4', 'EuLi2GeS4', 'ZnGeP2', 'ZnSnP2', 'K3VO4', 'KAg2PS4', 'K3CrO4', 'ZnCu2GeS4', 'HoAgTe2', 'AlCuSe2', 'BaAg2GeS4', 'BaSe3', 'CdSiAs2', 'KAg2AsO4', 'MgGeP2', 'KAg2SbS4', 'K3MnO4', 'CsTaN2', 'K3VO4', 'Li3SbS4', 'Na3VO4', 'GeSe2', 'Cu2HgI4', 'Mg(InTe2)2', 'MnCu2SnS4', 'K2SnHgSe4', 'MnTl2GeTe4', 'LiInTe2', 'LiGaTe2', 'InCuTe2', 'InAgS2', 'AlAgTe2', 'AlCuTe2', 'GaCuTe2', 'GaAgSe2', 'CdSnP2', 'GaAgTe2', 'Ti(CuS)4', 'La2MoO6', 'Li4TiS4', 'MnF2', 'AlCuCl4', 'GaCuCl4', 'Zr3GeO8', 'K3CrO8', 'K3TaO8', 'Rb3NbO8', 'Rb3TaO8', 'K3NbO8', 'Cs3TaO8', 'K2MnH4(Cl2O)2', 'BPO4', 'BeSO4', 'BAsO4', 'AlAsO4', 'AlPO4', 'VBO4', 'LiGeBO4', 'LiSiBO4', 'GaPO4', 'FePO4', 'LiFePO4', 'LiCoPO4', 'Li2MnF4', 'LiMnPO4', 'LiVSiO4', 'LiSnPO4', 'LiVBO4', 'LiFeSiO4', 'LiCoSiO4', 'InPS4', 'Cd(InSe2)2', 'Mn(GaS2)2', 'Cd(GaSe2)2', 'Cd(GaS2)2', 'Al2HgSe4', 'Mn(GaSe2)2', 'Zn(GaS2)2', 'Al2CdS4', 'Ga2HgS4', 'Al2CdSe4', 'Ga2HgSe4', 'Sn(HgSe2)2', 'LiZnPS4', 'Ga2CoS4', 'Zn(GaSe2)2', 'Zn(InSe2)2', 'Al2HgTe4', 'Al2ZnSe4', 'Al2CdTe4', 'In2HgSe4', 'Al2HgS4', 'Al2ZnTe4', 'LiMnPO4', 'LiFePO4', 'Li2FeF4', 'GaCuI4', 'CuPO4', 'Ag2HgI4', 'Ga2HgTe4', 'Zn(GaTe2)2', 'Cd(InTe2)2', 'In2HgTe4', 'Zn(InTe2)2', 'Cd(GaTe2)2', 'LiCuPO4', 'BaLaMgRuO6', 'BaLaZnRuO6', 'LiCaUF8', 'AgH4WS4N', 'Cr2AgBiO8', 'SiO2', 'Li2CaHfF8', 'KZnSb', 'BaLiP', 'BaLiAs', 'SrLiP', 'HoHSe', 'YHSe', 'BN', 'KSrCO3F', 'RbSrCO3F', 'LiPd', 'KZnAs', 'KCaCO3F', 'GaSe', 'GaAg2', 'BaI2', 'K2HfF6', 'BaCl2', 'BaNaP', 'NaSrAs', 'DyInAu', 'BaNaBi', 'Rb2ThF6', 'K2UF6', 'K2ThF6', 'Si2Ni6B', 'SiPd2', 'Ba2SrI6', 'KTe', 'RbTe', 'NaS', 'RbSe', 'RbS', 'KSe', 'KS', 'CaP', 'SrP', 'Na2O2', 'CaHN', 'MgO', 'BeO', 'BN', 'ZnO', 'AlN', 'GaN', 'CdS', 'CuI', 'AlP', 'AlAs', 'GaP', 'SiC', 'CoO', 'CuH', 'SrHfO3', 'TiPbO3', 'CoBiO3', 'VPbO3', 'BaTiO3', 'KNbO3', 'BaTiO3', 'LiBeSb', 'PtO2', 'H2O', 'NbNO', 'Nd2AlNO3', 'ZnS', 'SiC', 'Sr2H5Rh', 'LiCrO2', 'LiFeO2', 'MgO', 'AgI', 'LaN', 'CdTe', 'MgTe', 'KNa2CuO2', 'LiZnSb', 'CaHClO', 'CdHClO', 'BrCl', 'CdBr2', 'KSnSb', 'CdI2', 'KSnAs', 'BiTeCl', 'NaSnP', 'CaZnSO', 'AgI', 'SrHClO', 'LiI', 'InN', 'ZnS', 'CdSe', 'ZnSe', 'GaAs', 'TmCuPb', 'PbI2', 'NaSnN', 'BaYFeCuO5', 'TiZn(BiO3)2', 'TiZn(BiO3)2', 'KRb2ZrOF5', 'K2NaVOF5', 'Cs2KZrOF5', 'KZrTl2OF5', 'Cs2RbZrOF5', 'K2NaTiOF5', 'Cs2ZrTlOF5', 'Ga2TeSe2', 'BaNiO3', 'CaNiO3', 'Na6PbO5', 'TaRhO4', 'TaAlO4', 'TaFeO4', 'TiVO4', 'TaCrO4', 'VRhO4', 'LiVF4', 'TaVO4', 'NbRhO4', 'NbCrO4', 'FeSbO4', 'CdI2', 'SiC', 'PbI2', 'AlPO4', 'H4NF', 'LiBH4', 'CuH4Pb2(ClO2)2', 'WOF4', 'ReNCl4', 'PI3', 'Li4MoO5', 'Li4WO5', 'LiIO3', 'LiIO3', 'NaHS', 'NaHO', 'NaHO', 'ScCuS2', 'NaCNO', 'Li2HN', 'CrHO2', 'FeHO2', 'H3ClO', 'H3BrO', 'Al2O3', 'GeTe', 'BiTeI', 'KHS', 'BiTeBr', 'CaAlSiH', 'BaAlSiH', 'SrAlSiH', 'AlAgS2', 'TmCuSe2', 'ErCuSe2', 'DyCuSe2', 'YCuSe2', 'FeBiO3', 'BaTiO3', 'KNO3', 'KBrO3', 'RbClO3', 'KNbO3', 'RbBrO3', 'TlClO3', 'RbIO3', 'KIO3', 'BaCO3', 'RbTaO3', 'LiVF6', 'ZrCl2', 'MoS2', 'InSe', 'CrAgSe2', 'CrAgS2', 'TlIO3', 'Sb2TeSe2', 'CsBrO3', 'TlBrO3', 'KClO3', 'CsClO3', 'Zn(InS2)2', 'NbS2', 'CrCuSe2', 'AgNO3', 'CsGeCl3', 'Cu3TeS3Cl', 'H6CNF', 'SiC', 'La(NO2)3', 'FeBiO3', 'LiMgH3', 'NaCdF3', 'ZnSnO3', 'CrBiO3', 'AgNO3', 'LiTaO3', 'TiMnO3', 'NaNbO3', 'AlBiO3', 'LiUO3', 'TiFeO3', 'MnSnO3', 'TiNiO3', 'TmBiO3', 'ScBiO3', 'ZrMnO3', 'ErBiO3', 'GaBiO3', 'LiVF3', 'YBiO3', 'LaBiO3', 'LiNbO3', 'Nb3SBr7', 'Nb3TeI7', 'Ga3PO7', 'Fe3PO7', 'Li3MnF7', 'Li3VF7', 'LiFe3O3F4', 'KNa(BH4)2', 'CuI', 'CdI2', 'Li5CoOF5', 'Li5NiOF5', 'Li5MnOF5', 'MgO', 'SmH3(CO2)3', 'NdH3(CO2)3', 'TbH3(CO2)3', 'LaH3(CO2)3', 'TmH3(CO2)3', 'Li6Fe(OF)3', 'Te', 'LiVF6', 'ScF3', 'KNO3', 'RbNO3', 'Ag3SI', 'HgTe', 'Ag3BO3', 'Te', 'CsPbCl3', 'KNiIO6', 'RbGeIO6', 'SrGeTeO6', 'NaNiIO6', 'Na2ThF6', 'SiO2', 'GeO2', 'TiO2', 'BeF2', 'WN2', 'SiO2', 'S', 'GeO2', 'SiO2', 'KBe2BO3F2', 'SiO2', 'RbBe2BO3F2', 'CsBe2BO3F2', 'LiTa2CuO6', 'Lu2(CN2)3', 'Cs2TeO3', 'RbFe(SeO4)2', 'KAl(SO4)2', 'TlNO2', 'CsNO2', 'BaCoO2', 'BaZnO2', 'RbNO2', 'BaMgO2', 'BaAl2B2O7', 'RbTl(SO4)2', 'BaAl2Sb2O7', 'SrAl2B2O7', 'Ag3SI', 'ZnTe', 'HgBr2', 'Rb2O', 'Na2O', 'PNO', 'CrFe(BiO3)2', 'Na3Mo(OF)3', 'NaTi2BiO6', 'Li2CrWO6', 'Mn3TeO6', 'Li2MnWO6', 'CdBiO3', 'CsCd(NO2)3', 'KCd(NO2)3', 'RbCd(NO2)3', 'TlCd(NO2)3', 'HCl', 'BN', 'NaNO2', 'NaO3', 'Li2HN', 'SnO', 'HF', 'HCl', 'CrO3', 'BaTiO3', 'SO2', 'H4IN', 'LiHS', 'LiHO', 'Fe2OF3', 'FeOF', 'LiFe2(ClO)2', 'P3N5', 'CrHO2', 'GaHO2', 'AlHO2', 'FeHO2', 'InHO2', 'AlHO2', 'AlHO2', 'AlHO2', 'YHO2', 'HoHO2', 'DyHO2', 'MnHO2', 'AgNO2', 'HBr', 'VOF2', 'ZrPbO3', 'PbF2', 'CsHO', 'CsH3O2', 'LiCuS', 'SbF3', 'BrF3', 'PbO', 'PNF2', 'RbHF2', 'ScHO2', 'FeHO2', 'LiAgF2', 'NaCuO2', 'NbO2F', 'InCl', 'CdTe', 'Ag2S', 'BaCaI4', 'UCO5', 'Mn(CuCl2)2', 'Li2MnBr4', 'SeBr', 'SBr', 'CrO3', 'Tl3VO4', 'SrS3', 'TlF', 'CrO3', 'SnS', 'PbS', 'HgBr2', 'HgI2', 'NaBiS2', 'GePb3O5', 'Li2VOF5', 'W(ClO)2', 'W(BrO)2', 'W(OF)2', 'CsIO3', 'Pb2O3', 'CsClO3', 'BaCO3', 'B2O3', 'Ge2N2O', 'Si2N2O', 'InGaS3', 'CClF3', 'Na2PtSe2', 'Rb2Se3', 'Cs2Se3', 'Rb2S3', 'Na2PdS2', 'Na2PtS2', 'Na2NiO2', 'K2S3', 'K2Se3', 'GeH3Cl', 'Na2FeO2', 'Al2O3', 'LiFeF3', 'Ge2N2O', 'Cs2Li3F5', 'K3ClO', 'LiMnF3', 'LiFeF3', 'TmBO3', 'SmBO3', 'YBO3', 'ErBO3', 'DyBO3', 'HoBO3', 'Cs3Li2F5', 'Au2O3', 'Ag2O3', 'PtF4', 'PdF4', 'Cu2O3', 'Li3VOF5', 'Ga5(PS)3', 'V2MoO8', 'SeO2', 'LiHS', 'FeOF', 'Hg2TeO3', 'MgH2', 'CoAsS', 'ZrO2', 'GePtSe', 'SbIrS', 'HfO2', 'TaGaO4', 'HgSO4', 'CdSO4', 'HgSeO4', 'Fe2OF3', 'ZnSeO4', 'CdSeO4', 'Br2O', 'SiO2', 'ZnCl2', 'CdP2', 'SbOF', 'WN2', 'Rb2CoO3', 'Na2GeO3', 'Mg2PN3', 'BaMgF4', 'NaSi2N3', 'Li2SiO3', 'Na2SiO3', 'SiCu2S3', 'BaZnF4', 'BaNiF4', 'Rb2PbO3', 'K2PbO3', 'LaTaO4', 'Cs2PbO3', 'BaMnF4', 'BrF5', 'LiSi2N3', 'NaGe2N3', 'Li2GeO3', 'BaCoF4', 'RbH3O2', 'PH2F3', 'H2O', 'SrMgH4', 'EuMgH4', 'Na2VO3', 'Rb2SnO3', 'Li2CrO3', 'Rb2ZrO3', 'TaAsO4', 'Cs2CeO3', 'SmTaO4', 'TmTaO4', 'Ag5P(S2Cl)2', 'Fe4O3F5', 'SiO2', 'FeOF', 'Fe4O3F5', 'V4O3F5', 'SiO2', 'Cs2Al2As2O7', 'PNO', 'HBr', 'PHN2', 'BPS4', 'BaAg2SnS4', 'BaAg2SnSe4', 'FeP4', 'LiSi2NiO6', 'LiFe(SiO3)2', 'LiCu(PO3)2', 'Li2Fe2SiO6', 'AlPS4', 'TeO2', 'SnF2', 'SiCl2', 'GeF2', 'TeO2', 'NOF', 'Ag2Se', 'CsHO', 'VOF', 'SiO2', 'SiO2', 'GaPO4', 'AlPO4', 'H2O', 'Li3VF8', 'LiY3WO8', 'H3BrO', 'NaHO', 'CuI', 'KPH2SO3', 'LiVF6', 'LiCuO2', 'LiMnO2', 'Cd(HO)2', 'LiMnOF2', 'Li5VO4F', 'TaAsO4', 'Li2FeO2F', 'Ni(HO)2', 'Ni(HO)2', 'Cd(HO)2', 'Co(HO)2', 'Mg(HO)2', 'Mn(HO)2', 'Ca(HO)2', 'Fe(HO)2', 'Ni(HO)2', 'Ca(HO)2', 'NaHO', 'RbHO', 'KHO', 'NdHO2', 'CdCl2', 'LiAgF2', 'OsO4', 'Ni(HO)2', 'Ag2S', 'Ag2S', 'K2O', 'NbBiO4', 'BaCuB2O5', 'LiBiB2O5', 'Ni(PS3)2', 'LiMn2F6', 'Ag3SI', 'BaCO3', 'VOF3', 'Bi(BO2)3', 'MnP2O7', 'LiVO3', 'VOF3', 'LiFeAs2O7', 'NaScAs2O7', 'LiGaAs2O7', 'LiAlAs2O7', 'LiScAs2O7', 'LiFeP2O7', 'LiMoP2O7', 'LiCrP2O7', 'LiMnP2O7', 'LiP2WO7', 'LiBiP2O7', 'Li5CrO5', 'Na5SbO5', 'Hf3SnO8', 'NaV(OF)2', 'AlPO4', 'CsAsF4', 'SiO2', 'LiVOF3', 'MnCoO4', 'LiV(OF)2', 'LiVF4', 'SiO2', 'SiO2', 'Li2VO2F', 'Li4VF8', 'LiY3WO8', 'Li4MnF8', 'BeAlH5', 'KPrSiSe4', 'Mn(HO)2', 'Co(HO)2', 'TlNO2', 'VCuO3', 'Ag3SI', 'Ag3AuS2', 'KBF4', 'LiSbS', 'BiPbF5', 'RbBe2F5', 'Li2AgF5', 'V2OF5', 'Ca2PI', 'Sr(AsS2)2', 'Si4P4Ru', 'Fe(SiP)4', 'Ag2S', 'LiV2(OF)3', 'V2NiO6', 'Pr3NF6', 'KNO3', 'BaLaZnRuO6', 'Cd(HO)2', 'KBi2F7', 'Ba2PrF7', 'LiV2CoO6', 'LiNi3OF5', 'LiV3O5F', 'LiV3(O2F)2', 'LiMn3(O2F)2', 'Li2V2OF5', 'LiCo3OF5', 'CoCuP2O7', 'K2PdN2(ClO2)2', 'LiCo2(BO3)2', 'LiMn2(BO3)2', 'Li3V2O6', 'CuBi(WO4)2', 'Si3P2Pt', 'SiO2', 'SiO2', 'H2S', 'SiO2', 'LiCo(WO4)2', 'Li2MnO2F', 'LiMn3(OF3)2', 'LiFe3(OF3)2', 'Ti3TeO8', 'Li2MnFe(BO3)2', 'Te(HO)6', 'Te(HO)6', 'K4MoO8', 'Li5(CoO3)2', 'LiMn2(PO4)2', 'LiFe2(PO4)2', 'Li3MnSi2O7']\n"
     ]
    }
   ],
   "source": [
    "print(material_formula)"
   ]
  },
  {
   "cell_type": "code",
   "execution_count": 4,
   "id": "3a955577-2037-4ab3-9a6f-4be7dee302df",
   "metadata": {},
   "outputs": [],
   "source": [
    "material_eij = []\n",
    "for i in range(len(json_list)):\n",
    "    material_eij.append(json_list[i]['eij_max'])"
   ]
  },
  {
   "cell_type": "code",
   "execution_count": 5,
   "id": "ba11235b-270d-4807-8687-cee8b4fe9795",
   "metadata": {},
   "outputs": [
    {
     "name": "stdout",
     "output_type": "stream",
     "text": [
      "[0.091464, 0.004848, 0.517745, 0.030692, 0.068884, 0.378684, 0.032961, 0.06908, 0.074259, 0.078345, 0.012228, 0.19127, 0.193647, 0.141287, 0.114685, 0.089395, 0.056721, 0.30995, 0.083797, 0.179525, 0.285852, 0.042499, 0.117793, 0.044071, 0.027774, 0.110072, 0.057048, 0.000358, 0.097226, 0.120108, 0.14651, 0.283006, 0.422794, 0.134952, 0.837337, 1.338533, 0.293646, 0.164743, 0.074347, 0.651209, 0.136235, 0.154928, 0.408312, 0.159374, 0.19552, 0.163571, 0.038963, 0.18297, 0.398655, 0.015918, 0.067619, 1.238672, 0.395647, 0.670725, 0.29222, 0.200779, 0.203926, 0.15895, 2.125692, 0.199215, 0.091743, 0.166302, 0.063584, 0.232449, 0.092503, 0.282732, 0.558571, 0.752663, 0.565228, 0.09783, 0.488148, 0.541179, 0.23661, 0.517976, 0.328091, 0.119379, 6e-06, 0.046294, 0.070637, 0.049192, 0.019166, 0.117523, 0.06407, 0.112676, 0.07509, 0.196767, 0.175655, 0.062311, 0.019089, 0.752108, 0.772535, 0.000537, 0.093721, 0.024235, 0.00199, 0.036481, 0.003043, 0.003006, 0.040873, 0.015419, 0.03022, 0.276324, 0.531482, 0.459594, 0.037389, 0.392544, 0.217369, 0.238834, 0.229499, 0.171565, 0.113105, 0.004311, 0.266463, 0.199157, 0.085779, 0.114664, 0.177716, 0.066109, 0.009161, 0.021195, 0.720943, 0.094114, 0.583697, 0.275469, 0.16211, 0.65927, 0.614064, 0.168811, 0.032695, 0.135493, 0.068572, 0.029855, 0.072625, 1.336073, 0.335908, 0.006795, 0.354782, 0.071135, 0.185197, 0.117362, 0.03639, 0.217765, 0.044229, 0.020398, 0.028027, 0.269118, 0.233298, 0.224297, 0.477234, 0.543962, 0.394263, 0.223767, 0.076628, 0.191827, 0.405113, 0.048555, 0.208291, 0.803421, 0.123405, 0.286851, 0.501121, 0.237345, 0.241234, 0.030575, 0.000581, 0.091564, 0.085792, 0.104115, 0.097643, 0.008254, 0.028623, 0.008647, 0.041155, 0.084638, 0.044448, 0.029214, 0.008397, 0.027734, 0.166425, 0.18296, 0.191203, 0.18496, 0.002483, 0.135317, 0.07648, 0.095551, 0.10456, 0.501544, 1.483453, 0.376736, 0.061492, 0.022913, 0.008608, 0.047127, 0.049639, 0.031891, 1.646216, 0.022686, 0.050728, 0.047237, 0.228486, 0.072507, 1.21272, 0.021256, 0.175924, 0.024283, 0.029197, 0.124958, 0.008008, 0.032865, 0.081795, 0.117779, 0.259998, 0.091389, 0.247722, 0.084235, 0.275958, 0.039997, 0.07233, 0.080219, 0.126842, 0.086098, 0.254055, 0.012182, 0.014911, 0.015662, 0.145808, 0.024847, 0.01918, 0.076711, 0.057571, 0.008214, 0.021289, 0.075421, 0.439262, 0.002887, 0.374775, 0.029707, 0.022218, 1.120883, 0.210325, 0.325681, 0.143989, 0.140254, 0.394117, 0.058268, 0.013508, 0.155476, 0.042097, 0.214414, 0.108117, 0.157919, 0.01926, 0.186009, 0.150988, 0.150166, 0.150473, 0.189043, 0.138035, 0.234528, 0.22199, 0.219852, 0.242328, 0.236009, 0.184843, 0.150095, 0.068301, 0.086248, 0.048602, 0.049385, 0.088818, 0.113456, 0.031036, 0.043856, 0.132069, 0.138789, 0.086795, 0.07749, 0.125737, 0.035061, 0.077081, 0.026644, 0.076914, 0.062831, 0.042905, 0.050632, 0.096115, 0.172727, 0.030024, 0.213711, 0.196928, 0.172302, 0.020387, 0.199557, 0.089257, 0.043711, 0.037002, 0.06697, 0.068256, 0.061121, 0.039887, 0.183785, 0.484918, 0.336214, 0.065008, 0.028855, 1.064162, 0.068373, 0.036143, 0.21684, 0.387163, 0.35139, 0.62025, 0.34869, 0.32817, 0.402833, 0.354053, 0.093787, 0.66598, 0.198063, 0.337677, 0.19825, 0.005913, 0.667693, 0.244087, 0.63488, 0.021027, 0.149057, 0.034997, 0.089587, 0.215767, 0.287367, 0.264137, 1.517583, 1.7387, 0.565087, 0.01992, 0.022743, 0.057167, 0.045237, 0.070203, 0.041263, 0.06653, 0.098313, 0.11415, 0.191913, 0.344731, 2.25674, 0.19632, 1.09478, 1.03681, 1.46115, 0.46451, 0.33356, 0.0983, 0.10089, 0.01928, 0.27398, 0.27594, 0.82715, 0.3223, 8.72945, 2.876113, 2.579045, 2.0466, 3.48733, 3.25783, 3.4477, 0.69881, 0.01397, 0.57821, 2.987247, 1.98414, 0.07275, 0.06233, 0.35042, 0.765324, 0.732927, 1.1669, 0.19526, 1.78562, 0.025266, 0.22304, 0.36441, 0.5411, 0.87603, 0.85945, 2.25966, 0.00131, 0.133188, 0.00612, 0.213373, 0.18281, 0.29939, 0.510689, 0.100127, 0.46589, 0.17284, 2.158723, 0.08771, 0.15706, 0.0587, 0.50648, 0.48507, 0.002024, 0.42521, 2.49392, 1.6781, 1.751137, 0.389381, 0.52847, 0.12394, 0.844677, 0.11868, 0.58772, 0.327353, 0.045751, 27.4628, 0.07622, 2.74012, 0.6507, 1.03034, 0.91195, 2.90685, 0.43279, 2.502636, 0.033638, 0.10515, 0.79732, 0.967463, 0.13945, 0.002258, 0.03525, 0.004737, 0.36332, 0.08069, 0.07801, 0.070602, 2.89625, 0.38161, 0.054052, 2.27252, 6.52334, 0.963214, 0.955902, 0.285696, 1.05861, 1.058611, 0.556781, 0.187744, 0.82297, 4.23353, 0.92595, 0.156802, 0.135593, 0.179883, 2.134628, 0.275163, 0.129185, 0.29413, 1.04529, 0.33052, 0.66826, 1.599, 0.369136, 0.385767, 0.3836, 0.366078, 2.862757, 3.812244, 0.22158, 0.6837, 0.44003, 4.653448, 0.61957, 0.63726, 0.95213, 1.35995, 0.44322, 8.92597, 0.416915, 0.118515, 0.515565, 0.094153, 0.193474, 0.591104, 1.55078, 0.849504, 0.3351, 0.72935, 0.43672, 0.33777, 1.12355, 0.40749, 0.145057, 0.211931, 0.49535, 0.11837, 0.154834, 0.090904, 0.113773, 3.133435, 0.23706, 0.24241, 0.580169, 2.49227, 0.59573, 2.947115, 3.21567, 4.049288, 4.11937, 2.01461, 2.541761, 0.47956, 2.326601, 4.582136, 3.377523, 0.631467, 3.472726, 3.050819, 0.787095, 4.208699, 3.806018, 3.416243, 0.15005, 0.23432, 0.799294, 0.944385, 0.274334, 0.272337, 0.8897, 0.16442, 0.01316, 0.003758, 0.86183, 0.73585, 1.05881, 1.34607, 0.20773, 0.23377, 0.32589, 0.26565, 0.28337, 0.586806, 1.23232, 0.122505, 0.11791, 0.124015, 0.129065, 0.28736, 0.57447, 0.138375, 1.185505, 0.23539, 0.17585, 0.00461, 0.06176, 0.19725, 0.16502, 0.13685, 0.16245, 0.05735, 0.066455, 0.107765, 0.137425, 0.005205, 0.17605, 0.144775, 0.00761, 0.004145, 0.00916, 0.01985, 1.671605, 0.093035, 0.56803, 0.025005, 0.111415, 0.231725, 0.027495, 0.6025, 0.694305, 0.00657, 0.586155, 0.27324, 0.352575, 0.190415, 0.32447, 0.150167, 0.14477, 0.02177, 0.005903, 9.61902, 0.254865, 2.77096, 0.5586, 4.66601, 2.56954, 0.96662, 2.16736, 0.602898, 0.111067, 0.39726, 0.186248, 0.4335, 0.17073, 0.48243, 0.074681, 0.3671, 0.41231, 0.59306, 1.92677, 0.21289, 0.944885, 3.43676, 0.266929, 0.25167, 0.17875, 0.76021, 0.39826, 0.633904, 0.170526, 0.502873, 0.734471, 1.84833, 1.837347, 1.29627, 0.94965, 0.47139, 0.44775, 0.42046, 1.00393, 0.96266, 1.01787, 0.507498, 0.28345, 0.22968, 4.90296, 2.19649, 1.32601, 0.239176, 0.55201, 1.777057, 0.53254, 1.05624, 0.99145, 0.22549, 0.10769, 0.48522, 0.4681, 0.3951, 0.83295, 3.72691, 1.26802, 0.005838, 0.061786, 0.13838, 0.35024, 0.753828, 4.25368, 0.215996, 1.5e-05, 0.82744, 0.412344, 1.03735, 1.96014, 0.88498, 1.82147, 4.34366, 0.03102, 0.08206, 8.682324, 0.456221, 1.880727, 5.71508, 7.42786, 5.78427, 0.57882, 1.3869, 0.08524, 0.770228, 0.79605, 0.225446, 0.24806, 0.2168, 0.150921, 0.18078, 0.207767, 0.107071, 0.08932, 0.031072, 0.12709, 0.13412, 0.113028, 0.329346, 0.20037, 0.167882, 0.331092, 0.738442, 0.45175, 0.05599, 1.04985, 0.26488, 2.2e-05, 1.67838, 0.93787, 1.16617, 1.26136, 1.17079, 1.26116, 1.31882, 0.305898, 0.252598, 0.39041, 0.43152, 0.413939, 0.498283, 0.200762, 1.95064, 0.530918, 0.150376, 0.90401, 0.55618, 1.39791, 0.116366, 1.235111, 0.199077, 0.090926, 1.218718, 0.780299, 0.2755, 0.89949, 0.57127, 0.477004, 0.406796, 0.84891, 0.57053, 0.17468, 0.10249, 0.018233, 1.17495, 0.12552, 0.795342, 0.90224, 2.48109, 0.586922, 0.2824, 1.18405, 0.54049, 0.143039, 0.62192, 0.53073, 1.07944, 0.446619, 2.21809, 0.641632, 0.48493, 0.23013, 0.77927, 0.42379, 0.96836, 0.677717, 0.22484, 0.31771, 0.27257, 0.72092, 0.16067, 1.15122, 0.74877, 1.41724, 0.49742, 1.17897, 0.430713, 1.90961, 1.291, 0.567763, 0.477157, 1e-05, 1.26666, 0.376974, 2.629036, 0.14902, 0.352282, 0.093334, 0.469832, 0.197379, 0.010746, 0.021177, 0.00562, 0.041954, 0.117146, 0.064201, 0.251084, 0.128686, 0.000856, 0.031943, 0.005985, 0.004906, 0.020608, 0.122008, 0.002017, 0.023581, 0.704325, 0.053349, 0.129867, 0.557949, 0.527565, 0.57023, 0.015964, 0.050568, 0.1118, 0.164928, 1.564626, 0.073475, 0.350053, 2.07248, 0.817401, 2.34136, 0.875906, 0.211352, 0.454212, 1.195054, 0.697296, 0.96021, 0.46464, 0.775685, 0.71631, 0.84906, 1.024427, 0.83534, 0.716358, 0.09956, 0.98301, 0.431958, 0.090306, 0.134856, 0.469331, 0.2973, 0.11844, 0.054636, 0.24996, 0.40547, 0.734234, 1.028376, 1.822829, 0.39419, 3.039611, 0.0933, 0.48645, 0.64589, 0.28204, 1.056037, 0.750674, 1.05362, 1.46602, 0.213379, 1.749669, 0.678155, 0.59436, 0.631698, 0.29635, 0.551672, 0.20007, 0.559921, 0.210374, 0.113528, 1.237953, 1.30352, 0.12174, 0.146608, 3.02301, 0.17115, 0.141374, 0.041132, 0.407263, 0.000166, 1.08682, 0.13847, 0.13758, 0.07615, 0.15939, 0.47818, 0.2208, 0.150697, 0.03488, 0.43468, 0.960304, 3.921181, 3.385664, 0.846861, 0.593046, 0.352651, 0.192983, 0.104828, 2.929233, 0.157238, 0.754805, 0.652668, 0.409463, 2.426426, 0.17626, 0.171771, 1.109733, 0.708495, 1.716598, 46.192855, 0.098665, 1.430472, 0.523915, 12.916294, 2.072499, 3.542281, 3.304937, 5.07089, 3.778991, 1.643289, 1.103232, 11.835329, 0.912857, 0.101974, 0.490413, 0.380107, 0.485098, 0.047843, 0.432661, 0.131998, 0.06027, 0.22313, 30.542384, 1.086772, 0.541667, 0.248395, 0.145819, 0.449849, 0.291658, 0.154989, 0.23022, 1.440424, 0.270014, 0.566652, 0.472229, 0.614441]\n"
     ]
    }
   ],
   "source": [
    "print(material_eij)"
   ]
  },
  {
   "cell_type": "code",
   "execution_count": 6,
   "id": "14bd992e-ccb6-430d-8a23-9b76d8bd0586",
   "metadata": {},
   "outputs": [],
   "source": [
    "material_index = []\n",
    "for i in range(len(json_list)):\n",
    "    material_index.append(json_list[i]['meta']['material_id'])"
   ]
  },
  {
   "cell_type": "code",
   "execution_count": 7,
   "id": "9bb43e4f-6aaa-48ce-9168-86cd4d7329e2",
   "metadata": {},
   "outputs": [
    {
     "name": "stdout",
     "output_type": "stream",
     "text": [
      "['mp-22925', 'mp-406', 'mp-1639', 'mp-10695', 'mp-2176', 'mp-1986', 'mp-1190', 'mp-1778', 'mp-830', 'mp-22895', 'mp-1479', 'mp-24864', 'mp-13032', 'mp-13031', 'mp-2469', 'mp-13033', 'mp-2624', 'mp-22914', 'mp-8062', 'mp-22913', 'mp-1700', 'mp-2691', 'mp-2490', 'mp-2172', 'mp-10044', 'mp-422', 'mp-20351', 'mp-1550', 'mp-252', 'mp-1541', 'mp-866291', 'mp-3161', 'mp-9124', 'mp-4174', 'mp-505297', 'mp-9437', 'mp-7575', 'mp-3716', 'mp-3432', 'mp-5967', 'mp-10623', 'mp-4510', 'mp-22786', 'mp-4025', 'mp-11839', 'mp-11836', 'mp-11869', 'mp-569779', 'mp-10182', 'mp-570213', 'mp-12558', 'mp-31455', 'mp-31451', 'mp-31454', 'mp-16314', 'mp-16327', 'mp-16329', 'mp-7173', 'mp-567636', 'mp-16376', 'mp-567422', 'mp-568269', 'mp-11390', 'mp-11520', 'mp-30847', 'mp-19886', 'mp-35208', 'mp-35555', 'mp-36033', 'mp-36111', 'mp-36526', 'mp-37381', 'mp-37906', 'mp-38194', 'mp-15988', 'mp-567347', 'mp-672234', 'mp-1818', 'mp-9816', 'mp-546633', 'mp-550759', 'mp-30530', 'mp-1220', 'mp-34337', 'mp-36248', 'mp-570744', 'mp-570377', 'mp-3762', 'mp-4043', 'mp-189', 'mp-2488', 'mp-154', 'mp-21855', 'mp-10748', 'mp-5621', 'mp-4081', 'mp-850275', 'mp-755309', 'mp-760375', 'mp-571436', 'mp-546711', 'mp-545756', 'mp-22229', 'mp-8703', 'mp-9295', 'mp-9911', 'mp-10644', 'mp-5513', 'mp-7562', 'mp-2534', 'mp-21272', 'mp-924129', 'mp-4964', 'mp-2894', 'mp-924128', 'mp-30452', 'mp-30460', 'mp-569197', 'mp-30459', 'mp-16238', 'mp-12411', 'mp-35841', 'mp-30578', 'mp-569600', 'mp-561689', 'mp-871', 'mp-20866', 'mp-39288', 'mp-40189', 'mp-40251', 'mp-41283', 'mp-41219', 'mp-41414', 'mp-21199', 'mp-3519', 'mp-8630', 'mp-7787', 'mp-16363', 'mp-756361', 'mp-554769', 'mp-27608', 'mp-759877', 'mp-546794', 'mp-7583', 'mp-38103', 'mp-763348', 'mp-550433', 'mp-3524', 'mp-7610', 'mp-7611', 'mp-10572', 'mp-14232', 'mp-15704', 'mp-15703', 'mp-15701', 'mp-22993', 'mp-239', 'mp-7801', 'mp-2961', 'mp-761325', 'mp-758604', 'mp-765904', 'mp-764642', 'mp-22909', 'mp-7582', 'mp-568661', 'mp-568598', 'mp-570256', 'mp-568032', 'mp-8976', 'mp-557373', 'mp-35539', 'mp-675748', 'mp-34169', 'mp-34467', 'mp-753195', 'mp-867695', 'mp-4586', 'mp-12902', 'mp-12903', 'mp-3551', 'mp-4024', 'mp-12954', 'mp-5782', 'mp-4979', 'mp-14091', 'mp-5342', 'mp-19412', 'mp-510657', 'mp-8311', 'mp-3595', 'mp-5238', 'mp-3668', 'mp-4666', 'mp-20187', 'mp-4763', 'mp-19896', 'mp-629443', 'mp-4524', 'mp-4175', 'mp-19052', 'mp-12532', 'mp-19414', 'mp-6408', 'mp-12904', 'mp-8016', 'mp-7394', 'mp-7548', 'mp-3078', 'mp-12015', 'mp-34903', 'mp-9490', 'mp-19140', 'mp-34293', 'mp-639402', 'mp-760415', 'mp-764673', 'mp-10074', 'mp-23353', 'mp-35777', 'mp-19722', 'mp-568968', 'mp-638590', 'mp-20782', 'mp-5048', 'mp-22261', 'mp-19833', 'mp-14092', 'mp-8017', 'mp-3839', 'mp-5518', 'mp-5213', 'mp-4899', 'mp-29091', 'mp-559146', 'mp-867699', 'mp-615152', 'mp-28020', 'mp-29362', 'mp-27888', 'mp-18876', 'mp-4690', 'mp-9808', 'mp-5461', 'mp-14175', 'mp-561942', 'mp-42264', 'mp-3589', 'mp-5046', 'mp-3277', 'mp-7849', 'mp-7848', 'mp-778780', 'mp-8873', 'mp-8874', 'mp-677335', 'mp-764338', 'mp-761486', 'mp-762018', 'mp-763098', 'mp-765875', 'mp-767069', 'mp-753654', 'mp-770986', 'mp-762631', 'mp-762221', 'mp-20790', 'mp-22304', 'mp-20025', 'mp-3772', 'mp-4452', 'mp-3038', 'mp-20261', 'mp-5350', 'mp-5928', 'mp-4809', 'mp-3159', 'mp-4730', 'mp-10955', 'mp-11175', 'mp-4152', 'mp-15776', 'mp-22607', 'mp-7910', 'mp-7907', 'mp-7909', 'mp-20731', 'mp-7906', 'mp-7908', 'mp-765859', 'mp-772012', 'mp-777130', 'mp-29403', 'mp-540284', 'mp-23485', 'mp-16337', 'mp-15777', 'mp-21374', 'mp-19765', 'mp-20832', 'mp-13949', 'mp-26477', 'mp-39249', 'mp-677191', 'mp-632402', 'mp-643431', 'mp-565669', 'mp-554151', 'mp-16577', 'mp-10161', 'mp-10615', 'mp-10616', 'mp-10614', 'mp-24012', 'mp-28797', 'mp-604884', 'mp-865427', 'mp-867261', 'mp-2744', 'mp-15687', 'mp-6867', 'mp-1572', 'mp-578', 'mp-568536', 'mp-8415', 'mp-567680', 'mp-9732', 'mp-9775', 'mp-22177', 'mp-31235', 'mp-13978', 'mp-4731', 'mp-14193', 'mp-4720', 'mp-697068', 'mp-760418', 'mp-1554', 'mp-9064', 'mp-409', 'mp-9063', 'mp-9062', 'mp-9268', 'mp-1287', 'mp-1345', 'mp-7931', 'mp-2340', 'mp-34932', 'mp-549706', 'mp-2542', 'mp-2653', 'mp-2133', 'mp-661', 'mp-804', 'mp-672', 'mp-569346', 'mp-8880', 'mp-8881', 'mp-8882', 'mp-7140', 'mp-19128', 'mp-24093', 'mp-13108', 'mp-20459', 'mp-557739', 'mp-25119', 'mp-5986', 'mp-4342', 'mp-12992', 'mp-9575', 'mp-7868', 'mp-32959', 'mp-752463', 'mp-546679', 'mp-10281', 'mp-11714', 'mp-35152', 'mp-766115', 'mp-774101', 'mp-776911', 'mp-22894', 'mp-567290', 'mp-12779', 'mp-1039', 'mp-545359', 'mp-9919', 'mp-642725', 'mp-644222', 'mp-864928', 'mp-27934', 'mp-3486', 'mp-28248', 'mp-3481', 'mp-28944', 'mp-29529', 'mp-7204', 'mp-580941', 'mp-24066', 'mp-570935', 'mp-22205', 'mp-560588', 'mp-1070', 'mp-380', 'mp-8883', 'mp-20663', 'mp-567503', 'mp-12433', 'mp-505589', 'mp-550469', 'mp-550998', 'mp-39542', 'mp-690635', 'mp-40143', 'mp-40204', 'mp-42022', 'mp-42190', 'mp-42227', 'mp-28423', 'mp-19241', 'mp-770252', 'mp-563025', 'mp-760402', 'mp-760396', 'mp-761390', 'mp-761341', 'mp-766842', 'mp-774003', 'mp-776939', 'mp-772246', 'mp-756638', 'mp-765437', 'mp-765436', 'mp-569994', 'mp-7631', 'mp-567542', 'mp-545974', 'mp-23794', 'mp-644223', 'mp-643378', 'mp-765135', 'mp-568100', 'mp-27529', 'mp-699343', 'mp-690542', 'mp-22955', 'mp-613442', 'mp-36582', 'mp-625051', 'mp-625052', 'mp-6980', 'mp-546500', 'mp-35695', 'mp-24927', 'mp-774147', 'mp-34078', 'mp-625509', 'mp-755483', 'mp-938', 'mp-22965', 'mp-38011', 'mp-33723', 'mp-568177', 'mp-571093', 'mp-570485', 'mp-7885', 'mp-36209', 'mp-675180', 'mp-675349', 'mp-675902', 'mp-24942', 'mp-5020', 'mp-6920', 'mp-22958', 'mp-23011', 'mp-7375', 'mp-28872', 'mp-29738', 'mp-27193', 'mp-552729', 'mp-4559', 'mp-755018', 'mp-766864', 'mp-23162', 'mp-1434', 'mp-22691', 'mp-3532', 'mp-4182', 'mp-22981', 'mp-8612', 'mp-28873', 'mp-29798', 'mp-550506', 'mp-760386', 'mp-22253', 'mp-966', 'mp-568587', 'mp-8196', 'mp-22988', 'mp-557510', 'mp-554051', 'mp-568619', 'mp-30925', 'mp-24932', 'mp-23736', 'mp-4360', 'mp-13334', 'mp-557515', 'mp-552185', 'mp-3666', 'mp-19376', 'mp-4514', 'mp-551918', 'mp-8007', 'mp-19270', 'mp-691106', 'mp-853130', 'mp-754323', 'mp-754009', 'mp-779948', 'mp-754943', 'mp-755568', 'mp-764698', 'mp-768221', 'mp-768310', 'mp-3731', 'mp-29057', 'mp-567713', 'mp-3107', 'mp-18775', 'mp-765198', 'mp-765182', 'mp-849524', 'mp-571414', 'mp-570136', 'mp-680111', 'mp-853165', 'mp-765877', 'mp-764320', 'mp-775808', 'mp-23771', 'mp-23837', 'mp-642991', 'mp-642729', 'mp-642999', 'mp-780876', 'mp-567313', 'mp-766917', 'mp-559092', 'mp-676851', 'mp-752446', 'mp-676561', 'mp-358', 'mp-27816', 'mp-19', 'mp-675022', 'mp-557733', 'mp-549697', 'mp-10341', 'mp-561926', 'mp-4829', 'mp-7000', 'mp-733', 'mp-553432', 'mp-15951', 'mp-754629', 'mp-6930', 'mp-555760', 'mp-223', 'mp-549166', 'mp-6870', 'mp-546546', 'mp-7323', 'mp-553342', 'mp-755367', 'mp-568116', 'mp-614803', 'mp-24948', 'mp-669367', 'mp-4453', 'mp-3288', 'mp-19086', 'mp-4236', 'mp-752580', 'mp-756018', 'mp-9844', 'mp-556120', 'mp-12885', 'mp-15939', 'mp-22995', 'mp-571195', 'mp-571558', 'mp-776922', 'mp-776952', 'mp-38975', 'mp-559001', 'mp-18753', 'mp-39681', 'mp-774149', 'mp-770690', 'mp-776740', 'mp-755478', 'mp-6628', 'mp-11017', 'mp-11016', 'mp-11018', 'mp-684609', 'mp-685145', 'mp-2964', 'mp-22464', 'mp-34465', 'mp-545552', 'mp-632296', 'mp-632326', 'mp-776563', 'mp-5777', 'mp-27726', 'mp-34381', 'mp-644271', 'mp-625998', 'mp-764716', 'mp-763136', 'mp-771637', 'mp-1954', 'mp-25503', 'mp-23803', 'mp-23807', 'mp-542980', 'mp-504535', 'mp-625054', 'mp-625056', 'mp-626902', 'mp-754117', 'mp-755543', 'mp-777422', 'mp-626075', 'mp-5770', 'mp-632229', 'mp-764312', 'mp-20337', 'mp-685150', 'mp-625136', 'mp-626417', 'mp-867689', 'mp-1880', 'mp-23297', 'mp-550714', 'mp-560008', 'mp-677103', 'mp-625150', 'mp-626102', 'mp-753277', 'mp-754718', 'mp-752415', 'mp-571636', 'mp-685146', 'mp-32669', 'mp-753775', 'mp-29761', 'mp-675163', 'mp-675475', 'mp-570589', 'mp-28099', 'mp-510421', 'mp-32479', 'mp-1175', 'mp-558134', 'mp-561804', 'mp-8781', 'mp-20526', 'mp-23292', 'mp-23173', 'mp-675531', 'mp-562283', 'mp-765525', 'mp-32539', 'mp-774146', 'mp-765254', 'mp-28295', 'mp-754071', 'mp-754202', 'mp-675324', 'mp-717', 'mp-4187', 'mp-4497', 'mp-19885', 'mp-28473', 'mp-14588', 'mp-7447', 'mp-7449', 'mp-7446', 'mp-10223', 'mp-10246', 'mp-18765', 'mp-7667', 'mp-7670', 'mp-28369', 'mp-849318', 'mp-754401', 'mp-777522', 'mp-867745', 'mp-560088', 'mp-673798', 'mp-778819', 'mp-777672', 'mp-760484', 'mp-760477', 'mp-760457', 'mp-760405', 'mp-753318', 'mp-753056', 'mp-558728', 'mp-27253', 'mp-546190', 'mp-8943', 'mp-13868', 'mp-760432', 'mp-764697', 'mp-676038', 'mp-561475', 'mp-560882', 'mp-644419', 'mp-763095', 'mp-29510', 'mp-569051', 'mp-4627', 'mp-556605', 'mp-20817', 'mp-9270', 'mp-685097', 'mp-753378', 'mp-3228', 'mp-5679', 'mp-10796', 'mp-763052', 'mp-769365', 'mp-772052', 'mp-28460', 'mp-554089', 'mp-22889', 'mp-402', 'mp-753539', 'mp-754628', 'mp-761568', 'mp-5784', 'mp-3933', 'mp-14568', 'mp-8973', 'mp-5012', 'mp-4533', 'mp-9248', 'mp-3881', 'mp-555321', 'mp-21489', 'mp-22756', 'mp-3998', 'mp-21521', 'mp-556850', 'mp-27987', 'mp-5853', 'mp-14433', 'mp-15349', 'mp-557291', 'mp-28264', 'mp-29515', 'mp-697111', 'mp-643009', 'mp-643756', 'mp-853167', 'mp-753798', 'mp-770149', 'mp-756156', 'mp-756401', 'mp-768223', 'mp-768230', 'mp-768176', 'mp-559847', 'mp-764943', 'mp-554573', 'mp-780753', 'mp-764829', 'mp-781958', 'mp-555251', 'mp-554206', 'mp-753671', 'mp-32684', 'mp-35220', 'mp-27724', 'mp-555166', 'mp-569114', 'mp-568328', 'mp-765444', 'mp-765849', 'mp-752930', 'mp-766964', 'mp-27462', 'mp-561224', 'mp-7456', 'mp-29174', 'mp-7595', 'mp-8377', 'mp-29966', 'mp-754954', 'mp-642682', 'mp-767367', 'mp-7648', 'mp-557118', 'mp-553932', 'mp-4051', 'mp-634812', 'mp-766949', 'mp-764425', 'mp-625521', 'mp-625996', 'mp-673245', 'mp-643033', 'mp-766909', 'mp-773044', 'mp-775531', 'mp-28508', 'mp-765334', 'mp-765359', 'mp-754840', 'mp-849459', 'mp-625081', 'mp-625074', 'mp-625565', 'mp-625953', 'mp-626143', 'mp-626701', 'mp-626644', 'mp-626689', 'mp-626881', 'mp-626878', 'mp-626000', 'mp-626721', 'mp-626716', 'mp-625359', 'mp-632403', 'mp-752767', 'mp-551905', 'mp-626843', 'mp-31053', 'mp-560025', 'mp-776081', 'mp-863076', 'mp-551135', 'mp-755256', 'mp-769218', 'mp-763784', 'mp-675879', 'mp-762225', 'mp-781081', 'mp-23349', 'mp-31935', 'mp-763200', 'mp-764285', 'mp-18878', 'mp-550925', 'mp-545346', 'mp-547017', 'mp-552663', 'mp-31785', 'mp-32057', 'mp-31649', 'mp-31928', 'mp-763498', 'mp-759568', 'mp-770603', 'mp-759876', 'mp-761842', 'mp-18953', 'mp-5724', 'mp-5707', 'mp-555891', 'mp-765230', 'mp-771797', 'mp-766149', 'mp-764895', 'mp-556553', 'mp-557134', 'mp-777778', 'mp-766941', 'mp-773224', 'mp-766801', 'mp-23719', 'mp-13538', 'mp-625717', 'mp-626708', 'mp-676400', 'mp-614005', 'mp-632480', 'mp-34982', 'mp-676049', 'mp-756006', 'mp-35795', 'mp-696736', 'mp-753316', 'mp-764744', 'mp-635393', 'mp-36577', 'mp-14983', 'mp-9198', 'mp-32868', 'mp-782714', 'mp-775985', 'mp-33319', 'mp-675625', 'mp-39259', 'mp-625094', 'mp-675634', 'mp-676002', 'mp-761801', 'mp-765553', 'mp-765532', 'mp-765867', 'mp-767123', 'mp-765272', 'mp-764144', 'mp-505200', 'mp-613733', 'mp-763318', 'mp-763323', 'mp-762268', 'mp-565192', 'mp-29157', 'mp-556985', 'mp-556994', 'mp-33024', 'mp-557873', 'mp-25483', 'mp-767044', 'mp-767186', 'mp-773569', 'mp-774922', 'mp-779211', 'mp-625993', 'mp-626012', 'mp-705676', 'mp-763696', 'mp-767108', 'mp-767263', 'mp-767274']\n"
     ]
    }
   ],
   "source": [
    "print(material_index)"
   ]
  },
  {
   "cell_type": "code",
   "execution_count": 21,
   "id": "4ebde14e-9f75-4a94-8f9d-ecc1351967c4",
   "metadata": {},
   "outputs": [
    {
     "data": {
      "text/plain": [
       "941"
      ]
     },
     "execution_count": 21,
     "metadata": {},
     "output_type": "execute_result"
    }
   ],
   "source": [
    "len(material_index)"
   ]
  },
  {
   "cell_type": "code",
   "execution_count": 19,
   "id": "195d3aec-e0d9-490c-94a0-aae488c30510",
   "metadata": {},
   "outputs": [
    {
     "name": "stdout",
     "output_type": "stream",
     "text": [
      "False\n"
     ]
    }
   ],
   "source": [
    "def has_duplicates(seq):\n",
    "    return len(seq) != len(set(seq))\n",
    "\n",
    "print(has_duplicates(material_index))"
   ]
  },
  {
   "cell_type": "code",
   "execution_count": 8,
   "id": "39ea0835-0b28-4198-bfef-855567c3d9b1",
   "metadata": {},
   "outputs": [
    {
     "data": {
      "text/plain": [
       "941"
      ]
     },
     "execution_count": 8,
     "metadata": {},
     "output_type": "execute_result"
    }
   ],
   "source": [
    "len(material_index)"
   ]
  },
  {
   "cell_type": "code",
   "execution_count": 9,
   "id": "5f5a6a45-e386-4eba-873d-9db17edbc494",
   "metadata": {},
   "outputs": [
    {
     "name": "stdout",
     "output_type": "stream",
     "text": [
      "Requirement already satisfied: pip in c:\\users\\white\\anaconda3\\envs\\material\\lib\\site-packages (22.2.2)\n",
      "Requirement already satisfied: setuptools in c:\\users\\white\\anaconda3\\envs\\material\\lib\\site-packages (65.3.0)\n",
      "Collecting setuptools\n",
      "  Downloading setuptools-65.4.0-py3-none-any.whl (1.2 MB)\n",
      "     ---------------------------------------- 1.2/1.2 MB 7.8 MB/s eta 0:00:00\n",
      "Installing collected packages: setuptools\n",
      "  Attempting uninstall: setuptools\n",
      "    Found existing installation: setuptools 65.3.0\n",
      "    Uninstalling setuptools-65.3.0:\n",
      "      Successfully uninstalled setuptools-65.3.0\n",
      "Successfully installed setuptools-65.4.0\n"
     ]
    }
   ],
   "source": [
    "!python -m pip install --upgrade pip setuptools"
   ]
  },
  {
   "cell_type": "code",
   "execution_count": 10,
   "id": "d387ec58-2ab0-4f47-8024-5397f2041eda",
   "metadata": {},
   "outputs": [
    {
     "name": "stdout",
     "output_type": "stream",
     "text": [
      "Requirement already satisfied: pymatgen in c:\\users\\white\\anaconda3\\envs\\material\\lib\\site-packages (2022.7.25)\n",
      "Requirement already satisfied: matplotlib>=1.5 in c:\\users\\white\\anaconda3\\envs\\material\\lib\\site-packages (from pymatgen) (3.5.2)\n",
      "Requirement already satisfied: uncertainties>=3.1.4 in c:\\users\\white\\anaconda3\\envs\\material\\lib\\site-packages (from pymatgen) (3.1.7)\n",
      "Requirement already satisfied: palettable>=3.1.1 in c:\\users\\white\\anaconda3\\envs\\material\\lib\\site-packages (from pymatgen) (3.3.0)\n",
      "Requirement already satisfied: monty>=3.0.2 in c:\\users\\white\\anaconda3\\envs\\material\\lib\\site-packages (from pymatgen) (2022.4.26)\n",
      "Requirement already satisfied: numpy>=1.20.1 in c:\\users\\white\\anaconda3\\envs\\material\\lib\\site-packages (from pymatgen) (1.23.1)\n",
      "Requirement already satisfied: tabulate in c:\\users\\white\\anaconda3\\envs\\material\\lib\\site-packages (from pymatgen) (0.8.10)\n",
      "Requirement already satisfied: plotly>=4.5.0 in c:\\users\\white\\anaconda3\\envs\\material\\lib\\site-packages (from pymatgen) (5.9.0)\n",
      "Requirement already satisfied: scipy>=1.5.0 in c:\\users\\white\\anaconda3\\envs\\material\\lib\\site-packages (from pymatgen) (1.8.1)\n",
      "Requirement already satisfied: networkx>=2.2 in c:\\users\\white\\anaconda3\\envs\\material\\lib\\site-packages (from pymatgen) (2.8.5)\n",
      "Requirement already satisfied: ruamel.yaml>=0.17.0 in c:\\users\\white\\anaconda3\\envs\\material\\lib\\site-packages (from pymatgen) (0.17.21)\n",
      "Requirement already satisfied: pandas in c:\\users\\white\\anaconda3\\envs\\material\\lib\\site-packages (from pymatgen) (1.4.3)\n",
      "Requirement already satisfied: tqdm in c:\\users\\white\\anaconda3\\envs\\material\\lib\\site-packages (from pymatgen) (4.64.0)\n",
      "Requirement already satisfied: sympy in c:\\users\\white\\anaconda3\\envs\\material\\lib\\site-packages (from pymatgen) (1.10.1)\n",
      "Requirement already satisfied: pybtex in c:\\users\\white\\anaconda3\\envs\\material\\lib\\site-packages (from pymatgen) (0.24.0)\n",
      "Requirement already satisfied: requests in c:\\users\\white\\anaconda3\\envs\\material\\lib\\site-packages (from pymatgen) (2.28.1)\n",
      "Requirement already satisfied: spglib>=1.9.9.44 in c:\\users\\white\\anaconda3\\envs\\material\\lib\\site-packages (from pymatgen) (1.16.5)\n",
      "Requirement already satisfied: pyparsing>=2.2.1 in c:\\users\\white\\anaconda3\\envs\\material\\lib\\site-packages (from matplotlib>=1.5->pymatgen) (3.0.9)\n",
      "Requirement already satisfied: cycler>=0.10 in c:\\users\\white\\anaconda3\\envs\\material\\lib\\site-packages (from matplotlib>=1.5->pymatgen) (0.11.0)\n",
      "Requirement already satisfied: fonttools>=4.22.0 in c:\\users\\white\\anaconda3\\envs\\material\\lib\\site-packages (from matplotlib>=1.5->pymatgen) (4.34.4)\n",
      "Requirement already satisfied: kiwisolver>=1.0.1 in c:\\users\\white\\anaconda3\\envs\\material\\lib\\site-packages (from matplotlib>=1.5->pymatgen) (1.4.4)\n",
      "Requirement already satisfied: packaging>=20.0 in c:\\users\\white\\anaconda3\\envs\\material\\lib\\site-packages (from matplotlib>=1.5->pymatgen) (21.3)\n",
      "Requirement already satisfied: pillow>=6.2.0 in c:\\users\\white\\anaconda3\\envs\\material\\lib\\site-packages (from matplotlib>=1.5->pymatgen) (9.2.0)\n",
      "Requirement already satisfied: python-dateutil>=2.7 in c:\\users\\white\\anaconda3\\envs\\material\\lib\\site-packages (from matplotlib>=1.5->pymatgen) (2.8.2)\n",
      "Requirement already satisfied: tenacity>=6.2.0 in c:\\users\\white\\anaconda3\\envs\\material\\lib\\site-packages (from plotly>=4.5.0->pymatgen) (8.0.1)\n",
      "Requirement already satisfied: ruamel.yaml.clib>=0.2.6 in c:\\users\\white\\anaconda3\\envs\\material\\lib\\site-packages (from ruamel.yaml>=0.17.0->pymatgen) (0.2.6)\n",
      "Requirement already satisfied: future in c:\\users\\white\\anaconda3\\envs\\material\\lib\\site-packages (from uncertainties>=3.1.4->pymatgen) (0.18.2)\n",
      "Requirement already satisfied: pytz>=2020.1 in c:\\users\\white\\anaconda3\\envs\\material\\lib\\site-packages (from pandas->pymatgen) (2022.1)\n",
      "Requirement already satisfied: latexcodec>=1.0.4 in c:\\users\\white\\anaconda3\\envs\\material\\lib\\site-packages (from pybtex->pymatgen) (2.0.1)\n",
      "Requirement already satisfied: six in c:\\users\\white\\anaconda3\\envs\\material\\lib\\site-packages (from pybtex->pymatgen) (1.16.0)\n",
      "Requirement already satisfied: PyYAML>=3.01 in c:\\users\\white\\anaconda3\\envs\\material\\lib\\site-packages (from pybtex->pymatgen) (6.0)\n",
      "Requirement already satisfied: charset-normalizer<3,>=2 in c:\\users\\white\\anaconda3\\envs\\material\\lib\\site-packages (from requests->pymatgen) (2.1.0)\n",
      "Requirement already satisfied: certifi>=2017.4.17 in c:\\users\\white\\anaconda3\\envs\\material\\lib\\site-packages (from requests->pymatgen) (2022.9.24)\n",
      "Requirement already satisfied: idna<4,>=2.5 in c:\\users\\white\\anaconda3\\envs\\material\\lib\\site-packages (from requests->pymatgen) (3.3)\n",
      "Requirement already satisfied: urllib3<1.27,>=1.21.1 in c:\\users\\white\\anaconda3\\envs\\material\\lib\\site-packages (from requests->pymatgen) (1.26.11)\n",
      "Requirement already satisfied: mpmath>=0.19 in c:\\users\\white\\anaconda3\\envs\\material\\lib\\site-packages (from sympy->pymatgen) (1.2.1)\n",
      "Requirement already satisfied: colorama in c:\\users\\white\\anaconda3\\envs\\material\\lib\\site-packages (from tqdm->pymatgen) (0.4.5)\n"
     ]
    }
   ],
   "source": [
    "!pip install pymatgen"
   ]
  },
  {
   "cell_type": "code",
   "execution_count": 11,
   "id": "b9f4bbc6-5383-49ae-8d78-fe91ba5c89c5",
   "metadata": {},
   "outputs": [
    {
     "name": "stdout",
     "output_type": "stream",
     "text": [
      "Collecting package metadata (current_repodata.json): ...working... done\n",
      "Solving environment: ...working... done\n",
      "\n",
      "# All requested packages already installed.\n",
      "\n",
      "Retrieving notices: ...working... done\n",
      "\n",
      "Note: you may need to restart the kernel to use updated packages.\n"
     ]
    }
   ],
   "source": [
    "conda install -c conda-forge pymatgen"
   ]
  },
  {
   "cell_type": "code",
   "execution_count": 12,
   "id": "dd4575a4-ddb9-4c4f-8282-0a08c002cfbe",
   "metadata": {},
   "outputs": [],
   "source": [
    "# ライブラリのインポート\n",
    "import pymatgen\n",
    "from pymatgen.ext.matproj import MPRester\n",
    "import itertools\n",
    "import pandas as pd\n",
    "\n",
    "# Materials Projectに登録して取得したAPIキーを入力\n",
    "API_KEY = 'qgGhptxR7Owa1uL6' "
   ]
  },
  {
   "cell_type": "code",
   "execution_count": 23,
   "id": "ecd786d2-32f7-4ab7-9909-aef664193f62",
   "metadata": {},
   "outputs": [],
   "source": [
    "with MPRester(API_KEY) as m:\n",
    "    df_MP = pd.DataFrame()\n",
    "    #compoundはlist型\n",
    "    for elements in material_index[0:100]:\n",
    "        compound = m.get_data(elements, data_type='vasp')\n",
    "        df_mp = pd.DataFrame(compound)           \n",
    "        df_MP = pd.concat([df_MP,df_mp])\n",
    "        \n",
    "\n",
    "#結果を保存\n",
    "df_MP.to_csv('material_piezo_list_0_100.csv')"
   ]
  },
  {
   "cell_type": "code",
   "execution_count": 24,
   "id": "618a4620-528c-4997-a633-4fa3635bcfe8",
   "metadata": {},
   "outputs": [],
   "source": [
    "with MPRester(API_KEY) as m:\n",
    "    df_MP = pd.DataFrame()\n",
    "    #compoundはlist型\n",
    "    for elements in material_index[100:200]:\n",
    "        compound = m.get_data(elements, data_type='vasp')\n",
    "        df_mp = pd.DataFrame(compound)           \n",
    "        df_MP = pd.concat([df_MP,df_mp])\n",
    "        \n",
    "\n",
    "#結果を保存\n",
    "df_MP.to_csv('material_piezo_list_100_200.csv')"
   ]
  },
  {
   "cell_type": "code",
   "execution_count": 25,
   "id": "6cb2f5c9-cc13-460a-a186-0b5360675d9c",
   "metadata": {},
   "outputs": [],
   "source": [
    "with MPRester(API_KEY) as m:\n",
    "    df_MP = pd.DataFrame()\n",
    "    #compoundはlist型\n",
    "    for elements in material_index[200:300]:\n",
    "        compound = m.get_data(elements, data_type='vasp')\n",
    "        df_mp = pd.DataFrame(compound)           \n",
    "        df_MP = pd.concat([df_MP,df_mp])\n",
    "        \n",
    "\n",
    "#結果を保存\n",
    "df_MP.to_csv('material_piezo_list_200_300.csv')"
   ]
  },
  {
   "cell_type": "code",
   "execution_count": 26,
   "id": "e509da9b-fff3-4aae-bcb4-0a979cc93138",
   "metadata": {},
   "outputs": [],
   "source": [
    "with MPRester(API_KEY) as m:\n",
    "    df_MP = pd.DataFrame()\n",
    "    #compoundはlist型\n",
    "    for elements in material_index[300:400]:\n",
    "        compound = m.get_data(elements, data_type='vasp')\n",
    "        df_mp = pd.DataFrame(compound)           \n",
    "        df_MP = pd.concat([df_MP,df_mp])\n",
    "        \n",
    "\n",
    "#結果を保存\n",
    "df_MP.to_csv('material_piezo_list_300_400.csv')"
   ]
  },
  {
   "cell_type": "code",
   "execution_count": 27,
   "id": "00402d47-5de2-4312-a10b-101633ffd5e6",
   "metadata": {},
   "outputs": [],
   "source": [
    "with MPRester(API_KEY) as m:\n",
    "    df_MP = pd.DataFrame()\n",
    "    #compoundはlist型\n",
    "    for elements in material_index[400:500]:\n",
    "        compound = m.get_data(elements, data_type='vasp')\n",
    "        df_mp = pd.DataFrame(compound)           \n",
    "        df_MP = pd.concat([df_MP,df_mp])\n",
    "        \n",
    "\n",
    "#結果を保存\n",
    "df_MP.to_csv('material_piezo_list_400_500.csv')"
   ]
  },
  {
   "cell_type": "code",
   "execution_count": 28,
   "id": "131ec3d6-b27a-47c0-98a2-53bbb8e5c278",
   "metadata": {},
   "outputs": [],
   "source": [
    "with MPRester(API_KEY) as m:\n",
    "    df_MP = pd.DataFrame()\n",
    "    #compoundはlist型\n",
    "    for elements in material_index[500:600]:\n",
    "        compound = m.get_data(elements, data_type='vasp')\n",
    "        df_mp = pd.DataFrame(compound)           \n",
    "        df_MP = pd.concat([df_MP,df_mp])\n",
    "        \n",
    "\n",
    "#結果を保存\n",
    "df_MP.to_csv('material_piezo_list_500_600.csv')"
   ]
  },
  {
   "cell_type": "code",
   "execution_count": 29,
   "id": "32cd6380-0ba2-4286-a5fe-7ff64259a006",
   "metadata": {},
   "outputs": [],
   "source": [
    "with MPRester(API_KEY) as m:\n",
    "    df_MP = pd.DataFrame()\n",
    "    #compoundはlist型\n",
    "    for elements in material_index[600:700]:\n",
    "        compound = m.get_data(elements, data_type='vasp')\n",
    "        df_mp = pd.DataFrame(compound)           \n",
    "        df_MP = pd.concat([df_MP,df_mp])\n",
    "        \n",
    "\n",
    "#結果を保存\n",
    "df_MP.to_csv('material_piezo_list_600_700.csv')"
   ]
  },
  {
   "cell_type": "code",
   "execution_count": 30,
   "id": "49394e02-dbeb-474b-a9e6-0c8c669cac53",
   "metadata": {},
   "outputs": [],
   "source": [
    "with MPRester(API_KEY) as m:\n",
    "    df_MP = pd.DataFrame()\n",
    "    #compoundはlist型\n",
    "    for elements in material_index[700:800]:\n",
    "        compound = m.get_data(elements, data_type='vasp')\n",
    "        df_mp = pd.DataFrame(compound)           \n",
    "        df_MP = pd.concat([df_MP,df_mp])\n",
    "        \n",
    "\n",
    "#結果を保存\n",
    "df_MP.to_csv('material_piezo_list_700_800.csv')"
   ]
  },
  {
   "cell_type": "code",
   "execution_count": 31,
   "id": "f5ab5f00-4052-4b2f-9efd-2d0a3fe47b46",
   "metadata": {},
   "outputs": [],
   "source": [
    "with MPRester(API_KEY) as m:\n",
    "    df_MP = pd.DataFrame()\n",
    "    #compoundはlist型\n",
    "    for elements in material_index[800:900]:\n",
    "        compound = m.get_data(elements, data_type='vasp')\n",
    "        df_mp = pd.DataFrame(compound)           \n",
    "        df_MP = pd.concat([df_MP,df_mp])\n",
    "        \n",
    "\n",
    "#結果を保存\n",
    "df_MP.to_csv('material_piezo_list_800_900.csv')"
   ]
  },
  {
   "cell_type": "code",
   "execution_count": 34,
   "id": "ebac2b16-59af-45b0-9834-ed2909fca440",
   "metadata": {},
   "outputs": [],
   "source": [
    "with MPRester(API_KEY) as m:\n",
    "    df_MP = pd.DataFrame()\n",
    "    #compoundはlist型\n",
    "    for elements in material_index[900:len(material_index)+1]:\n",
    "        compound = m.get_data(elements, data_type='vasp')\n",
    "        df_mp = pd.DataFrame(compound)           \n",
    "        df_MP = pd.concat([df_MP,df_mp])\n",
    "        \n",
    "\n",
    "#結果を保存\n",
    "df_MP.to_csv('material_piezo_list_900_.csv')"
   ]
  },
  {
   "cell_type": "code",
   "execution_count": 35,
   "id": "92b786b4-fb86-4706-8fa9-10dc3940000f",
   "metadata": {},
   "outputs": [],
   "source": [
    "material_index_404 = ['mp-24948', 'mp-764673', 'mp-615152', 'mp-764425', 'mp-767274', 'mp-24942', 'mp-561689', 'mp-762221', 'mp-771637', 'mp-765904', 'mp-776939', 'mp-765254', 'mp-775531', 'mp-626075', 'mp-765867', 'mp-765359', 'mp-766864', 'mp-561926', 'mp-625052', 'mp-770149', 'mp-764697', 'mp-765553', 'mp-765859', 'mp-767069', 'mp-770603', 'mp-767263', 'mp-765877', 'mp-777130', 'mp-770252', 'mp-765334', 'mp-766149', 'mp-766842', 'mp-771797', 'mp-626878', 'mp-763348', 'mp-763498', 'mp-625717', 'mp-763052', 'mp-781958', 'mp-561804', 'mp-25503', 'mp-772012', 'mp-778780', 'mp-773569', 'mp-24864', 'mp-25483', 'mp-765198', 'mp-626902', 'mp-764943', 'mp-774101', 'mp-766949', 'mp-765272', 'mp-559001', 'mp-763136', 'mp-675163', 'mp-774147', 'mp-557733', 'mp-626102', 'mp-779211', 'mp-625081', 'mp-767108', 'mp-765875', 'mp-32479', 'mp-765437', 'mp-780753', 'mp-764716', 'mp-765135', 'mp-763696', 'mp-766941', 'mp-559146', 'mp-626881', 'mp-764144', 'mp-766964', 'mp-761325', 'mp-764895', 'mp-549166', 'mp-774149', 'mp-25119', 'mp-557515', 'mp-767123', 'mp-765444', 'mp-561475', 'mp-774003', 'mp-765436', 'mp-690635', 'mp-765525', 'mp-625056', 'mp-542980', 'mp-765182', 'mp-764320', 'mp-31649', 'mp-767044', 'mp-764312', 'mp-767367', 'mp-614005', 'mp-782714', 'mp-853167', 'mp-31935', 'mp-766115', 'mp-613442', 'mp-12992', 'mp-699343', 'mp-764829', 'mp-853130', 'mp-625953', 'mp-765849', 'mp-557291', 'mp-565669', 'mp-772246', 'mp-763323', 'mp-776563', 'mp-779948', 'mp-849318', 'mp-31928', 'mp-565192', 'mp-764338', 'mp-557739', 'mp-764285', 'mp-767186', 'mp-31785', 'mp-773224', 'mp-766909', 'mp-775985', 'mp-32057', 'mp-763095', 'mp-765532', 'mp-505200', 'mp-24927', 'mp-853165', 'mp-766801', 'mp-24932', 'mp-639402', 'mp-770986', 'mp-766917', 'mp-764698', 'mp-762631']\n",
    "with MPRester(API_KEY) as m:\n",
    "    df_MP = pd.DataFrame()\n",
    "    #compoundはlist型\n",
    "    for elements in material_index_404:\n",
    "        compound = m.get_data(elements, data_type='vasp')\n",
    "        df_mp = pd.DataFrame(compound)           \n",
    "        df_MP = pd.concat([df_MP,df_mp])\n",
    "        \n",
    "\n",
    "#結果を保存\n",
    "df_MP.to_csv('material_piezo_list_not_found.csv')"
   ]
  },
  {
   "cell_type": "code",
   "execution_count": 16,
   "id": "0f652c73-46df-4cf7-8eb5-cca9f11523af",
   "metadata": {},
   "outputs": [
    {
     "data": {
      "text/plain": [
       "(805, 29)"
      ]
     },
     "execution_count": 16,
     "metadata": {},
     "output_type": "execute_result"
    }
   ],
   "source": [
    "df_MP.shape"
   ]
  },
  {
   "cell_type": "code",
   "execution_count": 17,
   "id": "aa696cfb-a792-432f-9f8a-9db618e10aa8",
   "metadata": {},
   "outputs": [
    {
     "data": {
      "text/html": [
       "<div>\n",
       "<style scoped>\n",
       "    .dataframe tbody tr th:only-of-type {\n",
       "        vertical-align: middle;\n",
       "    }\n",
       "\n",
       "    .dataframe tbody tr th {\n",
       "        vertical-align: top;\n",
       "    }\n",
       "\n",
       "    .dataframe thead th {\n",
       "        text-align: right;\n",
       "    }\n",
       "</style>\n",
       "<table border=\"1\" class=\"dataframe\">\n",
       "  <thead>\n",
       "    <tr style=\"text-align: right;\">\n",
       "      <th></th>\n",
       "      <th>energy</th>\n",
       "      <th>energy_per_atom</th>\n",
       "      <th>volume</th>\n",
       "      <th>formation_energy_per_atom</th>\n",
       "      <th>nsites</th>\n",
       "      <th>unit_cell_formula</th>\n",
       "      <th>pretty_formula</th>\n",
       "      <th>is_hubbard</th>\n",
       "      <th>elements</th>\n",
       "      <th>nelements</th>\n",
       "      <th>...</th>\n",
       "      <th>cif</th>\n",
       "      <th>total_magnetization</th>\n",
       "      <th>material_id</th>\n",
       "      <th>oxide_type</th>\n",
       "      <th>tags</th>\n",
       "      <th>elasticity</th>\n",
       "      <th>piezo</th>\n",
       "      <th>diel</th>\n",
       "      <th>deprecated</th>\n",
       "      <th>full_formula</th>\n",
       "    </tr>\n",
       "  </thead>\n",
       "  <tbody>\n",
       "    <tr>\n",
       "      <th>0</th>\n",
       "      <td>-4.917780</td>\n",
       "      <td>-2.458890</td>\n",
       "      <td>73.219559</td>\n",
       "      <td>-0.280621</td>\n",
       "      <td>2</td>\n",
       "      <td>{'Ag': 1.0, 'I': 1.0}</td>\n",
       "      <td>AgI</td>\n",
       "      <td>False</td>\n",
       "      <td>[Ag, I]</td>\n",
       "      <td>2</td>\n",
       "      <td>...</td>\n",
       "      <td># generated using pymatgen\\ndata_AgI\\n_symmetr...</td>\n",
       "      <td>1.000000e-07</td>\n",
       "      <td>mp-22925</td>\n",
       "      <td>None</td>\n",
       "      <td>[Silver iodide - gamma, Silver iodide, Silver ...</td>\n",
       "      <td>{'G_Reuss': 2.0, 'G_VRH': 5.0, 'G_Voigt': 8.0,...</td>\n",
       "      <td>{'eij_max': 0.1584199999999997, 'piezoelectric...</td>\n",
       "      <td>{'e_electronic': [[5.0266240000000115, 0.0, 0....</td>\n",
       "      <td>False</td>\n",
       "      <td>Ag1I1</td>\n",
       "    </tr>\n",
       "    <tr>\n",
       "      <th>0</th>\n",
       "      <td>-4.976932</td>\n",
       "      <td>-2.488466</td>\n",
       "      <td>72.827181</td>\n",
       "      <td>-0.463714</td>\n",
       "      <td>2</td>\n",
       "      <td>{'Cd': 1.0, 'Te': 1.0}</td>\n",
       "      <td>CdTe</td>\n",
       "      <td>False</td>\n",
       "      <td>[Cd, Te]</td>\n",
       "      <td>2</td>\n",
       "      <td>...</td>\n",
       "      <td># generated using pymatgen\\ndata_CdTe\\n_symmet...</td>\n",
       "      <td>0.000000e+00</td>\n",
       "      <td>mp-406</td>\n",
       "      <td>None</td>\n",
       "      <td>[Cadmium tellurium - nanocrystalline, Cadmium ...</td>\n",
       "      <td>{'G_Reuss': 13.0, 'G_VRH': 14.0, 'G_Voigt': 15...</td>\n",
       "      <td>{'eij_max': 0.008396666666666719, 'piezoelectr...</td>\n",
       "      <td>{'e_electronic': [[9.309292000000019, 0.0, 0.0...</td>\n",
       "      <td>False</td>\n",
       "      <td>Cd1Te1</td>\n",
       "    </tr>\n",
       "    <tr>\n",
       "      <th>0</th>\n",
       "      <td>-17.422918</td>\n",
       "      <td>-8.711459</td>\n",
       "      <td>11.918569</td>\n",
       "      <td>-1.395528</td>\n",
       "      <td>2</td>\n",
       "      <td>{'B': 1.0, 'N': 1.0}</td>\n",
       "      <td>BN</td>\n",
       "      <td>False</td>\n",
       "      <td>[B, N]</td>\n",
       "      <td>2</td>\n",
       "      <td>...</td>\n",
       "      <td># generated using pymatgen\\ndata_BN\\n_symmetry...</td>\n",
       "      <td>0.000000e+00</td>\n",
       "      <td>mp-1639</td>\n",
       "      <td>None</td>\n",
       "      <td>[High pressure experimental phase, Boron nitri...</td>\n",
       "      <td>{'G_Reuss': 365.0, 'G_VRH': 374.0, 'G_Voigt': ...</td>\n",
       "      <td>{'eij_max': 0.8967600000000003, 'piezoelectric...</td>\n",
       "      <td>{'e_electronic': [[4.6166129999999885, 0.0, 0....</td>\n",
       "      <td>False</td>\n",
       "      <td>B1N1</td>\n",
       "    </tr>\n",
       "    <tr>\n",
       "      <th>0</th>\n",
       "      <td>-7.018682</td>\n",
       "      <td>-3.509341</td>\n",
       "      <td>40.475671</td>\n",
       "      <td>-1.143116</td>\n",
       "      <td>2</td>\n",
       "      <td>{'Zn': 1.0, 'S': 1.0}</td>\n",
       "      <td>ZnS</td>\n",
       "      <td>False</td>\n",
       "      <td>[Zn, S]</td>\n",
       "      <td>2</td>\n",
       "      <td>...</td>\n",
       "      <td># generated using pymatgen\\ndata_ZnS\\n_symmetr...</td>\n",
       "      <td>0.000000e+00</td>\n",
       "      <td>mp-10695</td>\n",
       "      <td>None</td>\n",
       "      <td>[Zinc sulfide (1/1), Sphalerite, High pressure...</td>\n",
       "      <td>{'G_Reuss': 31.0, 'G_VRH': 33.0, 'G_Voigt': 36...</td>\n",
       "      <td>{'eij_max': 0.05316000000000007, 'piezoelectri...</td>\n",
       "      <td>{'e_electronic': [[5.903599999999994, 0.0, 0.0...</td>\n",
       "      <td>False</td>\n",
       "      <td>Zn1S1</td>\n",
       "    </tr>\n",
       "    <tr>\n",
       "      <th>0</th>\n",
       "      <td>-5.349359</td>\n",
       "      <td>-2.674679</td>\n",
       "      <td>59.145603</td>\n",
       "      <td>-0.473299</td>\n",
       "      <td>2</td>\n",
       "      <td>{'Zn': 1.0, 'Te': 1.0}</td>\n",
       "      <td>ZnTe</td>\n",
       "      <td>False</td>\n",
       "      <td>[Zn, Te]</td>\n",
       "      <td>2</td>\n",
       "      <td>...</td>\n",
       "      <td># generated using pymatgen\\ndata_ZnTe\\n_symmet...</td>\n",
       "      <td>0.000000e+00</td>\n",
       "      <td>mp-2176</td>\n",
       "      <td>None</td>\n",
       "      <td>[High pressure experimental phase, Zinc tellur...</td>\n",
       "      <td>{'G_Reuss': 21.0, 'G_VRH': 22.0, 'G_Voigt': 24...</td>\n",
       "      <td>{'eij_max': 0.11930999999999999, 'piezoelectri...</td>\n",
       "      <td>{'e_electronic': [[9.017235000000003, 0.0, 0.0...</td>\n",
       "      <td>False</td>\n",
       "      <td>Zn1Te1</td>\n",
       "    </tr>\n",
       "    <tr>\n",
       "      <th>0</th>\n",
       "      <td>-9.087461</td>\n",
       "      <td>-4.543731</td>\n",
       "      <td>24.820480</td>\n",
       "      <td>-1.791167</td>\n",
       "      <td>2</td>\n",
       "      <td>{'Zn': 1.0, 'O': 1.0}</td>\n",
       "      <td>ZnO</td>\n",
       "      <td>False</td>\n",
       "      <td>[Zn, O]</td>\n",
       "      <td>2</td>\n",
       "      <td>...</td>\n",
       "      <td># generated using pymatgen\\ndata_ZnO\\n_symmetr...</td>\n",
       "      <td>0.000000e+00</td>\n",
       "      <td>mp-1986</td>\n",
       "      <td>oxide</td>\n",
       "      <td>[Zinc oxide - zinc-blende-type, Zinc oxide]</td>\n",
       "      <td>{'G_Reuss': 33.0, 'G_VRH': 40.0, 'G_Voigt': 47...</td>\n",
       "      <td>{'eij_max': 0.6559000000000009, 'piezoelectric...</td>\n",
       "      <td>{'e_electronic': [[5.804079000000001, 0.0, 0.0...</td>\n",
       "      <td>False</td>\n",
       "      <td>Zn1O1</td>\n",
       "    </tr>\n",
       "    <tr>\n",
       "      <th>0</th>\n",
       "      <td>-6.185968</td>\n",
       "      <td>-3.092984</td>\n",
       "      <td>47.337653</td>\n",
       "      <td>-0.715298</td>\n",
       "      <td>2</td>\n",
       "      <td>{'Zn': 1.0, 'Se': 1.0}</td>\n",
       "      <td>ZnSe</td>\n",
       "      <td>False</td>\n",
       "      <td>[Zn, Se]</td>\n",
       "      <td>2</td>\n",
       "      <td>...</td>\n",
       "      <td># generated using pymatgen\\ndata_ZnSe\\n_symmet...</td>\n",
       "      <td>0.000000e+00</td>\n",
       "      <td>mp-1190</td>\n",
       "      <td>None</td>\n",
       "      <td>[Zinc selenide, Zinc selenide - thin film, Zin...</td>\n",
       "      <td>{'G_Reuss': 26.0, 'G_VRH': 28.0, 'G_Voigt': 29...</td>\n",
       "      <td>{'eij_max': 0.057089999999999946, 'piezoelectr...</td>\n",
       "      <td>{'e_electronic': [[7.321940000000008, 0.0, 0.0...</td>\n",
       "      <td>False</td>\n",
       "      <td>Zn1Se1</td>\n",
       "    </tr>\n",
       "    <tr>\n",
       "      <th>0</th>\n",
       "      <td>-14.192929</td>\n",
       "      <td>-7.096465</td>\n",
       "      <td>13.980552</td>\n",
       "      <td>-3.103925</td>\n",
       "      <td>2</td>\n",
       "      <td>{'Be': 1.0, 'O': 1.0}</td>\n",
       "      <td>BeO</td>\n",
       "      <td>False</td>\n",
       "      <td>[Be, O]</td>\n",
       "      <td>2</td>\n",
       "      <td>...</td>\n",
       "      <td># generated using pymatgen\\ndata_BeO\\n_symmetr...</td>\n",
       "      <td>0.000000e+00</td>\n",
       "      <td>mp-1778</td>\n",
       "      <td>oxide</td>\n",
       "      <td>[High pressure experimental phase, Beryllium o...</td>\n",
       "      <td>{'G_Reuss': 115.0, 'G_VRH': 130.0, 'G_Voigt': ...</td>\n",
       "      <td>{'eij_max': 0.11965000000000003, 'piezoelectri...</td>\n",
       "      <td>{'e_electronic': [[3.1129329999999986, 0.0, 0....</td>\n",
       "      <td>False</td>\n",
       "      <td>Be1O1</td>\n",
       "    </tr>\n",
       "    <tr>\n",
       "      <th>0</th>\n",
       "      <td>-12.306598</td>\n",
       "      <td>-6.153299</td>\n",
       "      <td>23.480470</td>\n",
       "      <td>-0.663018</td>\n",
       "      <td>2</td>\n",
       "      <td>{'Ga': 1.0, 'N': 1.0}</td>\n",
       "      <td>GaN</td>\n",
       "      <td>False</td>\n",
       "      <td>[Ga, N]</td>\n",
       "      <td>2</td>\n",
       "      <td>...</td>\n",
       "      <td># generated using pymatgen\\ndata_GaN\\n_symmetr...</td>\n",
       "      <td>0.000000e+00</td>\n",
       "      <td>mp-830</td>\n",
       "      <td>None</td>\n",
       "      <td>[Gallium nitride - ZnS-type, Gallium nitride (...</td>\n",
       "      <td>{'G_Reuss': 95.0, 'G_VRH': 104.0, 'G_Voigt': 1...</td>\n",
       "      <td>{'eij_max': 0.12861999999999987, 'piezoelectri...</td>\n",
       "      <td>{'e_electronic': [[6.074597999999997, 0.0, 0.0...</td>\n",
       "      <td>False</td>\n",
       "      <td>Ga1N1</td>\n",
       "    </tr>\n",
       "    <tr>\n",
       "      <th>0</th>\n",
       "      <td>-5.916842</td>\n",
       "      <td>-2.958421</td>\n",
       "      <td>54.962871</td>\n",
       "      <td>-0.146813</td>\n",
       "      <td>2</td>\n",
       "      <td>{'Cu': 1.0, 'I': 1.0}</td>\n",
       "      <td>CuI</td>\n",
       "      <td>False</td>\n",
       "      <td>[Cu, I]</td>\n",
       "      <td>2</td>\n",
       "      <td>...</td>\n",
       "      <td># generated using pymatgen\\ndata_CuI\\n_symmetr...</td>\n",
       "      <td>1.181700e-03</td>\n",
       "      <td>mp-22895</td>\n",
       "      <td>None</td>\n",
       "      <td>[Copper(I) iodide, Marshite, Marshite high]</td>\n",
       "      <td>{'G_Reuss': 13.0, 'G_VRH': 15.0, 'G_Voigt': 16...</td>\n",
       "      <td>{'eij_max': 0.13569666666666672, 'piezoelectri...</td>\n",
       "      <td>{'e_electronic': [[6.352149000000007, 0.0, 0.0...</td>\n",
       "      <td>False</td>\n",
       "      <td>Cu1I1</td>\n",
       "    </tr>\n",
       "  </tbody>\n",
       "</table>\n",
       "<p>10 rows × 29 columns</p>\n",
       "</div>"
      ],
      "text/plain": [
       "      energy  energy_per_atom     volume  formation_energy_per_atom  nsites  \\\n",
       "0  -4.917780        -2.458890  73.219559                  -0.280621       2   \n",
       "0  -4.976932        -2.488466  72.827181                  -0.463714       2   \n",
       "0 -17.422918        -8.711459  11.918569                  -1.395528       2   \n",
       "0  -7.018682        -3.509341  40.475671                  -1.143116       2   \n",
       "0  -5.349359        -2.674679  59.145603                  -0.473299       2   \n",
       "0  -9.087461        -4.543731  24.820480                  -1.791167       2   \n",
       "0  -6.185968        -3.092984  47.337653                  -0.715298       2   \n",
       "0 -14.192929        -7.096465  13.980552                  -3.103925       2   \n",
       "0 -12.306598        -6.153299  23.480470                  -0.663018       2   \n",
       "0  -5.916842        -2.958421  54.962871                  -0.146813       2   \n",
       "\n",
       "        unit_cell_formula pretty_formula  is_hubbard  elements  nelements  \\\n",
       "0   {'Ag': 1.0, 'I': 1.0}            AgI       False   [Ag, I]          2   \n",
       "0  {'Cd': 1.0, 'Te': 1.0}           CdTe       False  [Cd, Te]          2   \n",
       "0    {'B': 1.0, 'N': 1.0}             BN       False    [B, N]          2   \n",
       "0   {'Zn': 1.0, 'S': 1.0}            ZnS       False   [Zn, S]          2   \n",
       "0  {'Zn': 1.0, 'Te': 1.0}           ZnTe       False  [Zn, Te]          2   \n",
       "0   {'Zn': 1.0, 'O': 1.0}            ZnO       False   [Zn, O]          2   \n",
       "0  {'Zn': 1.0, 'Se': 1.0}           ZnSe       False  [Zn, Se]          2   \n",
       "0   {'Be': 1.0, 'O': 1.0}            BeO       False   [Be, O]          2   \n",
       "0   {'Ga': 1.0, 'N': 1.0}            GaN       False   [Ga, N]          2   \n",
       "0   {'Cu': 1.0, 'I': 1.0}            CuI       False   [Cu, I]          2   \n",
       "\n",
       "   ...                                                cif total_magnetization  \\\n",
       "0  ...  # generated using pymatgen\\ndata_AgI\\n_symmetr...        1.000000e-07   \n",
       "0  ...  # generated using pymatgen\\ndata_CdTe\\n_symmet...        0.000000e+00   \n",
       "0  ...  # generated using pymatgen\\ndata_BN\\n_symmetry...        0.000000e+00   \n",
       "0  ...  # generated using pymatgen\\ndata_ZnS\\n_symmetr...        0.000000e+00   \n",
       "0  ...  # generated using pymatgen\\ndata_ZnTe\\n_symmet...        0.000000e+00   \n",
       "0  ...  # generated using pymatgen\\ndata_ZnO\\n_symmetr...        0.000000e+00   \n",
       "0  ...  # generated using pymatgen\\ndata_ZnSe\\n_symmet...        0.000000e+00   \n",
       "0  ...  # generated using pymatgen\\ndata_BeO\\n_symmetr...        0.000000e+00   \n",
       "0  ...  # generated using pymatgen\\ndata_GaN\\n_symmetr...        0.000000e+00   \n",
       "0  ...  # generated using pymatgen\\ndata_CuI\\n_symmetr...        1.181700e-03   \n",
       "\n",
       "   material_id oxide_type                                               tags  \\\n",
       "0     mp-22925       None  [Silver iodide - gamma, Silver iodide, Silver ...   \n",
       "0       mp-406       None  [Cadmium tellurium - nanocrystalline, Cadmium ...   \n",
       "0      mp-1639       None  [High pressure experimental phase, Boron nitri...   \n",
       "0     mp-10695       None  [Zinc sulfide (1/1), Sphalerite, High pressure...   \n",
       "0      mp-2176       None  [High pressure experimental phase, Zinc tellur...   \n",
       "0      mp-1986      oxide        [Zinc oxide - zinc-blende-type, Zinc oxide]   \n",
       "0      mp-1190       None  [Zinc selenide, Zinc selenide - thin film, Zin...   \n",
       "0      mp-1778      oxide  [High pressure experimental phase, Beryllium o...   \n",
       "0       mp-830       None  [Gallium nitride - ZnS-type, Gallium nitride (...   \n",
       "0     mp-22895       None        [Copper(I) iodide, Marshite, Marshite high]   \n",
       "\n",
       "                                          elasticity  \\\n",
       "0  {'G_Reuss': 2.0, 'G_VRH': 5.0, 'G_Voigt': 8.0,...   \n",
       "0  {'G_Reuss': 13.0, 'G_VRH': 14.0, 'G_Voigt': 15...   \n",
       "0  {'G_Reuss': 365.0, 'G_VRH': 374.0, 'G_Voigt': ...   \n",
       "0  {'G_Reuss': 31.0, 'G_VRH': 33.0, 'G_Voigt': 36...   \n",
       "0  {'G_Reuss': 21.0, 'G_VRH': 22.0, 'G_Voigt': 24...   \n",
       "0  {'G_Reuss': 33.0, 'G_VRH': 40.0, 'G_Voigt': 47...   \n",
       "0  {'G_Reuss': 26.0, 'G_VRH': 28.0, 'G_Voigt': 29...   \n",
       "0  {'G_Reuss': 115.0, 'G_VRH': 130.0, 'G_Voigt': ...   \n",
       "0  {'G_Reuss': 95.0, 'G_VRH': 104.0, 'G_Voigt': 1...   \n",
       "0  {'G_Reuss': 13.0, 'G_VRH': 15.0, 'G_Voigt': 16...   \n",
       "\n",
       "                                               piezo  \\\n",
       "0  {'eij_max': 0.1584199999999997, 'piezoelectric...   \n",
       "0  {'eij_max': 0.008396666666666719, 'piezoelectr...   \n",
       "0  {'eij_max': 0.8967600000000003, 'piezoelectric...   \n",
       "0  {'eij_max': 0.05316000000000007, 'piezoelectri...   \n",
       "0  {'eij_max': 0.11930999999999999, 'piezoelectri...   \n",
       "0  {'eij_max': 0.6559000000000009, 'piezoelectric...   \n",
       "0  {'eij_max': 0.057089999999999946, 'piezoelectr...   \n",
       "0  {'eij_max': 0.11965000000000003, 'piezoelectri...   \n",
       "0  {'eij_max': 0.12861999999999987, 'piezoelectri...   \n",
       "0  {'eij_max': 0.13569666666666672, 'piezoelectri...   \n",
       "\n",
       "                                                diel deprecated full_formula  \n",
       "0  {'e_electronic': [[5.0266240000000115, 0.0, 0....      False        Ag1I1  \n",
       "0  {'e_electronic': [[9.309292000000019, 0.0, 0.0...      False       Cd1Te1  \n",
       "0  {'e_electronic': [[4.6166129999999885, 0.0, 0....      False         B1N1  \n",
       "0  {'e_electronic': [[5.903599999999994, 0.0, 0.0...      False        Zn1S1  \n",
       "0  {'e_electronic': [[9.017235000000003, 0.0, 0.0...      False       Zn1Te1  \n",
       "0  {'e_electronic': [[5.804079000000001, 0.0, 0.0...      False        Zn1O1  \n",
       "0  {'e_electronic': [[7.321940000000008, 0.0, 0.0...      False       Zn1Se1  \n",
       "0  {'e_electronic': [[3.1129329999999986, 0.0, 0....      False        Be1O1  \n",
       "0  {'e_electronic': [[6.074597999999997, 0.0, 0.0...      False        Ga1N1  \n",
       "0  {'e_electronic': [[6.352149000000007, 0.0, 0.0...      False        Cu1I1  \n",
       "\n",
       "[10 rows x 29 columns]"
      ]
     },
     "execution_count": 17,
     "metadata": {},
     "output_type": "execute_result"
    }
   ],
   "source": [
    "df_MP.head(10)"
   ]
  },
  {
   "cell_type": "code",
   "execution_count": null,
   "id": "590c3890-a557-4c40-8033-2d7f2d73ee7b",
   "metadata": {},
   "outputs": [],
   "source": []
  }
 ],
 "metadata": {
  "kernelspec": {
   "display_name": "Python 3 (ipykernel)",
   "language": "python",
   "name": "python3"
  },
  "language_info": {
   "codemirror_mode": {
    "name": "ipython",
    "version": 3
   },
   "file_extension": ".py",
   "mimetype": "text/x-python",
   "name": "python",
   "nbconvert_exporter": "python",
   "pygments_lexer": "ipython3",
   "version": "3.9.12"
  }
 },
 "nbformat": 4,
 "nbformat_minor": 5
}

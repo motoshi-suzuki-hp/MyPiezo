{
 "cells": [
  {
   "cell_type": "code",
   "execution_count": 1,
   "id": "fb279a82-1999-4bd8-95c1-65dd39918863",
   "metadata": {},
   "outputs": [],
   "source": [
    "import json"
   ]
  },
  {
   "cell_type": "code",
   "execution_count": 13,
   "id": "02bc005c-1f91-4f06-8a87-96f8ae69bb6d",
   "metadata": {},
   "outputs": [],
   "source": [
    "json_open = open('test.json', 'r')\n",
    "json_dict = json.load(json_open)"
   ]
  },
  {
   "cell_type": "code",
   "execution_count": 14,
   "id": "16c71ab7-af37-4d3f-aec3-905e9f875dfa",
   "metadata": {},
   "outputs": [
    {
     "name": "stdout",
     "output_type": "stream",
     "text": [
      "json_dict:<class 'dict'>\n"
     ]
    }
   ],
   "source": [
    "print('json_dict:{}'.format(type(json_dict)))"
   ]
  },
  {
   "cell_type": "code",
   "execution_count": 15,
   "id": "9315c6c1-bdae-46cd-a111-b6c3b9b2f792",
   "metadata": {},
   "outputs": [
    {
     "name": "stdout",
     "output_type": "stream",
     "text": [
      "book1の情報：{'title': 'Python Beginners', 'year': 2005, 'page': 399}\n"
     ]
    }
   ],
   "source": [
    "print('book1の情報：{}'.format(json_dict['book1']))"
   ]
  },
  {
   "cell_type": "code",
   "execution_count": 16,
   "id": "c7bf8a0a-396e-494b-ab8b-be304db33352",
   "metadata": {},
   "outputs": [
    {
     "name": "stdout",
     "output_type": "stream",
     "text": [
      "book3のページ数:344\n"
     ]
    }
   ],
   "source": [
    "print('book3のページ数:{}'.format(json_dict['book3']['page']))"
   ]
  },
  {
   "cell_type": "code",
   "execution_count": 17,
   "id": "12bee972-87f1-4b70-8b28-ff7c92b19a13",
   "metadata": {},
   "outputs": [
    {
     "name": "stdout",
     "output_type": "stream",
     "text": [
      "book2:{'title': 'Python Developers', 'year': 2006, 'page': 650}\n",
      "book4:{'title': 'Python Dictionary', 'year': 2012, 'page': 1024}\n"
     ]
    }
   ],
   "source": [
    "for x in json_dict:\n",
    "    book_page = json_dict[x]['page']\n",
    "\n",
    "    if(book_page >= 500):\n",
    "        print('{0}:{1}'.format(x, json_dict[x]))"
   ]
  },
  {
   "cell_type": "code",
   "execution_count": null,
   "id": "abcc7e5e-d807-4a34-8a67-aef633ed4236",
   "metadata": {},
   "outputs": [],
   "source": []
  }
 ],
 "metadata": {
  "kernelspec": {
   "display_name": "Python 3 (ipykernel)",
   "language": "python",
   "name": "python3"
  },
  "language_info": {
   "codemirror_mode": {
    "name": "ipython",
    "version": 3
   },
   "file_extension": ".py",
   "mimetype": "text/x-python",
   "name": "python",
   "nbconvert_exporter": "python",
   "pygments_lexer": "ipython3",
   "version": "3.9.12"
  }
 },
 "nbformat": 4,
 "nbformat_minor": 5
}
